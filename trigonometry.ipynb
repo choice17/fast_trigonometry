{
 "cells": [
  {
   "cell_type": "code",
   "execution_count": 293,
   "metadata": {},
   "outputs": [],
   "source": [
    "# fast trigonometry"
   ]
  },
  {
   "cell_type": "markdown",
   "metadata": {},
   "source": [
    "# 1. Arctan"
   ]
  },
  {
   "cell_type": "code",
   "execution_count": 1,
   "metadata": {},
   "outputs": [],
   "source": [
    "import numpy as np"
   ]
  },
  {
   "cell_type": "code",
   "execution_count": 2,
   "metadata": {},
   "outputs": [],
   "source": [
    "def quart(x):\n",
    "    m = x.shape[0]\n",
    "    X = np.empty((m, 4))\n",
    "    X[:,0] = x ; X[:,1] = x * x; X[:,2] = x * x * x ; X[:,3] = X[:,1] * X[:,1]\n",
    "    return X\n",
    "\n",
    "def cubic(x):\n",
    "    m = x.shape[0]\n",
    "    X = np.empty((m, 3))\n",
    "    X[:,0] = x ; X[:,1] = x * x; X[:,2] = x * x * x\n",
    "    return X\n",
    "\n",
    "def cubic2(x):\n",
    "    m = x.shape[0]\n",
    "    X = np.empty((m, 3))\n",
    "    x2 = x * x\n",
    "    X[:,0] = x ; X[:,1] = x2 ; X[:,2] = x2 * x2 * x2\n",
    "    return X\n",
    "\n",
    "def quad(x):\n",
    "    m = x.shape[0]\n",
    "    X = np.empty((m, 2))\n",
    "    X[:,0] = x ; X[:,1] = x * x;\n",
    "    return X\n",
    "\n",
    "def quad2(x):\n",
    "    m = x.shape[0]\n",
    "    X = np.empty((m, 2))\n",
    "    X[:,0] = x * x ; X[:,1] = x ** 4;\n",
    "    return X\n",
    "\n",
    "def sin2(x):\n",
    "    m = x.shape[0]\n",
    "    X = np.empty((m, 4))\n",
    "    X[:,0] = x\n",
    "    X[:,1] = x ** 3\n",
    "    X[:,2] = x ** 5\n",
    "    X[:,3] = x ** 7\n",
    "    return X\n",
    "    \n",
    "    \n",
    "def linear(x):\n",
    "    X = np.expand_dims(x,1)\n",
    "    return X"
   ]
  },
  {
   "cell_type": "code",
   "execution_count": 199,
   "metadata": {},
   "outputs": [
    {
     "data": {
      "text/plain": [
       "0.7853981633974483"
      ]
     },
     "execution_count": 199,
     "metadata": {},
     "output_type": "execute_result"
    }
   ],
   "source": [
    "np.pi/4"
   ]
  },
  {
   "cell_type": "code",
   "execution_count": 200,
   "metadata": {},
   "outputs": [
    {
     "name": "stdout",
     "output_type": "stream",
     "text": [
      "Range low:0.100000 high:1.570796\n"
     ]
    }
   ],
   "source": [
    "from sklearn.linear_model import LinearRegression\n",
    "# 1. a + bx + cx^2 + dx^3a\n",
    "met = cubic\n",
    "def genData(_size, low, high, tri_gt, rand=1):\n",
    "    #x = np.clip(np.abs(np.random.randn(_size)) * (1) + 0.5,0, 1).astype(np.float32)\n",
    "    if rand == 0:\n",
    "        x = np.linspace(low,high,_size)\n",
    "    else:\n",
    "        x = np.clip(np.abs(np.random.randn(_size)) * (high - low) + low, low, high)\n",
    "    #\n",
    "    gt = tri_gt(x)\n",
    "    print(\"Range low:%f high:%f\" % (np.min(x), np.max(x)))\n",
    "    return x, gt\n",
    "_size = 1000000\n",
    "low = 0.1\n",
    "high = np.pi/2\n",
    "x, gt = genData(_size, low, high, np.arctan)"
   ]
  },
  {
   "cell_type": "code",
   "execution_count": 298,
   "metadata": {
    "scrolled": true
   },
   "outputs": [
    {
     "name": "stdout",
     "output_type": "stream",
     "text": [
      "[ 1.14204208 -0.38970186  0.04819603]\n",
      "-0.015511039430889384\n"
     ]
    }
   ],
   "source": [
    "def fitModel(x, met, gt, v=0):\n",
    "    X = met(x)\n",
    "    model = LinearRegression()\n",
    "    model.fit(X, gt)\n",
    "    if v: print(model.coef_)\n",
    "    if v: print(model.intercept_)\n",
    "    return X, model\n",
    "X, model = fitModel(x, met, gt, v = 1)"
   ]
  },
  {
   "cell_type": "code",
   "execution_count": 299,
   "metadata": {},
   "outputs": [],
   "source": [
    "def calcCost(model, x, gt, met, v, i):\n",
    "    X = met(x)\n",
    "    pred = model.predict(X)\n",
    "    res = np.abs(pred - gt)\n",
    "    idx = np.argmax(res)\n",
    "    if v: print(i, \"MAX err\", \"idx\", idx, \"diff\", res[idx], \"rad\", x[idx], \"Mean\", np.mean(res))\n",
    "    return res[idx]"
   ]
  },
  {
   "cell_type": "code",
   "execution_count": 300,
   "metadata": {},
   "outputs": [],
   "source": [
    "def split(ranges, num):\n",
    "    list_ = [[0,ranges/num]]\n",
    "    for i in range(1,num):\n",
    "        list_.append([ranges/num*i,ranges/num*(i+1)])\n",
    "    return list_"
   ]
  },
  {
   "cell_type": "code",
   "execution_count": 301,
   "metadata": {},
   "outputs": [
    {
     "data": {
      "text/plain": [
       "[[0, 0.2617993877991494],\n",
       " [0.2617993877991494, 0.5235987755982988],\n",
       " [0.5235987755982988, 0.7853981633974483],\n",
       " [0.7853981633974483, 1.0471975511965976],\n",
       " [1.0471975511965976, 1.308996938995747],\n",
       " [1.308996938995747, 1.5707963267948966]]"
      ]
     },
     "execution_count": 301,
     "metadata": {},
     "output_type": "execute_result"
    }
   ],
   "source": [
    "split(np.pi/2, 6)"
   ]
  },
  {
   "cell_type": "code",
   "execution_count": 333,
   "metadata": {
    "scrolled": true
   },
   "outputs": [
    {
     "name": "stdout",
     "output_type": "stream",
     "text": [
      "Range low:0.000000 high:1.000000\n",
      "Range low:0.000000 high:1.000000\n",
      "0 MAX err idx 0 diff 0.12985860738532295 rad 0.0 Mean 0.008239364515097852\n",
      " >>>>  0 ERR 0.12985860738532295 0.12985860738532295 [ 1.867323   -1.78900409  0.79364954]\n",
      "Range low:1.000011 high:1.500000\n",
      "Range low:1.000000 high:1.500000\n",
      "1 MAX err idx 0 diff 1.983049509135526e-05 rad 1.0 Mean 5.676985160184173e-06\n",
      " >>>>  1 ERR 1.983049509135526e-05 0.34771014186130556 [ 0.84119414 -0.22464909  0.03576464]\n",
      "test:1.3758 predict:1.1730 gt:1.1730 diff:0.000005\n"
     ]
    }
   ],
   "source": [
    "_size = 100000\n",
    "Verbose = 1\n",
    "_model = None\n",
    "_err = 9999\n",
    "# sets = [[0.1,np.pi/2],[np.pi/2,np.pi],[np.pi,5]]\n",
    "sets = [[0,1],[1,1.5]]\n",
    "RR = len(sets)\n",
    "convert = cubic\n",
    "tri_gt = np.sqrt\n",
    "\n",
    "for i in range(RR):\n",
    "    x, gt = genData(_size, sets[i][0], sets[i][1], tri_gt)\n",
    "    X, model = fitModel(x, convert, gt)\n",
    "    x, gt = genData(_size, sets[i][0], sets[i][1], tri_gt, 0)\n",
    "    res = calcCost(model, x, gt, convert, Verbose, i)\n",
    "    # if res < _err:\n",
    "    _err = res\n",
    "    _model = model\n",
    "    print(\" >>>> \", i, \"ERR\",res, model.intercept_, model.coef_)\n",
    "\n",
    "tv = np.array([[1.3758271370212163]])\n",
    "res = _model.predict(convert(tv))\n",
    "res_gt = tri_gt(tv)\n",
    "diff = np.abs(res - res_gt)\n",
    "\n",
    "print(\"test:%.4f predict:%.4f gt:%.4f diff:%f\" % (\n",
    "     tv, res, res_gt, diff))"
   ]
  },
  {
   "cell_type": "code",
   "execution_count": 303,
   "metadata": {},
   "outputs": [
    {
     "data": {
      "text/plain": [
       "0.7853981633974483"
      ]
     },
     "execution_count": 303,
     "metadata": {},
     "output_type": "execute_result"
    }
   ],
   "source": [
    "np.pi/4"
   ]
  },
  {
   "cell_type": "code",
   "execution_count": 304,
   "metadata": {},
   "outputs": [],
   "source": [
    "lsize = 5000\n",
    "xl = np.linspace(5,500,lsize)\n",
    "gtxl = np.arctan(xl)"
   ]
  },
  {
   "cell_type": "code",
   "execution_count": 305,
   "metadata": {},
   "outputs": [
    {
     "name": "stdout",
     "output_type": "stream",
     "text": [
      "[ 7.65325825e-04 -2.76103373e-06  3.04822121e-09]\n",
      "1.50443794904616\n"
     ]
    }
   ],
   "source": [
    "Xl = cubic(xl) #quad(xl)\n",
    "modell = LinearRegression()\n",
    "modell.fit(Xl, gtxl)\n",
    "print(modell.coef_)\n",
    "print(modell.intercept_)"
   ]
  },
  {
   "cell_type": "code",
   "execution_count": 306,
   "metadata": {},
   "outputs": [
    {
     "name": "stdout",
     "output_type": "stream",
     "text": [
      "MAX err idx 0 value 0.13479516641067524 rad 5.0\n",
      "[1.50819593]  vs  [[1.37340077 1.53081764 1.5627965 ]]\n"
     ]
    }
   ],
   "source": [
    "pred = modell.predict(Xl)\n",
    "res = (pred - gtxl)\n",
    "idx = np.argmax(res)\n",
    "print(\"MAX err\", \"idx\", idx, \"value\", res[idx], \"rad\", Xl[idx,0])\n",
    "predict = cubic(np.array([[5]]))\n",
    "print(modell.predict(predict), \" vs \", np.arctan(predict))"
   ]
  },
  {
   "cell_type": "code",
   "execution_count": 307,
   "metadata": {},
   "outputs": [
    {
     "name": "stdout",
     "output_type": "stream",
     "text": [
      "1.4056476493802699\n",
      "1.4041296601282298\n"
     ]
    }
   ],
   "source": [
    "val = 6\n",
    "print(np.arctan(val))\n",
    "print(np.pi / 2 - 1 / val)"
   ]
  },
  {
   "cell_type": "code",
   "execution_count": 308,
   "metadata": {},
   "outputs": [],
   "source": [
    "def fast_arctan(x):\n",
    "    a0 = 1.10382257\n",
    "    a1 = -0.36105955\n",
    "    a2 = 0.04400221\n",
    "    b = -0.00492334997743038\n",
    "    sign = 1 if x >= 0 else -1\n",
    "    if (abs(x) > np.pi):\n",
    "        # https://math.stackexchange.com/questions/982838/asymptotic-approximation-of-the-arctangent/982859\n",
    "        return (sign*(np.pi / 2) - 1/x)\n",
    "    elif abs(x) < 5e-2:\n",
    "        # for small x\n",
    "        return x\n",
    "    else:\n",
    "        # by regression\n",
    "        ax = abs(x)\n",
    "        return sign * (b + ax * (a0 + ax * (a1 + a2 * ax)))\n",
    "        #x2 = ax * ax\n",
    "        #x3 = x2 * ax\n",
    "        #return sign * (b + a0 * ax + a1 * x2 + a2 * x3)"
   ]
  },
  {
   "cell_type": "code",
   "execution_count": 309,
   "metadata": {},
   "outputs": [
    {
     "name": "stdout",
     "output_type": "stream",
     "text": [
      "-0.04898039418715918 vs -0.049\n"
     ]
    }
   ],
   "source": [
    "val = -0.049\n",
    "print(np.sin(val), \"vs\", fast_arctan(val))"
   ]
  },
  {
   "cell_type": "code",
   "execution_count": 310,
   "metadata": {},
   "outputs": [
    {
     "data": {
      "text/plain": [
       "3.141592653589793"
      ]
     },
     "execution_count": 310,
     "metadata": {},
     "output_type": "execute_result"
    }
   ],
   "source": [
    "np.pi"
   ]
  },
  {
   "cell_type": "markdown",
   "metadata": {},
   "source": [
    "# 2. Sine"
   ]
  },
  {
   "cell_type": "code",
   "execution_count": 311,
   "metadata": {},
   "outputs": [
    {
     "name": "stdout",
     "output_type": "stream",
     "text": [
      "[-0.49959431  0.04015625]\n",
      "0.9999843926398678\n"
     ]
    }
   ],
   "source": [
    "from sklearn.linear_model import LinearRegression\n",
    "# 1. a + bx + cx^2 + dx^3\n",
    "_size = 1000000\n",
    "#x = np.clip(np.abs(np.random.randn(_size)) * np.pi/2, 0, np.pi/2)\n",
    "#x = np.linspace(0,np.pi/2,_size)\n",
    "gt = np.cos(x)\n",
    "X = quad2(x)\n",
    "model = LinearRegression()\n",
    "model.fit(X, gt)\n",
    "print(model.coef_)\n",
    "print(model.intercept_)"
   ]
  },
  {
   "cell_type": "code",
   "execution_count": 312,
   "metadata": {},
   "outputs": [
    {
     "name": "stdout",
     "output_type": "stream",
     "text": [
      "MAX err idx 99999 value 4.9549706951701467e-05 rad 0.9\n",
      "[0.01175881]  vs  6.123233995736766e-17\n"
     ]
    }
   ],
   "source": [
    "pred = model.predict(X)\n",
    "res = np.abs(pred - gt)\n",
    "idx = np.argmax(res)\n",
    "print(\"MAX err\", \"idx\", idx, \"value\", res[idx], \"rad\", x[idx])\n",
    "test = np.pi/2\n",
    "predict = quad2(np.array([[test]]))\n",
    "print(model.predict(predict), \" vs \", np.cos(test))\n"
   ]
  },
  {
   "cell_type": "code",
   "execution_count": 55,
   "metadata": {},
   "outputs": [
    {
     "name": "stdout",
     "output_type": "stream",
     "text": [
      "MAX err idx 87587 value 0.0008997190733912586 rad 1.3758271370212163\n"
     ]
    }
   ],
   "source": [
    "tx = np.linspace(0,np.pi/2,100000)\n",
    "ttx = quad2(tx)\n",
    "pred = model.predict(ttx)\n",
    "gt_tx = np.cos(tx)\n",
    "err = np.abs(gt_tx - pred)\n",
    "idx = np.argmax(err)\n",
    "print(\"MAX err\", \"idx\", idx, \"value\", err[idx], \"rad\", tx[idx])"
   ]
  },
  {
   "cell_type": "code",
   "execution_count": 54,
   "metadata": {},
   "outputs": [
    {
     "data": {
      "text/plain": [
       "array([-0.49576368,  0.03677728])"
      ]
     },
     "execution_count": 54,
     "metadata": {},
     "output_type": "execute_result"
    }
   ],
   "source": [
    "model.coef_"
   ]
  },
  {
   "cell_type": "code",
   "execution_count": 53,
   "metadata": {},
   "outputs": [
    {
     "ename": "SyntaxError",
     "evalue": "invalid syntax (<ipython-input-53-8d27cf197b0b>, line 1)",
     "output_type": "error",
     "traceback": [
      "\u001b[1;36m  File \u001b[1;32m\"<ipython-input-53-8d27cf197b0b>\"\u001b[1;36m, line \u001b[1;32m1\u001b[0m\n\u001b[1;33m    0.9994922003943848 [-0.49576368  0.03677728]\u001b[0m\n\u001b[1;37m                                              ^\u001b[0m\n\u001b[1;31mSyntaxError\u001b[0m\u001b[1;31m:\u001b[0m invalid syntax\n"
     ]
    }
   ],
   "source": [
    " 0.9994922003943848 [-0.49576368  0.03677728]"
   ]
  },
  {
   "cell_type": "code",
   "execution_count": null,
   "metadata": {},
   "outputs": [],
   "source": []
  },
  {
   "cell_type": "code",
   "execution_count": 353,
   "metadata": {},
   "outputs": [],
   "source": [
    "def fmod(ax, m):\n",
    "    _x = ax / m\n",
    "    _ix = int(_x)\n",
    "    ax = (_x - _ix) * m\n",
    "    return ax\n",
    "\n",
    "def mapQuad(x, m, q):\n",
    "    _x = x / m\n",
    "    _ix = int(_x)\n",
    "    ax = (_x - _ix) * m\n",
    "    quad = _ix % q\n",
    "    return ax, quad\n",
    "\n",
    "def cos_quad2(x):\n",
    "    c0=0.9994925807697664\n",
    "    c1=-0.49576019\n",
    "    c2=0.03677586\n",
    "    x2 = x * x\n",
    "    return c0 + x2 * (c1 + x2 * c2)"
   ]
  },
  {
   "cell_type": "code",
   "execution_count": 354,
   "metadata": {},
   "outputs": [
    {
     "data": {
      "text/plain": [
       "6.283185307179586"
      ]
     },
     "execution_count": 354,
     "metadata": {},
     "output_type": "execute_result"
    }
   ],
   "source": [
    "2 * np.pi"
   ]
  },
  {
   "cell_type": "code",
   "execution_count": 356,
   "metadata": {},
   "outputs": [],
   "source": [
    "def fast_cos(x):\n",
    "    pi_2 = 1.5707963267948966\n",
    "    twopi = 6.283185307179586\n",
    "    ax = x\n",
    "    if x < 0: ax = -x\n",
    "    if ax < 0.05: return ax\n",
    "    ax, quad = mapQuad(x, pi_2, 4)\n",
    "    \n",
    "    if quad == 0: return cos_quad2(ax)\n",
    "    elif quad == 1: return -cos_quad2(pi_2 - ax)\n",
    "    elif quad == 2: return -cos_quad2(ax)\n",
    "    elif quad == 3: return cos_quad2(pi_2 - ax)"
   ]
  },
  {
   "cell_type": "code",
   "execution_count": 357,
   "metadata": {},
   "outputs": [],
   "source": [
    "def fast_sin(x):\n",
    "    return fast_cos(np.pi/2 - x)"
   ]
  },
  {
   "cell_type": "code",
   "execution_count": 18,
   "metadata": {},
   "outputs": [],
   "source": [
    "# https://en.wikipedia.org/wiki/Bhaskara_I%27s_sine_approximation_formula\n",
    "def fast_sine(x):\n",
    "    # version one\n",
    "    pi = 3.141592653589793\n",
    "    pi2 = pi * pi\n",
    "    ax = abs(x)\n",
    "    sign = 1 if x >= 0 else -1\n",
    "    if ax < 0.05:\n",
    "        return x\n",
    "    if ax > pi:\n",
    "        _x = ax / pi\n",
    "        _ix = int(_x)\n",
    "        _mx = _ix % 2\n",
    "        ax = (_x - _ix) * pi\n",
    "        sign = sign * (-1 if _mx == 1 else 1)\n",
    "    return sign * (16 * ax * (pi - ax)) / ( 5 * pi2 - 4 * ax * (pi - ax))\n"
   ]
  },
  {
   "cell_type": "code",
   "execution_count": 19,
   "metadata": {},
   "outputs": [
    {
     "name": "stdout",
     "output_type": "stream",
     "text": [
      "0.77655256622833 vs 0.7778960471964677\n"
     ]
    }
   ],
   "source": [
    "val = -2393923 + 0.23232\n",
    "print(fast_sine(val), \"vs\" , np.sin(val))"
   ]
  },
  {
   "cell_type": "code",
   "execution_count": 20,
   "metadata": {},
   "outputs": [],
   "source": [
    "def fast_sineDeg(x):\n",
    "    ax = abs(x)\n",
    "    sign = 1 if x >= 0 else -1\n",
    "    if ax < 2.86:\n",
    "        return x*3.14159265/180\n",
    "    elif ax > 180.:\n",
    "        _x = ax / 180\n",
    "        _ix = int(_x)\n",
    "        _mx = _ix % 2\n",
    "        ax = (_x - _ix) * 180\n",
    "        sign = sign * (-1 if _mx == 1 else 1)\n",
    "    return sign * (4 * ax) * (180 - ax) / (40500 - ax * (180 - ax))"
   ]
  },
  {
   "cell_type": "code",
   "execution_count": 21,
   "metadata": {},
   "outputs": [
    {
     "name": "stdout",
     "output_type": "stream",
     "text": [
      "-0.02888087235926067 vs -0.02840352588360379\n"
     ]
    }
   ],
   "source": [
    "val = 3.17\n",
    "print(fast_sine(val) ,\"vs\", np.sin(val))"
   ]
  },
  {
   "cell_type": "code",
   "execution_count": 22,
   "metadata": {},
   "outputs": [
    {
     "data": {
      "text/plain": [
       "0.017453292500000002"
      ]
     },
     "execution_count": 22,
     "metadata": {},
     "output_type": "execute_result"
    }
   ],
   "source": [
    "fast_sineDeg(1)"
   ]
  },
  {
   "cell_type": "markdown",
   "metadata": {},
   "source": [
    "# 3. Cosine"
   ]
  },
  {
   "cell_type": "code",
   "execution_count": 23,
   "metadata": {},
   "outputs": [],
   "source": [
    "def fast_cosine(x):\n",
    "    pi = 3.14159265\n",
    "    pi_2 = pi / 2\n",
    "    pi2 = pi*pi\n",
    "    ax = abs(x)\n",
    "    sign = 1 if x >= 0 else -1\n",
    "    if ax < 0.05:\n",
    "        return 1\n",
    "    elif ax > pi_2:\n",
    "        _x = ax / pi_2\n",
    "        _ix = int(_x)\n",
    "        _mx = _ix % 4\n",
    "        ax = (_x - _ix) * pi_2\n",
    "        sign = 1\n",
    "        if _mx == 1:\n",
    "            ax = pi_2 - ax\n",
    "            sign = -1\n",
    "        elif _mx == 2:\n",
    "            sign = -1\n",
    "        elif _mx == 3:\n",
    "            ax = pi_2 - ax\n",
    "        print(_x, _ix, _mx, ax, _x - _ix)\n",
    "    ax2 = ax * ax\n",
    "    return sign * (pi2 - 4 * ax2)/(pi2 + ax2)\n",
    "    "
   ]
  },
  {
   "cell_type": "code",
   "execution_count": 24,
   "metadata": {},
   "outputs": [
    {
     "name": "stdout",
     "output_type": "stream",
     "text": [
      "4.456338411665178 4 0 0.7168146999999989 0.4563384116651781\n",
      "0.7525752914431102 vs 0.7539022543433046 vs 0.7528670014882921 vs 0.7525752966917004\n"
     ]
    }
   ],
   "source": [
    "x = 7\n",
    "print(fast_cosine(x), \"vs\", np.cos(x), \"vs\", fast_cos(x), \"vs\", fast_sine(np.pi/2 - x))"
   ]
  },
  {
   "cell_type": "markdown",
   "metadata": {},
   "source": [
    "# 4. tangent"
   ]
  },
  {
   "cell_type": "code",
   "execution_count": 81,
   "metadata": {},
   "outputs": [
    {
     "data": {
      "text/plain": [
       "1.5707963267948966"
      ]
     },
     "execution_count": 81,
     "metadata": {},
     "output_type": "execute_result"
    }
   ],
   "source": [
    "np.pi/2 + np."
   ]
  },
  {
   "cell_type": "code",
   "execution_count": 344,
   "metadata": {},
   "outputs": [
    {
     "data": {
      "text/plain": [
       "0.017453292519943295"
      ]
     },
     "execution_count": 344,
     "metadata": {},
     "output_type": "execute_result"
    }
   ],
   "source": [
    "np.pi/180"
   ]
  },
  {
   "cell_type": "code",
   "execution_count": 343,
   "metadata": {},
   "outputs": [
    {
     "data": {
      "text/plain": [
       "1.633123935319537e+16"
      ]
     },
     "execution_count": 343,
     "metadata": {},
     "output_type": "execute_result"
    }
   ],
   "source": [
    "np.tan(np.pi/2)"
   ]
  },
  {
   "cell_type": "code",
   "execution_count": 342,
   "metadata": {
    "scrolled": true
   },
   "outputs": [
    {
     "name": "stdout",
     "output_type": "stream",
     "text": [
      "-683269140.7366476\n",
      "[ 1.31459622e+09 -8.43091199e+08  1.80234693e+08]\n",
      "MAX err idx 4162 value 0.003443512198984422 rad 1.562873274654931\n",
      "[-12357160.34550536]  vs  [[2.23449695]]\n"
     ]
    }
   ],
   "source": [
    "lsize = 5000 # 0.05 1.275 1.41 1.476, 1.5125 1.5325 1.54475 1.5525 1.5575 1.561 1.56325\n",
    "xl = np.linspace(1.56325,lsize) \n",
    "gtxl = np.tan(xl)\n",
    "Xl = cubic(xl)\n",
    "modell = LinearRegression()\n",
    "modell.fit(Xl, gtxl)\n",
    "print(modell.intercept_)\n",
    "print(modell.coef_)\n",
    "pred = modell.predict(Xl)\n",
    "res = (pred - gtxl)\n",
    "idx = np.argmax(res)\n",
    "print(\"MAX err\", \"idx\", idx, \"value\", res[idx], \"rad\", Xl[idx,0])\n",
    "val = np.array([[1.15]])\n",
    "predict = cubic(val)\n",
    "print(modell.predict(predict), \" vs \", np.tan(val))"
   ]
  },
  {
   "cell_type": "code",
   "execution_count": 312,
   "metadata": {},
   "outputs": [
    {
     "name": "stdout",
     "output_type": "stream",
     "text": [
      "MAX err idx 4190 value 0.00378806860090819 rad 1.464480896179236\n",
      "[-66.61758651]  vs  [[2.23449695]]\n"
     ]
    }
   ],
   "source": [
    "pred = modell.predict(Xl)\n",
    "res = (pred - gtxl)\n",
    "idx = np.argmax(res)\n",
    "print(\"MAX err\", \"idx\", idx, \"value\", res[idx], \"rad\", Xl[idx,0])\n",
    "val = np.array([[1.15]])\n",
    "predict = cubic(val)\n",
    "print(modell.predict(predict), \" vs \", np.tan(val))"
   ]
  },
  {
   "cell_type": "code",
   "execution_count": 170,
   "metadata": {},
   "outputs": [],
   "source": [
    "def _cubic(ax, b, a0, a1, a2):\n",
    "    return ((b) + (ax) * ((a0) + (ax) * ((a1) + (ax) * (a2)))) \n",
    "\n",
    "def __quad(ax, b, a0, a1):\n",
    "    return ((b) + (ax) * ((a0) + (ax) * (a1)))\n",
    "\n",
    "def lerp(a, b, x):\n",
    "    return a * x + b;   \n",
    "\n",
    "def fast_tan(x):\n",
    "    # /* https://mae.ufl.edu/~uhk/ACCURATE-TANGENT.pdf */\n",
    "    t0 = [# // 0.05 to 0.8\n",
    "        -0.005306908868911164,\n",
    "        1.07958615,\n",
    "        -0.31961611,\n",
    "        0.72791356\n",
    "    ]\n",
    "    t1 = [\n",
    "        -6.798523672037293,\n",
    "        24.20035856,\n",
    "        -26.75328616,\n",
    "        10.9062448\n",
    "    ]\n",
    "    t2 = [\n",
    "        -288.476741666932,\n",
    "        715.84338056,\n",
    "        -593.63206871,\n",
    "        166.00749918\n",
    "    ]\n",
    "    t3 = [\n",
    "        -4043.7026279735396,\n",
    "        8896.89927632,\n",
    "        -6536.19587117,\n",
    "        1605.2422637\n",
    "    ]\n",
    "    t4 = [\n",
    "        1513.2746348922383,\n",
    "        -2142.93149953,\n",
    "        762.05357123\n",
    "    ]\n",
    "    t5 = [\n",
    "       8.23809275e+00, 8.32297410e+00, 8.40959713e+00, 8.49801630e+00,\n",
    "       8.58828831e+00, 8.68047230e+00, 8.77462995e+00, 8.87082562e+00,\n",
    "       8.96912650e+00, 9.06960275e+00, 9.17232772e+00, 9.27737805e+00,\n",
    "       9.38483395e+00, 9.49477931e+00, 9.60730201e+00, 9.72249410e+00,\n",
    "       9.84045207e+00, 9.96127709e+00, 1.00850754e+01, 1.02119584e+01,\n",
    "       1.03420433e+01, 1.04754533e+01, 1.06123178e+01, 1.07527733e+01,\n",
    "       1.08969634e+01, 1.10450395e+01, 1.11971613e+01, 1.13534974e+01,\n",
    "       1.15142258e+01, 1.16795348e+01, 1.18496236e+01, 1.20247029e+01,\n",
    "       1.22049964e+01, 1.23907409e+01, 1.25821881e+01, 1.27796052e+01,\n",
    "       1.29832767e+01, 1.31935050e+01, 1.34106127e+01, 1.36349437e+01,\n",
    "       1.38668654e+01, 1.41067703e+01, 1.43550786e+01, 1.46122405e+01,\n",
    "       1.48787389e+01, 1.51550926e+01, 1.54418593e+01, 1.57396399e+01,\n",
    "       1.60490821e+01, 1.63708858e+01, 1.67058076e+01, 1.70546676e+01,\n",
    "       1.74183553e+01, 1.77978378e+01, 1.81941682e+01, 1.86084950e+01,\n",
    "       1.90420739e+01, 1.94962800e+01, 1.99726227e+01, 2.04727622e+01,\n",
    "       2.09985289e+01, 2.15519462e+01, 2.21352559e+01, 2.27509490e+01,\n",
    "       2.34018014e+01, 2.40909153e+01, 2.48217690e+01, 2.55982756e+01,\n",
    "       2.64248532e+01, 2.73065087e+01, 2.82489401e+01, 2.92586589e+01,\n",
    "       3.03431416e+01, 3.15110147e+01, 3.27722851e+01, 3.41386275e+01,\n",
    "       3.56237468e+01, 3.72438401e+01, 3.90181892e+01, 4.09699325e+01,\n",
    "       4.31270796e+01, 4.55238646e+01, 4.82025764e+01, 5.12160763e+01,\n",
    "       5.46313220e+01, 5.85344018e+01, 6.30378929e+01, 6.82918980e+01,\n",
    "       7.45011028e+01, 8.19520672e+01, 9.10587111e+01, 1.02441914e+02,\n",
    "       1.17077345e+02, 1.36591117e+02, 1.63910235e+02, 2.04888709e+02,\n",
    "       2.73185895e+02, 4.09779859e+02, 8.19560938e+02, 1.63312394e+16\n",
    "    ]\n",
    "    tan0_th = 0.8;\n",
    "    tan1_th = 1.2;\n",
    "    tan2_th = 1.37;\n",
    "    tan3_th = 1.45;\n",
    "    tan4_th = 1.472;\n",
    "\n",
    "    signX = -1 if x < 0 else 1;\n",
    "    ax = abs(x);\n",
    "\n",
    "    if (ax < 0.05):\n",
    "        return x;\n",
    "    if (ax > np.pi/2):\n",
    "        _x = ax / np.pi/2\n",
    "        _ix = int(_x);\n",
    "        _quad = _ix % 2;\n",
    "        if (_quad == 1):\n",
    "            ax = np.pi/2 - ax;\n",
    "            signX = -1;\n",
    "        else:\n",
    "            signX = 1;\n",
    "        ax = (_x - _ix) * np.pi/2;\n",
    "    if (ax < tan0_th):\n",
    "        return signX * _cubic(ax, t0[0], t0[1], t0[2], t0[3]);\n",
    "    elif (ax < tan1_th):\n",
    "        return signX * _cubic(ax, t1[0], t1[1], t1[2], t1[3]);\n",
    "    elif (ax < tan2_th):\n",
    "        return signX * _cubic(ax, t2[0], t2[1], t2[2], t2[3]);\n",
    "    elif (ax < tan3_th):\n",
    "        return signX * _cubic(ax, t3[0], t3[1], t3[2], t3[3]);\n",
    "    elif (ax < tan4_th):\n",
    "        return signX * __quad(ax, t4[0], t4[1], t4[2]);\n",
    "    else:\n",
    "        # 1.471 to 1.571\n",
    "        ax_up = ax * 1000;\n",
    "        iax_up = int(ax_up);\n",
    "        idx = iax_up - 1472;\n",
    "        r = ax_up - float(iax_up);\n",
    "        return signX * lerp(t5[idx], t5[idx+1], r);\n",
    "\n"
   ]
  },
  {
   "cell_type": "code",
   "execution_count": 172,
   "metadata": {},
   "outputs": [],
   "source": [
    "lsize = 200\n",
    "xl = np.linspace(-np.pi/2+0.06,np.pi/2-0.06,lsize)\n",
    "np.tan(xl)\n",
    "a = [fast_tan(i) for i in xl]"
   ]
  },
  {
   "cell_type": "code",
   "execution_count": 173,
   "metadata": {},
   "outputs": [
    {
     "data": {
      "image/png": "[encoded data removed]",
      "text/plain": [
       "<Figure size 432x288 with 1 Axes>"
      ]
     },
     "metadata": {
      "needs_background": "light"
     },
     "output_type": "display_data"
    }
   ],
   "source": [
    "import matplotlib.pyplot as plt\n",
    "plt.plot(xl,a)\n",
    "plt.show()"
   ]
  },
  {
   "cell_type": "code",
   "execution_count": 137,
   "metadata": {},
   "outputs": [
    {
     "data": {
      "text/plain": [
       "array([ 1.22464680e-16,  3.15842917e-02,  6.32316613e-02,  9.50056915e-02,\n",
       "        1.26970983e-01,  1.59193688e-01,  1.91742062e-01,  2.24687067e-01,\n",
       "        2.58103008e-01,  2.92068240e-01,  3.26665950e-01,  3.61985027e-01,\n",
       "        3.98121053e-01,  4.35177427e-01,  4.73266660e-01,  5.12511873e-01,\n",
       "        5.53048541e-01,  5.95026546e-01,  6.38612599e-01,  6.83993118e-01,\n",
       "        7.31377682e-01,  7.81003184e-01,  8.33138872e-01,  8.88092520e-01,\n",
       "        9.46218013e-01,  1.00792477e+00,  1.07368952e+00,  1.14407124e+00,\n",
       "        1.21973009e+00,  1.30145192e+00,  1.39018018e+00,  1.48705800e+00,\n",
       "        1.59348455e+00,  1.71119154e+00,  1.84234884e+00,  1.98971311e+00,\n",
       "        2.15684125e+00,  2.34840424e+00,  2.57066139e+00,  2.83219906e+00,\n",
       "        3.14512415e+00,  3.52707588e+00,  4.00479512e+00,  4.62086641e+00,\n",
       "        5.44749515e+00,  6.61768749e+00,  8.40631813e+00,  1.14880732e+01,\n",
       "        1.80797689e+01,  4.22212178e+01, -1.26684704e+02, -2.53243098e+01,\n",
       "       -1.40526822e+01, -9.71095061e+00, -7.40741283e+00, -5.97737460e+00,\n",
       "       -5.00154324e+00, -4.29195755e+00, -3.75178689e+00, -3.32607135e+00,\n",
       "       -2.98129701e+00, -2.69586433e+00, -2.45522507e+00, -2.24922143e+00,\n",
       "       -2.07054545e+00, -1.91380463e+00, -1.77493248e+00, -1.65080413e+00,\n",
       "       -1.53897831e+00, -1.43751972e+00, -1.34487406e+00, -1.25977830e+00,\n",
       "       -1.18119519e+00, -1.10826463e+00, -1.04026709e+00, -9.76595671e-01,\n",
       "       -9.16734624e-01, -8.60242515e-01, -8.06739003e-01, -7.55894312e-01,\n",
       "       -7.07420783e-01, -6.61066039e-01, -6.16607415e-01, -5.73847383e-01,\n",
       "       -5.32609772e-01, -4.92736614e-01, -4.54085509e-01, -4.16527394e-01,\n",
       "       -3.79944656e-01, -3.44229513e-01, -3.09282625e-01, -2.75011887e-01,\n",
       "       -2.41331377e-01, -2.08160428e-01, -1.75422802e-01, -1.43045949e-01,\n",
       "       -1.10960338e-01, -7.90988362e-02, -4.73961356e-02, -1.57882094e-02,\n",
       "        1.57882094e-02,  4.73961356e-02,  7.90988362e-02,  1.10960338e-01,\n",
       "        1.43045949e-01,  1.75422802e-01,  2.08160428e-01,  2.41331377e-01,\n",
       "        2.75011887e-01,  3.09282625e-01,  3.44229513e-01,  3.79944656e-01,\n",
       "        4.16527394e-01,  4.54085509e-01,  4.92736614e-01,  5.32609772e-01,\n",
       "        5.73847383e-01,  6.16607415e-01,  6.61066039e-01,  7.07420783e-01,\n",
       "        7.55894312e-01,  8.06739003e-01,  8.60242515e-01,  9.16734624e-01,\n",
       "        9.76595671e-01,  1.04026709e+00,  1.10826463e+00,  1.18119519e+00,\n",
       "        1.25977830e+00,  1.34487406e+00,  1.43751972e+00,  1.53897831e+00,\n",
       "        1.65080413e+00,  1.77493248e+00,  1.91380463e+00,  2.07054545e+00,\n",
       "        2.24922143e+00,  2.45522507e+00,  2.69586433e+00,  2.98129701e+00,\n",
       "        3.32607135e+00,  3.75178689e+00,  4.29195755e+00,  5.00154324e+00,\n",
       "        5.97737460e+00,  7.40741283e+00,  9.71095061e+00,  1.40526822e+01,\n",
       "        2.53243098e+01,  1.26684704e+02, -4.22212178e+01, -1.80797689e+01,\n",
       "       -1.14880732e+01, -8.40631813e+00, -6.61768749e+00, -5.44749515e+00,\n",
       "       -4.62086641e+00, -4.00479512e+00, -3.52707588e+00, -3.14512415e+00,\n",
       "       -2.83219906e+00, -2.57066139e+00, -2.34840424e+00, -2.15684125e+00,\n",
       "       -1.98971311e+00, -1.84234884e+00, -1.71119154e+00, -1.59348455e+00,\n",
       "       -1.48705800e+00, -1.39018018e+00, -1.30145192e+00, -1.21973009e+00,\n",
       "       -1.14407124e+00, -1.07368952e+00, -1.00792477e+00, -9.46218013e-01,\n",
       "       -8.88092520e-01, -8.33138872e-01, -7.81003184e-01, -7.31377682e-01,\n",
       "       -6.83993118e-01, -6.38612599e-01, -5.95026546e-01, -5.53048541e-01,\n",
       "       -5.12511873e-01, -4.73266660e-01, -4.35177427e-01, -3.98121053e-01,\n",
       "       -3.61985027e-01, -3.26665950e-01, -2.92068240e-01, -2.58103008e-01,\n",
       "       -2.24687067e-01, -1.91742062e-01, -1.59193688e-01, -1.26970983e-01,\n",
       "       -9.50056915e-02, -6.32316613e-02, -3.15842917e-02, -1.22464680e-16])"
      ]
     },
     "execution_count": 137,
     "metadata": {},
     "output_type": "execute_result"
    }
   ],
   "source": [
    "lsize = 200\n",
    "xl = np.linspace(-np.pi,np.pi,lsize)\n",
    "np.tan(xl)"
   ]
  },
  {
   "cell_type": "code",
   "execution_count": 28,
   "metadata": {},
   "outputs": [
    {
     "ename": "NameError",
     "evalue": "name 'pi_2' is not defined",
     "output_type": "error",
     "traceback": [
      "\u001b[1;31m---------------------------------------------------------------------------\u001b[0m",
      "\u001b[1;31mNameError\u001b[0m                                 Traceback (most recent call last)",
      "\u001b[1;32m<ipython-input-28-11398bba54e0>\u001b[0m in \u001b[0;36m<module>\u001b[1;34m\u001b[0m\n\u001b[0;32m      1\u001b[0m \u001b[0mx\u001b[0m \u001b[1;33m=\u001b[0m \u001b[1;36m45\u001b[0m\u001b[1;33m\u001b[0m\u001b[1;33m\u001b[0m\u001b[0m\n\u001b[1;32m----> 2\u001b[1;33m \u001b[0mprint\u001b[0m\u001b[1;33m(\u001b[0m\u001b[0mfast_tan\u001b[0m\u001b[1;33m(\u001b[0m\u001b[0mx\u001b[0m\u001b[1;33m)\u001b[0m\u001b[1;33m,\u001b[0m \u001b[1;34m\"vs\"\u001b[0m\u001b[1;33m,\u001b[0m \u001b[0mnp\u001b[0m\u001b[1;33m.\u001b[0m\u001b[0mtan\u001b[0m\u001b[1;33m(\u001b[0m\u001b[0mx\u001b[0m\u001b[1;33m)\u001b[0m\u001b[1;33m)\u001b[0m\u001b[1;33m\u001b[0m\u001b[1;33m\u001b[0m\u001b[0m\n\u001b[0m",
      "\u001b[1;32m<ipython-input-27-a3c0d9b776be>\u001b[0m in \u001b[0;36mfast_tan\u001b[1;34m(x)\u001b[0m\n\u001b[0;32m     10\u001b[0m         \u001b[1;32mreturn\u001b[0m \u001b[0mx\u001b[0m\u001b[1;33m\u001b[0m\u001b[1;33m\u001b[0m\u001b[0m\n\u001b[0;32m     11\u001b[0m     \u001b[1;32mif\u001b[0m \u001b[0max\u001b[0m \u001b[1;33m>\u001b[0m \u001b[1;36m1\u001b[0m\u001b[1;33m:\u001b[0m\u001b[1;33m\u001b[0m\u001b[1;33m\u001b[0m\u001b[0m\n\u001b[1;32m---> 12\u001b[1;33m         \u001b[0m_x\u001b[0m \u001b[1;33m=\u001b[0m \u001b[0max\u001b[0m \u001b[1;33m/\u001b[0m \u001b[0mpi_2\u001b[0m\u001b[1;33m\u001b[0m\u001b[1;33m\u001b[0m\u001b[0m\n\u001b[0m\u001b[0;32m     13\u001b[0m         \u001b[0m_ix\u001b[0m \u001b[1;33m=\u001b[0m \u001b[0mint\u001b[0m\u001b[1;33m(\u001b[0m\u001b[0m_x\u001b[0m\u001b[1;33m)\u001b[0m\u001b[1;33m\u001b[0m\u001b[1;33m\u001b[0m\u001b[0m\n\u001b[0;32m     14\u001b[0m         \u001b[0m_mx\u001b[0m \u001b[1;33m=\u001b[0m \u001b[0m_ix\u001b[0m \u001b[1;33m%\u001b[0m \u001b[1;36m2\u001b[0m\u001b[1;33m\u001b[0m\u001b[1;33m\u001b[0m\u001b[0m\n",
      "\u001b[1;31mNameError\u001b[0m: name 'pi_2' is not defined"
     ]
    }
   ],
   "source": [
    "x = 45\n",
    "print(fast_tan(x), \"vs\", np.tan(x))"
   ]
  },
  {
   "cell_type": "markdown",
   "metadata": {},
   "source": [
    "# 5. Arcsine"
   ]
  },
  {
   "cell_type": "code",
   "execution_count": null,
   "metadata": {},
   "outputs": [],
   "source": []
  },
  {
   "cell_type": "markdown",
   "metadata": {},
   "source": [
    "# 6. Arcosine\n"
   ]
  },
  {
   "cell_type": "code",
   "execution_count": 3,
   "metadata": {},
   "outputs": [],
   "source": [
    "import numpy as np\n",
    "import matplotlib.pylab as plt"
   ]
  },
  {
   "cell_type": "code",
   "execution_count": 13,
   "metadata": {},
   "outputs": [
    {
     "name": "stderr",
     "output_type": "stream",
     "text": [
      "C:\\Users\\takchoi\\Anaconda3\\envs\\py36\\lib\\site-packages\\ipykernel_launcher.py:2: DeprecationWarning: The binary mode of fromstring is deprecated, as it behaves surprisingly on unicode inputs. Use frombuffer instead\n",
      "  \n"
     ]
    }
   ],
   "source": [
    "dat  = open(\"diff.bin\", \"rb\").read()\n",
    "dat = np.fromstring(dat, np.float32)\n",
    "dat = dat.reshape(-1,4).T"
   ]
  },
  {
   "cell_type": "code",
   "execution_count": 14,
   "metadata": {},
   "outputs": [
    {
     "name": "stderr",
     "output_type": "stream",
     "text": [
      "C:\\Users\\takchoi\\Anaconda3\\envs\\py36\\lib\\site-packages\\ipykernel_launcher.py:1: RuntimeWarning: divide by zero encountered in log2\n",
      "  \"\"\"Entry point for launching an IPython kernel.\n"
     ]
    }
   ],
   "source": [
    "logdiff = np.log2(dat)"
   ]
  },
  {
   "cell_type": "code",
   "execution_count": 16,
   "metadata": {},
   "outputs": [],
   "source": [
    "xaxis = np.arange(4000) * 3.14 / 1000 - 3.14 * 2"
   ]
  },
  {
   "cell_type": "code",
   "execution_count": 80,
   "metadata": {},
   "outputs": [
    {
     "ename": "NameError",
     "evalue": "name 'plt' is not defined",
     "output_type": "error",
     "traceback": [
      "\u001b[1;31m---------------------------------------------------------------------------\u001b[0m",
      "\u001b[1;31mNameError\u001b[0m                                 Traceback (most recent call last)",
      "\u001b[1;32m<ipython-input-80-af346d5569f6>\u001b[0m in \u001b[0;36m<module>\u001b[1;34m\u001b[0m\n\u001b[1;32m----> 1\u001b[1;33m \u001b[0mfig\u001b[0m \u001b[1;33m=\u001b[0m \u001b[0mplt\u001b[0m\u001b[1;33m.\u001b[0m\u001b[0mfigure\u001b[0m\u001b[1;33m(\u001b[0m\u001b[1;33m)\u001b[0m\u001b[1;33m\u001b[0m\u001b[1;33m\u001b[0m\u001b[0m\n\u001b[0m\u001b[0;32m      2\u001b[0m \u001b[0max\u001b[0m \u001b[1;33m=\u001b[0m \u001b[1;33m[\u001b[0m\u001b[1;36m0\u001b[0m\u001b[1;33m,\u001b[0m\u001b[1;36m0\u001b[0m\u001b[1;33m,\u001b[0m\u001b[1;36m0\u001b[0m\u001b[1;33m,\u001b[0m\u001b[1;36m0\u001b[0m\u001b[1;33m]\u001b[0m\u001b[1;33m\u001b[0m\u001b[1;33m\u001b[0m\u001b[0m\n\u001b[0;32m      3\u001b[0m \u001b[0mname\u001b[0m \u001b[1;33m=\u001b[0m \u001b[1;33m[\u001b[0m\u001b[1;34m\"atan\"\u001b[0m\u001b[1;33m,\u001b[0m \u001b[1;34m\"sin\"\u001b[0m\u001b[1;33m,\u001b[0m \u001b[1;34m\"cos\"\u001b[0m\u001b[1;33m,\u001b[0m \u001b[1;34m\"tan\"\u001b[0m\u001b[1;33m]\u001b[0m\u001b[1;33m\u001b[0m\u001b[1;33m\u001b[0m\u001b[0m\n\u001b[0;32m      4\u001b[0m \u001b[1;32mfor\u001b[0m \u001b[0mi\u001b[0m \u001b[1;32min\u001b[0m \u001b[0mrange\u001b[0m\u001b[1;33m(\u001b[0m\u001b[1;36m4\u001b[0m\u001b[1;33m)\u001b[0m\u001b[1;33m:\u001b[0m\u001b[1;33m\u001b[0m\u001b[1;33m\u001b[0m\u001b[0m\n\u001b[0;32m      5\u001b[0m     \u001b[0max\u001b[0m\u001b[1;33m[\u001b[0m\u001b[0mi\u001b[0m\u001b[1;33m]\u001b[0m\u001b[1;33m=\u001b[0m \u001b[0mfig\u001b[0m\u001b[1;33m.\u001b[0m\u001b[0madd_subplot\u001b[0m\u001b[1;33m(\u001b[0m\u001b[1;36m4\u001b[0m\u001b[1;33m,\u001b[0m\u001b[1;36m1\u001b[0m\u001b[1;33m,\u001b[0m\u001b[0mi\u001b[0m\u001b[1;33m+\u001b[0m\u001b[1;36m1\u001b[0m\u001b[1;33m)\u001b[0m\u001b[1;33m\u001b[0m\u001b[1;33m\u001b[0m\u001b[0m\n",
      "\u001b[1;31mNameError\u001b[0m: name 'plt' is not defined"
     ]
    }
   ],
   "source": [
    "fig = plt.figure()\n",
    "ax = [0,0,0,0]\n",
    "name = [\"atan\", \"sin\", \"cos\", \"tan\"]\n",
    "for i in range(4):\n",
    "    ax[i]= fig.add_subplot(4,1,i+1)\n",
    "    ax[i].plot(xaxis, dat[i])\n",
    "    ax[i].set_ylabel(name[i])\n",
    "ax[3].set_xlabel('angle(radian)')"
   ]
  },
  {
   "cell_type": "code",
   "execution_count": 270,
   "metadata": {},
   "outputs": [
    {
     "name": "stdout",
     "output_type": "stream",
     "text": [
      "Range low:0.100004 high:1.570796\n"
     ]
    },
    {
     "ename": "ValueError",
     "evalue": "could not broadcast input array from shape (100000,3) into shape (100000)",
     "output_type": "error",
     "traceback": [
      "\u001b[1;31m---------------------------------------------------------------------------\u001b[0m",
      "\u001b[1;31mValueError\u001b[0m                                Traceback (most recent call last)",
      "\u001b[1;32m<ipython-input-270-4a36c8ba86f4>\u001b[0m in \u001b[0;36m<module>\u001b[1;34m\u001b[0m\n\u001b[0;32m      9\u001b[0m     \u001b[0mx\u001b[0m\u001b[1;33m,\u001b[0m \u001b[0mgt\u001b[0m \u001b[1;33m=\u001b[0m \u001b[0mgenData\u001b[0m\u001b[1;33m(\u001b[0m\u001b[0m_size\u001b[0m\u001b[1;33m,\u001b[0m \u001b[0msets\u001b[0m\u001b[1;33m[\u001b[0m\u001b[0mi\u001b[0m\u001b[1;33m]\u001b[0m\u001b[1;33m[\u001b[0m\u001b[1;36m0\u001b[0m\u001b[1;33m]\u001b[0m\u001b[1;33m,\u001b[0m \u001b[0msets\u001b[0m\u001b[1;33m[\u001b[0m\u001b[0mi\u001b[0m\u001b[1;33m]\u001b[0m\u001b[1;33m[\u001b[0m\u001b[1;36m1\u001b[0m\u001b[1;33m]\u001b[0m\u001b[1;33m,\u001b[0m \u001b[0mnp\u001b[0m\u001b[1;33m.\u001b[0m\u001b[0marctan\u001b[0m\u001b[1;33m)\u001b[0m\u001b[1;33m\u001b[0m\u001b[1;33m\u001b[0m\u001b[0m\n\u001b[0;32m     10\u001b[0m     \u001b[0mX\u001b[0m\u001b[1;33m,\u001b[0m \u001b[0mmodel\u001b[0m \u001b[1;33m=\u001b[0m \u001b[0mfitModel\u001b[0m\u001b[1;33m(\u001b[0m\u001b[0mx\u001b[0m\u001b[1;33m,\u001b[0m \u001b[0mcubic\u001b[0m\u001b[1;33m,\u001b[0m \u001b[0mgt\u001b[0m\u001b[1;33m)\u001b[0m\u001b[1;33m\u001b[0m\u001b[1;33m\u001b[0m\u001b[0m\n\u001b[1;32m---> 11\u001b[1;33m     \u001b[0mres\u001b[0m \u001b[1;33m=\u001b[0m \u001b[0mcalcCost\u001b[0m\u001b[1;33m(\u001b[0m\u001b[0mmodel\u001b[0m\u001b[1;33m,\u001b[0m \u001b[0mX\u001b[0m\u001b[1;33m,\u001b[0m \u001b[0mgt\u001b[0m\u001b[1;33m,\u001b[0m \u001b[0mcubic\u001b[0m\u001b[1;33m,\u001b[0m \u001b[0mVerbose\u001b[0m\u001b[1;33m,\u001b[0m \u001b[0mi\u001b[0m\u001b[1;33m)\u001b[0m\u001b[1;33m\u001b[0m\u001b[1;33m\u001b[0m\u001b[0m\n\u001b[0m\u001b[0;32m     12\u001b[0m     \u001b[1;32mif\u001b[0m \u001b[0mres\u001b[0m \u001b[1;33m<\u001b[0m \u001b[0m_err\u001b[0m\u001b[1;33m:\u001b[0m\u001b[1;33m\u001b[0m\u001b[1;33m\u001b[0m\u001b[0m\n\u001b[0;32m     13\u001b[0m         \u001b[0m_err\u001b[0m \u001b[1;33m=\u001b[0m \u001b[0mres\u001b[0m\u001b[1;33m\u001b[0m\u001b[1;33m\u001b[0m\u001b[0m\n",
      "\u001b[1;32m<ipython-input-263-f3c9c4e00b6c>\u001b[0m in \u001b[0;36mcalcCost\u001b[1;34m(model, x, gt, met, v, i)\u001b[0m\n\u001b[0;32m      1\u001b[0m \u001b[1;32mdef\u001b[0m \u001b[0mcalcCost\u001b[0m\u001b[1;33m(\u001b[0m\u001b[0mmodel\u001b[0m\u001b[1;33m,\u001b[0m \u001b[0mx\u001b[0m\u001b[1;33m,\u001b[0m \u001b[0mgt\u001b[0m\u001b[1;33m,\u001b[0m \u001b[0mmet\u001b[0m\u001b[1;33m,\u001b[0m \u001b[0mv\u001b[0m\u001b[1;33m,\u001b[0m \u001b[0mi\u001b[0m\u001b[1;33m)\u001b[0m\u001b[1;33m:\u001b[0m\u001b[1;33m\u001b[0m\u001b[1;33m\u001b[0m\u001b[0m\n\u001b[1;32m----> 2\u001b[1;33m     \u001b[0mX\u001b[0m \u001b[1;33m=\u001b[0m \u001b[0mmet\u001b[0m\u001b[1;33m(\u001b[0m\u001b[0mx\u001b[0m\u001b[1;33m)\u001b[0m\u001b[1;33m\u001b[0m\u001b[1;33m\u001b[0m\u001b[0m\n\u001b[0m\u001b[0;32m      3\u001b[0m     \u001b[0mpred\u001b[0m \u001b[1;33m=\u001b[0m \u001b[0mmodel\u001b[0m\u001b[1;33m.\u001b[0m\u001b[0mpredict\u001b[0m\u001b[1;33m(\u001b[0m\u001b[0mX\u001b[0m\u001b[1;33m)\u001b[0m\u001b[1;33m\u001b[0m\u001b[1;33m\u001b[0m\u001b[0m\n\u001b[0;32m      4\u001b[0m     \u001b[0mres\u001b[0m \u001b[1;33m=\u001b[0m \u001b[0mnp\u001b[0m\u001b[1;33m.\u001b[0m\u001b[0mabs\u001b[0m\u001b[1;33m(\u001b[0m\u001b[0mpred\u001b[0m \u001b[1;33m-\u001b[0m \u001b[0mgt\u001b[0m\u001b[1;33m)\u001b[0m\u001b[1;33m\u001b[0m\u001b[1;33m\u001b[0m\u001b[0m\n\u001b[0;32m      5\u001b[0m     \u001b[0midx\u001b[0m \u001b[1;33m=\u001b[0m \u001b[0mnp\u001b[0m\u001b[1;33m.\u001b[0m\u001b[0margmax\u001b[0m\u001b[1;33m(\u001b[0m\u001b[0mres\u001b[0m\u001b[1;33m)\u001b[0m\u001b[1;33m\u001b[0m\u001b[1;33m\u001b[0m\u001b[0m\n",
      "\u001b[1;32m<ipython-input-267-8bae00df519d>\u001b[0m in \u001b[0;36mcubic\u001b[1;34m(x)\u001b[0m\n\u001b[0;32m      8\u001b[0m     \u001b[0mm\u001b[0m \u001b[1;33m=\u001b[0m \u001b[0mx\u001b[0m\u001b[1;33m.\u001b[0m\u001b[0mshape\u001b[0m\u001b[1;33m[\u001b[0m\u001b[1;36m0\u001b[0m\u001b[1;33m]\u001b[0m\u001b[1;33m\u001b[0m\u001b[1;33m\u001b[0m\u001b[0m\n\u001b[0;32m      9\u001b[0m     \u001b[0mX\u001b[0m \u001b[1;33m=\u001b[0m \u001b[0mnp\u001b[0m\u001b[1;33m.\u001b[0m\u001b[0mempty\u001b[0m\u001b[1;33m(\u001b[0m\u001b[1;33m(\u001b[0m\u001b[0mm\u001b[0m\u001b[1;33m,\u001b[0m \u001b[1;36m3\u001b[0m\u001b[1;33m)\u001b[0m\u001b[1;33m)\u001b[0m\u001b[1;33m\u001b[0m\u001b[1;33m\u001b[0m\u001b[0m\n\u001b[1;32m---> 10\u001b[1;33m     \u001b[0mX\u001b[0m\u001b[1;33m[\u001b[0m\u001b[1;33m:\u001b[0m\u001b[1;33m,\u001b[0m\u001b[1;36m0\u001b[0m\u001b[1;33m]\u001b[0m \u001b[1;33m=\u001b[0m \u001b[0mx\u001b[0m \u001b[1;33m;\u001b[0m \u001b[0mX\u001b[0m\u001b[1;33m[\u001b[0m\u001b[1;33m:\u001b[0m\u001b[1;33m,\u001b[0m\u001b[1;36m1\u001b[0m\u001b[1;33m]\u001b[0m \u001b[1;33m=\u001b[0m \u001b[0mx\u001b[0m \u001b[1;33m*\u001b[0m \u001b[0mx\u001b[0m\u001b[1;33m;\u001b[0m \u001b[0mX\u001b[0m\u001b[1;33m[\u001b[0m\u001b[1;33m:\u001b[0m\u001b[1;33m,\u001b[0m\u001b[1;36m2\u001b[0m\u001b[1;33m]\u001b[0m \u001b[1;33m=\u001b[0m \u001b[0mx\u001b[0m \u001b[1;33m*\u001b[0m \u001b[0mx\u001b[0m \u001b[1;33m*\u001b[0m \u001b[0mx\u001b[0m\u001b[1;33m\u001b[0m\u001b[1;33m\u001b[0m\u001b[0m\n\u001b[0m\u001b[0;32m     11\u001b[0m     \u001b[1;32mreturn\u001b[0m \u001b[0mX\u001b[0m\u001b[1;33m\u001b[0m\u001b[1;33m\u001b[0m\u001b[0m\n\u001b[0;32m     12\u001b[0m \u001b[1;33m\u001b[0m\u001b[0m\n",
      "\u001b[1;31mValueError\u001b[0m: could not broadcast input array from shape (100000,3) into shape (100000)"
     ]
    }
   ],
   "source": [
    "RR = 3\n",
    "_size = 100000\n",
    "Verbose = 1\n",
    "_model = None\n",
    "_err = 9999\n",
    "sets = [[0.1,np.pi/2],[np.pi/2,np.pi],[np.pi,5]]\n",
    "\n",
    "for i in range(RR):\n",
    "    x, gt = genData(_size, sets[i][0], sets[i][1], np.arctan)\n",
    "    X, model = fitModel(x, cubic, gt)\n",
    "    res = calcCost(model, X, gt, cubic, Verbose, i)\n",
    "    if res < _err:\n",
    "        _err = res\n",
    "        _model = model\n",
    "        print(i, res, model.intercept_, model.coef_)\n"
   ]
  },
  {
   "cell_type": "code",
   "execution_count": null,
   "metadata": {},
   "outputs": [],
   "source": [
    "# atan\n",
    "# atan(x) = x(a0 + a1 * x**2) / (b0 + b1 * x**2)\n",
    "# => [x x^3 -y x^2 * y] [a0 a1 b0 b1] = 0\n",
    "\n",
    "\n",
    "# (a0 + a1 * x**2) / (b0 + b1 * x) = y\n",
    "# => [1 x^2 -y x * y] [a0 a1 b0 b1] = 0"
   ]
  },
  {
   "cell_type": "code",
   "execution_count": 219,
   "metadata": {},
   "outputs": [],
   "source": [
    "def dlt_data(x, gt):\n",
    "    n = x.shape[0]\n",
    "    d = np.zeros((n, 4))\n",
    "    d[:,0] = 1 #x\n",
    "    d[:,1] = x ** 2\n",
    "    d[:,2] = -gt\n",
    "    d[:,3] = -x * gt\n",
    "    return d"
   ]
  },
  {
   "cell_type": "code",
   "execution_count": 215,
   "metadata": {},
   "outputs": [],
   "source": [
    "def train_model(dlt_data,full_matrices=False):\n",
    "    _,_,v= np.linalg.svd(dlt_data,full_matrices=full_matrices)\n",
    "    return v.T[:,-1]"
   ]
  },
  {
   "cell_type": "code",
   "execution_count": 220,
   "metadata": {},
   "outputs": [],
   "source": [
    "class Model(object):\n",
    "    def __init__(self, v):\n",
    "        self.a0 = v[0]\n",
    "        self.a1 = v[1]\n",
    "        self.b0 = v[2]\n",
    "        self.b1 = v[3]\n",
    "    def predict(self, x):\n",
    "        x2 = x ** 2\n",
    "        y = (self.a0 + self.a1 * x2) /(self.b0 + self.b1 * x)\n",
    "        return y\n",
    "    def acos(self, x):\n",
    "        negate = x < 0;\n",
    "        x = abs(x);\n",
    "        ret = -0.0187293;\n",
    "        ret = ret * x;\n",
    "        ret = ret + 0.0742610;\n",
    "        ret = ret * x;\n",
    "        ret = ret - 0.2121144;\n",
    "        ret = ret * x;\n",
    "        ret = ret + 1.5707288;\n",
    "        ret = ret * np.sqrt(1.0-x);\n",
    "        ret = ret - 2 * negate * ret;\n",
    "        return negate * 3.14159265358979 + ret;\n",
    "\n",
    "    def __str__(self):\n",
    "        return \"%.10f %.10f %.10f %.10f\" % (\n",
    "        self.a0, self.a1, self.b0, self.b1)"
   ]
  },
  {
   "cell_type": "code",
   "execution_count": 222,
   "metadata": {},
   "outputs": [
    {
     "data": {
      "text/plain": [
       "0.041666666666666664"
      ]
     },
     "execution_count": 222,
     "metadata": {},
     "output_type": "execute_result"
    }
   ],
   "source": [
    "1/(4*3*2)"
   ]
  },
  {
   "cell_type": "code",
   "execution_count": 223,
   "metadata": {},
   "outputs": [
    {
     "name": "stdout",
     "output_type": "stream",
     "text": [
      "Range low:0.000037 high:1.000000\n",
      "Range low:0.000000 high:1.000000\n",
      "MAX err idx 33315 value 2518.3914576734323 rad 0.33315333153331533\n"
     ]
    }
   ],
   "source": [
    "RR = 3\n",
    "_size = 100000\n",
    "Verbose = 1\n",
    "_model = None\n",
    "_err = 9999\n",
    "sets = [[0, 1]]\n",
    "i=0\n",
    "x, gt = genData(_size, sets[i][0], sets[i][1], np.sqrt)\n",
    "X = dlt_data(x, gt)\n",
    "v = train_model(X)\n",
    "model = Model(v)\n",
    "x, gt = genData(_size, sets[i][0], sets[i][1], np.sqrt, 0)\n",
    "Y = model.predict(x)\n",
    "err = np.abs(gt - Y)\n",
    "idx = np.argmax(err)\n",
    "print(\"MAX err\", \"idx\", idx, \"value\", err[idx], \"rad\", x[idx])"
   ]
  },
  {
   "cell_type": "code",
   "execution_count": 226,
   "metadata": {},
   "outputs": [
    {
     "data": {
      "text/plain": [
       "array([2.51896865e+03, 6.77983739e+02, 3.91883019e+02, ...,\n",
       "       1.00720796e+00, 1.00721520e+00, 1.00722245e+00])"
      ]
     },
     "execution_count": 226,
     "metadata": {},
     "output_type": "execute_result"
    }
   ],
   "source": [
    "Y[idx:]"
   ]
  },
  {
   "cell_type": "code",
   "execution_count": 207,
   "metadata": {},
   "outputs": [
    {
     "name": "stdout",
     "output_type": "stream",
     "text": [
      "-0.6867823401 0.6444705149 -0.2567862575 0.2169068713\n"
     ]
    }
   ],
   "source": [
    "print(model)"
   ]
  },
  {
   "cell_type": "code",
   "execution_count": 254,
   "metadata": {
    "scrolled": true
   },
   "outputs": [
    {
     "data": {
      "image/png": "[encoded data removed]",
      "text/plain": [
       "<Figure size 432x288 with 1 Axes>"
      ]
     },
     "metadata": {
      "needs_background": "light"
     },
     "output_type": "display_data"
    }
   ],
   "source": [
    "import matplotlib.pyplot as plt\n",
    "plt.plot(np.linspace(-1,1,_size), np.arccos(x))\n",
    "plt.show()"
   ]
  },
  {
   "cell_type": "code",
   "execution_count": 192,
   "metadata": {},
   "outputs": [
    {
     "data": {
      "text/plain": [
       "array([0.36902421, 0.70167109, 0.54490339, 0.27305515])"
      ]
     },
     "execution_count": 192,
     "metadata": {},
     "output_type": "execute_result"
    }
   ],
   "source": [
    "model"
   ]
  },
  {
   "cell_type": "code",
   "execution_count": 178,
   "metadata": {},
   "outputs": [
    {
     "data": {
      "text/plain": [
       "(100000,)"
      ]
     },
     "execution_count": 178,
     "metadata": {},
     "output_type": "execute_result"
    }
   ],
   "source": [
    "x.shape"
   ]
  },
  {
   "cell_type": "code",
   "execution_count": 271,
   "metadata": {},
   "outputs": [],
   "source": [
    "def quadInter(a0, a1, a2, f):\n",
    "    af0x = f - a0[0]\n",
    "    af1x = f - a1[0]\n",
    "    af2x = f - a2[0]\n",
    "    a01x = a0[0] - a1[0]\n",
    "    a02x = a0[0] - a2[0]\n",
    "    a12x = a1[0] - a2[0]\n",
    "    t0 = af1x / a02x\n",
    "    t1 = af2x / a01x\n",
    "    t2 = af0x / a12x\n",
    "    if 0:\n",
    "        y = a0[1] * t0 * t1 \n",
    "        y += a1[1] * t2 * -t1\n",
    "        y += a2[1] * t2 * t0\n",
    "    else:\n",
    "        y = t1 * (a0[1] * t0 - a1[1] * t2) + a2[1] * t2 * t0\n",
    "    return y\n"
   ]
  },
  {
   "cell_type": "code",
   "execution_count": 330,
   "metadata": {},
   "outputs": [
    {
     "data": {
      "text/plain": [
       "array([1.11976951, 1.11999899, 1.12022856, 1.12045825, 1.12068805,\n",
       "       1.12091796, 1.12114797, 1.1213781 , 1.12160833, 1.12183868,\n",
       "       1.12206913, 1.1222997 , 1.12253038, 1.12276116, 1.12299206,\n",
       "       1.12322307, 1.12345419, 1.12368542, 1.12391677, 1.12414822,\n",
       "       1.12437979, 1.12461147, 1.12484326, 1.12507516, 1.12530718,\n",
       "       1.12553931, 1.12577155, 1.12600391, 1.12623637, 1.12646896,\n",
       "       1.12670165, 1.12693446, 1.12716739, 1.12740042, 1.12763358,\n",
       "       1.12786684, 1.12810022, 1.12833372, 1.12856733, 1.12880106,\n",
       "       1.1290349 , 1.12926886, 1.12950293, 1.12973713, 1.12997143,\n",
       "       1.13020585, 1.13044039, 1.13067505, 1.13090982, 1.13114471,\n",
       "       1.13137972, 1.13161485, 1.13185009, 1.13208545, 1.13232093,\n",
       "       1.13255653, 1.13279224, 1.13302808, 1.13326403, 1.1335001 ,\n",
       "       1.1337363 , 1.13397261, 1.13420904, 1.13444559, 1.13468226,\n",
       "       1.13491905, 1.13515596, 1.13539299, 1.13563015, 1.13586742,\n",
       "       1.13610482, 1.13634233, 1.13657997, 1.13681773, 1.13705561,\n",
       "       1.13729362, 1.13753175, 1.13777   , 1.13800837, 1.13824686,\n",
       "       1.13848548, 1.13872422, 1.13896309, 1.13920208, 1.13944119,\n",
       "       1.13968043, 1.13991979, 1.14015928, 1.14039889, 1.14063863,\n",
       "       1.14087849, 1.14111848, 1.1413586 , 1.14159884, 1.1418392 ,\n",
       "       1.1420797 , 1.14232031, 1.14256106, 1.14280193, 1.14304293,\n",
       "       1.14328406, 1.14352532, 1.1437667 , 1.14400821, 1.14424985,\n",
       "       1.14449162, 1.14473352, 1.14497554, 1.1452177 , 1.14545998,\n",
       "       1.1457024 , 1.14594494, 1.14618762, 1.14643042, 1.14667336,\n",
       "       1.14691642, 1.14715962, 1.14740295, 1.14764641, 1.14789   ,\n",
       "       1.14813372, 1.14837758, 1.14862157, 1.14886569, 1.14910994,\n",
       "       1.14935433, 1.14959884, 1.1498435 , 1.15008828, 1.15033321,\n",
       "       1.15057826, 1.15082345, 1.15106877, 1.15131423, 1.15155983,\n",
       "       1.15180556, 1.15205142, 1.15229743, 1.15254356, 1.15278984,\n",
       "       1.15303625, 1.15328279, 1.15352948, 1.1537763 , 1.15402326,\n",
       "       1.15427036, 1.15451759, 1.15476497, 1.15501248, 1.15526013,\n",
       "       1.15550792, 1.15575585, 1.15600392, 1.15625213, 1.15650048,\n",
       "       1.15674897, 1.1569976 , 1.15724637, 1.15749528, 1.15774433,\n",
       "       1.15799353, 1.15824286, 1.15849234, 1.15874196, 1.15899173,\n",
       "       1.15924163, 1.15949168, 1.15974188, 1.15999222, 1.1602427 ,\n",
       "       1.16049332, 1.16074409, 1.16099501, 1.16124607, 1.16149727,\n",
       "       1.16174862, 1.16200012, 1.16225176, 1.16250355, 1.16275548,\n",
       "       1.16300756, 1.16325979, 1.16351217, 1.1637647 , 1.16401737,\n",
       "       1.16427019, 1.16452316, 1.16477628, 1.16502954, 1.16528296,\n",
       "       1.16553653, 1.16579024, 1.16604411, 1.16629813, 1.16655229,\n",
       "       1.16680661, 1.16706108, 1.16731571, 1.16757048, 1.16782541,\n",
       "       1.16808049, 1.16833572, 1.1685911 , 1.16884664, 1.16910233,\n",
       "       1.16935818, 1.16961418, 1.16987033, 1.17012664, 1.17038311,\n",
       "       1.17063973, 1.1708965 , 1.17115344, 1.17141052, 1.17166777,\n",
       "       1.17192517, 1.17218273, 1.17244045, 1.17269832, 1.17295636,\n",
       "       1.17321455, 1.1734729 , 1.17373141, 1.17399008, 1.17424891,\n",
       "       1.1745079 , 1.17476705, 1.17502636, 1.17528583, 1.17554546,\n",
       "       1.17580526, 1.17606521, 1.17632533, 1.17658561, 1.17684606,\n",
       "       1.17710666, 1.17736743, 1.17762837, 1.17788947, 1.17815073,\n",
       "       1.17841216, 1.17867376, 1.17893552, 1.17919744, 1.17945953,\n",
       "       1.17972179, 1.17998422, 1.18024681, 1.18050957, 1.1807725 ,\n",
       "       1.18103559, 1.18129886, 1.18156229, 1.1818259 , 1.18208967,\n",
       "       1.18235361, 1.18261773, 1.18288201, 1.18314646, 1.18341109,\n",
       "       1.18367589, 1.18394086, 1.184206  , 1.18447132, 1.18473681,\n",
       "       1.18500247, 1.1852683 , 1.18553432, 1.1858005 , 1.18606686,\n",
       "       1.1863334 , 1.18660011, 1.18686699, 1.18713406, 1.1874013 ,\n",
       "       1.18766871, 1.18793631, 1.18820408, 1.18847203, 1.18874016,\n",
       "       1.18900847, 1.18927696, 1.18954563, 1.18981448, 1.19008351,\n",
       "       1.19035272, 1.19062211, 1.19089168, 1.19116144, 1.19143137,\n",
       "       1.19170149, 1.1919718 , 1.19224228, 1.19251296, 1.19278381,\n",
       "       1.19305485, 1.19332608, 1.19359749, 1.19386909, 1.19414087,\n",
       "       1.19441284, 1.194685  , 1.19495735, 1.19522988, 1.19550261,\n",
       "       1.19577552, 1.19604862, 1.19632191, 1.19659539, 1.19686906,\n",
       "       1.19714292, 1.19741698, 1.19769122, 1.19796566, 1.19824029,\n",
       "       1.19851512, 1.19879014, 1.19906535, 1.19934075, 1.19961635,\n",
       "       1.19989215, 1.20016814, 1.20044433, 1.20072071, 1.2009973 ,\n",
       "       1.20127407, 1.20155105, 1.20182823, 1.2021056 , 1.20238317,\n",
       "       1.20266095, 1.20293892, 1.20321709, 1.20349547, 1.20377405,\n",
       "       1.20405283, 1.20433181, 1.20461099, 1.20489038, 1.20516997,\n",
       "       1.20544976, 1.20572977, 1.20600997, 1.20629038, 1.206571  ,\n",
       "       1.20685182, 1.20713286, 1.2074141 , 1.20769554, 1.2079772 ,\n",
       "       1.20825906, 1.20854114, 1.20882342, 1.20910592, 1.20938863,\n",
       "       1.20967154, 1.20995468, 1.21023802, 1.21052157, 1.21080534,\n",
       "       1.21108933, 1.21137353, 1.21165794, 1.21194257, 1.21222741,\n",
       "       1.21251248, 1.21279775, 1.21308325, 1.21336897, 1.2136549 ,\n",
       "       1.21394105, 1.21422743, 1.21451402, 1.21480083, 1.21508787,\n",
       "       1.21537513, 1.2156626 , 1.21595031, 1.21623823, 1.21652638,\n",
       "       1.21681476, 1.21710336, 1.21739219, 1.21768124, 1.21797052,\n",
       "       1.21826002, 1.21854976, 1.21883972, 1.21912992, 1.21942034,\n",
       "       1.21971099, 1.22000187, 1.22029299, 1.22058433, 1.22087591,\n",
       "       1.22116773, 1.22145977, 1.22175205, 1.22204457, 1.22233732,\n",
       "       1.22263031, 1.22292353, 1.22321699, 1.22351069, 1.22380463,\n",
       "       1.2240988 , 1.22439322, 1.22468788, 1.22498277, 1.22527791,\n",
       "       1.22557329, 1.22586892, 1.22616478, 1.2264609 , 1.22675725,\n",
       "       1.22705385, 1.2273507 , 1.2276478 , 1.22794514, 1.22824273,\n",
       "       1.22854056, 1.22883865, 1.22913699, 1.22943558, 1.22973441,\n",
       "       1.2300335 , 1.23033285, 1.23063244, 1.23093229, 1.2312324 ,\n",
       "       1.23153276, 1.23183337, 1.23213424, 1.23243537, 1.23273676,\n",
       "       1.23303841, 1.23334031, 1.23364248, 1.2339449 , 1.23424759,\n",
       "       1.23455054, 1.23485375, 1.23515723, 1.23546097, 1.23576497,\n",
       "       1.23606924, 1.23637378, 1.23667858, 1.23698365, 1.23728899,\n",
       "       1.2375946 , 1.23790048, 1.23820663, 1.23851306, 1.23881975,\n",
       "       1.23912672, 1.23943396, 1.23974148, 1.24004927, 1.24035733,\n",
       "       1.24066568, 1.2409743 , 1.2412832 , 1.24159238, 1.24190184,\n",
       "       1.24221158, 1.24252161, 1.24283191, 1.2431425 , 1.24345337,\n",
       "       1.24376453, 1.24407597, 1.2443877 , 1.24469972, 1.24501202,\n",
       "       1.24532462, 1.2456375 , 1.24595068, 1.24626414, 1.2465779 ,\n",
       "       1.24689195, 1.2472063 , 1.24752094, 1.24783587, 1.24815111,\n",
       "       1.24846664, 1.24878246, 1.24909859, 1.24941502, 1.24973175,\n",
       "       1.25004878, 1.25036612, 1.25068375, 1.25100169, 1.25131994,\n",
       "       1.2516385 , 1.25195736, 1.25227653, 1.25259601, 1.2529158 ])"
      ]
     },
     "execution_count": 330,
     "metadata": {},
     "output_type": "execute_result"
    }
   ],
   "source": [
    "a = np.linspace(0.9,1,1001)\n",
    "np.arcsin(a[:500])\n"
   ]
  },
  {
   "cell_type": "code",
   "execution_count": 331,
   "metadata": {},
   "outputs": [
    {
     "data": {
      "text/plain": [
       "array([1.2532359 , 1.25355631, 1.25387704, 1.25419807, 1.25451943,\n",
       "       1.2548411 , 1.25516309, 1.25548539, 1.25580801, 1.25613096,\n",
       "       1.25645422, 1.25677781, 1.25710172, 1.25742595, 1.25775051,\n",
       "       1.25807539, 1.2584006 , 1.25872614, 1.259052  , 1.2593782 ,\n",
       "       1.25970473, 1.26003158, 1.26035878, 1.2606863 , 1.26101416,\n",
       "       1.26134236, 1.26167089, 1.26199977, 1.26232898, 1.26265853,\n",
       "       1.26298843, 1.26331866, 1.26364924, 1.26398017, 1.26431144,\n",
       "       1.26464306, 1.26497503, 1.26530734, 1.26564001, 1.26597303,\n",
       "       1.2663064 , 1.26664013, 1.26697421, 1.26730864, 1.26764344,\n",
       "       1.26797859, 1.2683141 , 1.26864998, 1.26898622, 1.26932282,\n",
       "       1.26965978, 1.26999711, 1.27033481, 1.27067288, 1.27101131,\n",
       "       1.27135012, 1.2716893 , 1.27202885, 1.27236878, 1.27270909,\n",
       "       1.27304977, 1.27339083, 1.27373227, 1.27407409, 1.27441629,\n",
       "       1.27475888, 1.27510185, 1.27544521, 1.27578896, 1.2761331 ,\n",
       "       1.27647762, 1.27682254, 1.27716785, 1.27751356, 1.27785967,\n",
       "       1.27820617, 1.27855307, 1.27890037, 1.27924807, 1.27959618,\n",
       "       1.27994469, 1.2802936 , 1.28064293, 1.28099266, 1.28134281,\n",
       "       1.28169336, 1.28204434, 1.28239572, 1.28274752, 1.28309974,\n",
       "       1.28345238, 1.28380545, 1.28415893, 1.28451284, 1.28486717,\n",
       "       1.28522194, 1.28557713, 1.28593275, 1.2862888 , 1.28664529,\n",
       "       1.28700222, 1.28735958, 1.28771738, 1.28807562, 1.28843431,\n",
       "       1.28879343, 1.28915301, 1.28951303, 1.2898735 , 1.29023442,\n",
       "       1.29059579, 1.29095762, 1.2913199 , 1.29168265, 1.29204585,\n",
       "       1.29240951, 1.29277364, 1.29313823, 1.29350329, 1.29386881,\n",
       "       1.29423481, 1.29460128, 1.29496823, 1.29533565, 1.29570355,\n",
       "       1.29607193, 1.29644079, 1.29681014, 1.29717997, 1.29755029,\n",
       "       1.2979211 , 1.2982924 , 1.2986642 , 1.29903649, 1.29940928,\n",
       "       1.29978257, 1.30015636, 1.30053066, 1.30090546, 1.30128077,\n",
       "       1.30165659, 1.30203293, 1.30240978, 1.30278715, 1.30316503,\n",
       "       1.30354344, 1.30392237, 1.30430183, 1.30468181, 1.30506233,\n",
       "       1.30544338, 1.30582496, 1.30620708, 1.30658974, 1.30697295,\n",
       "       1.30735669, 1.30774099, 1.30812583, 1.30851122, 1.30889717,\n",
       "       1.30928368, 1.30967074, 1.31005837, 1.31044656, 1.31083531,\n",
       "       1.31122464, 1.31161453, 1.31200501, 1.31239605, 1.31278768,\n",
       "       1.31317989, 1.31357268, 1.31396606, 1.31436004, 1.3147546 ,\n",
       "       1.31514976, 1.31554552, 1.31594188, 1.31633884, 1.31673641,\n",
       "       1.31713459, 1.31753338, 1.31793279, 1.31833282, 1.31873346,\n",
       "       1.31913474, 1.31953663, 1.31993916, 1.32034232, 1.32074612,\n",
       "       1.32115056, 1.32155564, 1.32196137, 1.32236774, 1.32277477,\n",
       "       1.32318245, 1.32359079, 1.3239998 , 1.32440946, 1.3248198 ,\n",
       "       1.32523081, 1.32564249, 1.32605485, 1.3264679 , 1.32688163,\n",
       "       1.32729605, 1.32771116, 1.32812696, 1.32854347, 1.32896068,\n",
       "       1.32937859, 1.32979722, 1.33021656, 1.33063662, 1.3310574 ,\n",
       "       1.33147891, 1.33190114, 1.33232411, 1.33274782, 1.33317227,\n",
       "       1.33359746, 1.3340234 , 1.3344501 , 1.33487755, 1.33530576,\n",
       "       1.33573474, 1.33616449, 1.33659501, 1.33702632, 1.3374584 ,\n",
       "       1.33789127, 1.33832493, 1.33875939, 1.33919465, 1.33963071,\n",
       "       1.34006759, 1.34050527, 1.34094378, 1.34138311, 1.34182326,\n",
       "       1.34226425, 1.34270608, 1.34314875, 1.34359227, 1.34403664,\n",
       "       1.34448186, 1.34492795, 1.34537491, 1.34582274, 1.34627145,\n",
       "       1.34672104, 1.34717152, 1.3476229 , 1.34807517, 1.34852835,\n",
       "       1.34898244, 1.34943744, 1.34989337, 1.35035023, 1.35080802,\n",
       "       1.35126674, 1.35172642, 1.35218704, 1.35264862, 1.35311116,\n",
       "       1.35357468, 1.35403916, 1.35450463, 1.35497109, 1.35543855,\n",
       "       1.355907  , 1.35637646, 1.35684694, 1.35731843, 1.35779096,\n",
       "       1.35826452, 1.35873912, 1.35921477, 1.35969147, 1.36016924,\n",
       "       1.36064808, 1.36112799, 1.36160899, 1.36209108, 1.36257428,\n",
       "       1.36305858, 1.36354399, 1.36403053, 1.3645182 , 1.36500701,\n",
       "       1.36549696, 1.36598807, 1.36648035, 1.3669738 , 1.36746843,\n",
       "       1.36796424, 1.36846126, 1.36895948, 1.36945892, 1.36995959,\n",
       "       1.37046148, 1.37096463, 1.37146902, 1.37197468, 1.37248161,\n",
       "       1.37298982, 1.37349933, 1.37401013, 1.37452225, 1.37503569,\n",
       "       1.37555046, 1.37606658, 1.37658405, 1.37710289, 1.3776231 ,\n",
       "       1.3781447 , 1.3786677 , 1.3791921 , 1.37971793, 1.3802452 ,\n",
       "       1.3807739 , 1.38130407, 1.3818357 , 1.38236882, 1.38290343,\n",
       "       1.38343955, 1.38397719, 1.38451636, 1.38505708, 1.38559936,\n",
       "       1.38614321, 1.38668866, 1.3872357 , 1.38778436, 1.38833465,\n",
       "       1.38888659, 1.38944019, 1.38999547, 1.39055244, 1.39111111,\n",
       "       1.39167151, 1.39223365, 1.39279755, 1.39336322, 1.39393067,\n",
       "       1.39449994, 1.39507103, 1.39564396, 1.39621876, 1.39679543,\n",
       "       1.39737401, 1.3979545 , 1.39853692, 1.3991213 , 1.39970766,\n",
       "       1.40029602, 1.40088639, 1.4014788 , 1.40207327, 1.40266983,\n",
       "       1.40326848, 1.40386927, 1.4044722 , 1.40507731, 1.40568461,\n",
       "       1.40629414, 1.40690591, 1.40751996, 1.4081363 , 1.40875496,\n",
       "       1.40937598, 1.40999937, 1.41062517, 1.4112534 , 1.41188409,\n",
       "       1.41251728, 1.41315298, 1.41379124, 1.41443209, 1.41507555,\n",
       "       1.41572165, 1.41637044, 1.41702195, 1.4176762 , 1.41833324,\n",
       "       1.4189931 , 1.41965582, 1.42032144, 1.42098999, 1.42166152,\n",
       "       1.42233606, 1.42301365, 1.42369435, 1.42437818, 1.42506521,\n",
       "       1.42575546, 1.42644899, 1.42714585, 1.42784607, 1.42854973,\n",
       "       1.42925685, 1.42996751, 1.43068174, 1.43139961, 1.43212117,\n",
       "       1.43284648, 1.4335756 , 1.43430859, 1.43504552, 1.43578644,\n",
       "       1.43653142, 1.43728054, 1.43803385, 1.43879145, 1.43955338,\n",
       "       1.44031975, 1.44109061, 1.44186606, 1.44264617, 1.44343104,\n",
       "       1.44422074, 1.44501538, 1.44581504, 1.44661982, 1.44742983,\n",
       "       1.44824516, 1.44906593, 1.44989224, 1.45072421, 1.45156196,\n",
       "       1.4524056 , 1.45325527, 1.4541111 , 1.45497323, 1.45584179,\n",
       "       1.45671693, 1.45759881, 1.45848759, 1.45938343, 1.46028649,\n",
       "       1.46119697, 1.46211504, 1.46304091, 1.46397476, 1.46491682,\n",
       "       1.46586731, 1.46682646, 1.4677945 , 1.46877169, 1.46975831,\n",
       "       1.47075461, 1.47176091, 1.4727775 , 1.47380472, 1.47484289,\n",
       "       1.47589239, 1.47695358, 1.47802688, 1.4791127 , 1.48021151,\n",
       "       1.48132377, 1.48244999, 1.48359072, 1.48474653, 1.48591804,\n",
       "       1.4871059 , 1.48831083, 1.48953359, 1.49077498, 1.49203589,\n",
       "       1.49331728, 1.49462018, 1.49594571, 1.49729509, 1.49866967,\n",
       "       1.50007091, 1.50150043, 1.50296002, 1.50445166, 1.50597757,\n",
       "       1.50754023, 1.50914242, 1.51078732, 1.51247854, 1.51422024,\n",
       "       1.51601722, 1.51787513, 1.51980061, 1.52180163, 1.52388787,\n",
       "       1.52607124, 1.52836674, 1.53079366, 1.53337757, 1.53615358,\n",
       "       1.53917223, 1.54251111, 1.54630082, 1.55079599, 1.55665407,\n",
       "       1.57079633])"
      ]
     },
     "execution_count": 331,
     "metadata": {},
     "output_type": "execute_result"
    }
   ],
   "source": [
    "np.arcsin(a[500:])"
   ]
  },
  {
   "cell_type": "code",
   "execution_count": 292,
   "metadata": {},
   "outputs": [
    {
     "data": {
      "text/plain": [
       "0.008726646259971648"
      ]
     },
     "execution_count": 292,
     "metadata": {},
     "output_type": "execute_result"
    }
   ],
   "source": [
    "np.pi/360"
   ]
  },
  {
   "cell_type": "code",
   "execution_count": 6,
   "metadata": {},
   "outputs": [],
   "source": [
    "import tensorflow.keras.backend as K\n",
    "from tensorflow import keras"
   ]
  },
  {
   "cell_type": "code",
   "execution_count": 7,
   "metadata": {},
   "outputs": [],
   "source": [
    "def binary_focal_loss_with_logits(alpha, gamma=2.0):\n",
    "    if alpha >= 0:\n",
    "        alpha_t0 = alpha\n",
    "        alpha_t1 = 1 - alpha\n",
    "    else:\n",
    "        alpha_t0 = 1\n",
    "        alpha_t1 = 1\n",
    "    def binary_focal_loss(y_true, y_pred, return_type=0):\n",
    "        epsilon = K.epsilon()\n",
    "        # clip to prevent NaN's and Inf's\n",
    "        y_pred = K.clip(y_pred, epsilon, 1.-epsilon)\n",
    "        #pt_1 = K.clip(pt_1, epsilon, 1. - epsilon)\n",
    "        #pt_0 = K.clip(pt_0, epsilon, 1. - epsilon)\n",
    "        if return_type==0:\n",
    "            return -K.mean(y_true * alpha_t0 * K.pow(1. - y_pred, gamma) * K.log(y_pred)) \\\n",
    "               -K.mean((1 - y_true) * alpha_t1 * K.pow(y_pred, gamma) * K.log(1. - y_pred))\n",
    "        else:\n",
    "            return -(y_true * alpha_t0 * K.pow(1. - y_pred, gamma) * K.log(y_pred)) \\\n",
    "               -((1 - y_true) * alpha_t1 * K.pow(y_pred, gamma) * K.log(1. - y_pred))\n",
    "    return binary_focal_loss"
   ]
  },
  {
   "cell_type": "code",
   "execution_count": 8,
   "metadata": {},
   "outputs": [],
   "source": [
    "R = 1000\n",
    "NS = np.linspace(0,1.0,R)\n",
    "a = K.constant(np.vstack([np.ones((1,R)),np.zeros((1,R))]))\n",
    "b=  K.constant(np.vstack([np.expand_dims(NS,0),np.expand_dims(NS,0)]))\n",
    "gammas = [0.5, 1, 2, 3, 4]\n",
    "c0_1 = binary_focal_loss_with_logits(0.5, -1)(a, b, 1)\n",
    "c1 = binary_focal_loss_with_logits(1, -1)(a, b, 1)\n",
    "c2 = binary_focal_loss_with_logits(2, -1)(a, b, 1)\n",
    "c3 = binary_focal_loss_with_logits(3, -1)(a, b, 1)\n",
    "c4 = binary_focal_loss_with_logits(4, -1)(a, b, 1)\n",
    "ce = keras.backend.binary_crossentropy(a, b)"
   ]
  },
  {
   "cell_type": "code",
   "execution_count": 9,
   "metadata": {},
   "outputs": [],
   "source": [
    "d = [K.eval(c) for c in [c0_1, c1, c2, c3, c4]]\n",
    "dce = K.eval(ce)"
   ]
  },
  {
   "cell_type": "code",
   "execution_count": 10,
   "metadata": {},
   "outputs": [
    {
     "data": {
      "text/plain": [
       "<Figure size 640x480 with 1 Axes>"
      ]
     },
     "metadata": {},
     "output_type": "display_data"
    }
   ],
   "source": [
    "import matplotlib.pyplot as plt\n",
    "for i in range(5):\n",
    "    plt.plot(NS, d[i][0], label='focal_loss[%.1f,noweight]' % gammas[i])\n",
    "plt.plot(NS, dce[0],color='black',label='cross_entropy')\n",
    "plt.ylim([0,5])\n",
    "plt.legend()\n",
    "plt.title(\"binary loss on ground truth is 1\")\n",
    "plt.show()"
   ]
  },
  {
   "cell_type": "code",
   "execution_count": 102,
   "metadata": {},
   "outputs": [],
   "source": [
    "def categorical_focal_loss_with_logits(alpha, gamma=2.):\n",
    "    \"\"\"\n",
    "    Softmax version of focal loss.\n",
    "    When there is a skew between different categories/labels in your data set, you can try to apply this function as a\n",
    "    loss.\n",
    "           m\n",
    "      FL = ∑  -alpha * (1 - p_o,c)^gamma * y_o,c * log(p_o,c)\n",
    "          c=1\n",
    "      where m = number of classes, c = class and o = observation\n",
    "    Parameters:\n",
    "      alpha -- the same as weighing factor in balanced cross entropy. Alpha is used to specify the weight of different\n",
    "      categories/labels, the size of the array needs to be consistent with the number of classes.\n",
    "      gamma -- focusing parameter for modulating factor (1-p)\n",
    "    Default value:\n",
    "      gamma -- 2.0 as mentioned in the paper\n",
    "      alpha -- 0.25 as mentioned in the paper\n",
    "    References:\n",
    "        Official paper: https://arxiv.org/pdf/1708.02002.pdf\n",
    "        https://www.tensorflow.org/api_docs/python/tf/keras/backend/categorical_crossentropy\n",
    "    Usage:\n",
    "     model.compile(loss=[categorical_focal_loss(alpha=[[.25, .25, .25]], gamma=2)], metrics=[\"accuracy\"], optimizer=adam)\n",
    "    \"\"\"\n",
    "\n",
    "    alpha = np.array(alpha, dtype=np.float32)\n",
    "\n",
    "    def categorical_focal_loss(y_true, y_pred, return_type=0):\n",
    "        \"\"\"\n",
    "        :param y_true: A tensor of the same shape as `y_pred`\n",
    "        :param y_pred: A tensor resulting from a softmax\n",
    "        :return: Output tensor.\n",
    "        \"\"\"\n",
    "\n",
    "        # Scale predictions so that the class probas of each sample sum to 1\n",
    "        y_pred /= K.sum(y_pred, axis=-1, keepdims=True)\n",
    "\n",
    "        # Clip the prediction value to prevent NaN's and Inf's\n",
    "        epsilon = K.epsilon()\n",
    "        y_pred = K.clip(y_pred, epsilon, 1. - epsilon)\n",
    "\n",
    "        # Calculate Cross Entropy\n",
    "        cross_entropy = -y_true * K.log(y_pred)\n",
    "\n",
    "        # Calculate Focal Loss\n",
    "        loss = alpha * K.pow(1 - y_pred, gamma) * cross_entropy\n",
    "\n",
    "        # Compute mean loss in mini_batch\n",
    "        if return_type == 0: # totoal loss\n",
    "            return K.mean(K.sum(loss, axis=-1))\n",
    "        elif return_type == 1: # loss per prediction\n",
    "            return K.sum(loss, axis=-1)\n",
    "        else:\n",
    "            return loss # loss per each class of a prediction\n",
    "        \n",
    "    return categorical_focal_loss\n"
   ]
  },
  {
   "cell_type": "code",
   "execution_count": null,
   "metadata": {},
   "outputs": [],
   "source": []
  },
  {
   "cell_type": "code",
   "execution_count": 103,
   "metadata": {},
   "outputs": [],
   "source": [
    "\n",
    "a = K.constant(np.array([[1.0,0.0],[1.0,0.0]]))\n",
    "b=  K.constant(np.array([[0.9,0.5],[0.1,0.5]]))\n",
    "c4 = categorical_focal_loss_with_logits(1, 0)(a, b, 2)\n",
    "ce = keras.backend.categorical_crossentropy(a, b)\n"
   ]
  },
  {
   "cell_type": "code",
   "execution_count": 104,
   "metadata": {},
   "outputs": [
    {
     "name": "stdout",
     "output_type": "stream",
     "text": [
      "[[0.44183278 0.        ]\n",
      " [1.7917595  0.        ]]\n",
      "[0.44183278 1.7917595 ]\n"
     ]
    }
   ],
   "source": [
    "aa = K.eval(c4)\n",
    "bb = K.eval(ce)\n",
    "print(aa)\n",
    "print(bb)"
   ]
  },
  {
   "cell_type": "code",
   "execution_count": 105,
   "metadata": {},
   "outputs": [],
   "source": [
    "R = 1000\n",
    "NS = np.linspace(0,1.0,R)\n",
    "a = K.constant(np.vstack([np.ones((1,R)),np.zeros((1,R))]).T)\n",
    "b=  K.constant(np.vstack([np.expand_dims(NS,0),np.ones((1,R))*0.5]).T)\n",
    "gammas = [0.5, 1, 2, 3, 4]\n",
    "c0_1 = categorical_focal_loss_with_logits(1, 0.5)(a, b, 1)\n",
    "c1 = categorical_focal_loss_with_logits(1, 1)(a, b, 1)\n",
    "c2 = categorical_focal_loss_with_logits(1, 2)(a, b, 1)\n",
    "c3 = categorical_focal_loss_with_logits(1, 3)(a, b, 1)\n",
    "c4 = categorical_focal_loss_with_logits(1, 4)(a, b, 1)\n",
    "ce = keras.backend.categorical_crossentropy(a, b)"
   ]
  },
  {
   "cell_type": "code",
   "execution_count": null,
   "metadata": {},
   "outputs": [],
   "source": []
  },
  {
   "cell_type": "code",
   "execution_count": 106,
   "metadata": {},
   "outputs": [],
   "source": [
    "d = [K.eval(c) for c in [c0_1, c1, c2, c3, c4]]\n",
    "dce = K.eval(ce)"
   ]
  },
  {
   "cell_type": "code",
   "execution_count": 112,
   "metadata": {},
   "outputs": [
    {
     "data": {
      "text/plain": [
       "(1000,)"
      ]
     },
     "execution_count": 112,
     "metadata": {},
     "output_type": "execute_result"
    }
   ],
   "source": [
    "dce.shape"
   ]
  },
  {
   "cell_type": "code",
   "execution_count": 113,
   "metadata": {},
   "outputs": [
    {
     "data": {
      "image/png": "[encoded data removed]",
      "text/plain": [
       "<Figure size 432x288 with 1 Axes>"
      ]
     },
     "metadata": {
      "needs_background": "light"
     },
     "output_type": "display_data"
    }
   ],
   "source": [
    "import matplotlib.pyplot as plt\n",
    "for i in range(5):\n",
    "    plt.plot(NS, d[i], label='focal_loss[%.1f,noweight]' % gammas[i])\n",
    "plt.plot(NS, dce,color='black',label='cross_entropy')\n",
    "plt.ylim([0,5])\n",
    "plt.legend()\n",
    "plt.title(\"binary loss on ground truth is 1\")\n",
    "plt.show()"
   ]
  },
  {
   "cell_type": "code",
   "execution_count": 237,
   "metadata": {},
   "outputs": [],
   "source": [
    "def similar3d_t(x=0,y=0,z=0,t=[0,0,0],s=[1,1,1]):\n",
    "    rz = np.array([\n",
    "        [np.cos(z), -np.sin(z), 0, 0],\n",
    "        [np.sin(z), np.cos(z), 0, 0],\n",
    "        [0, 0, 1, 0],\n",
    "        [0, 0, 0, 1]\n",
    "    ])\n",
    "    ry = np.array([\n",
    "        [np.cos(y), 0, np.sin(y), 0],\n",
    "        [0, 1, 0, 0],\n",
    "        [-np.sin(y), 0, np.cos(y), 0],\n",
    "        [0, 0, 0, 1]\n",
    "    ])\n",
    "    rx = np.array([\n",
    "        [1, 0, 0, 0],\n",
    "        [0, np.cos(x), -np.sin(x), 0],\n",
    "        [0, np.sin(x), np.cos(x), 0],\n",
    "        [0, 0, 0, 1]\n",
    "    ])\n",
    "    t = np.array([\n",
    "        [1, 0, 0, t[0]],\n",
    "        [0, 1, 0, t[1]],\n",
    "        [0, 0, 1, t[2]],\n",
    "        [0, 0, 0, 1]\n",
    "    ])\n",
    "    s = np.array([\n",
    "        [s[0], 0, 0, 0],\n",
    "        [0, s[1], 0, 0],\n",
    "        [0, 0, s[2], 0],\n",
    "        [0, 0, 0, 1]\n",
    "    ])\n",
    "    H = rz @ ry @ rx @ t @ s\n",
    "    return H\n"
   ]
  },
  {
   "cell_type": "code",
   "execution_count": 243,
   "metadata": {},
   "outputs": [],
   "source": [
    "x = np.array([[1.,1.,1.,1.]]).T\n",
    "H = similar3d_t(z=np.pi/2,s=[2.,2.,3.],t=[0,0,3])"
   ]
  },
  {
   "cell_type": "code",
   "execution_count": 244,
   "metadata": {},
   "outputs": [
    {
     "name": "stdout",
     "output_type": "stream",
     "text": [
      "[[1.]\n",
      " [1.]\n",
      " [1.]\n",
      " [1.]] =>\n",
      " [[-2.]\n",
      " [ 2.]\n",
      " [ 6.]\n",
      " [ 1.]]\n"
     ]
    }
   ],
   "source": [
    "X = H @ x\n",
    "print(x, '=>\\n', X)"
   ]
  },
  {
   "cell_type": "code",
   "execution_count": 230,
   "metadata": {},
   "outputs": [
    {
     "data": {
      "image/png": "[encoded data removed]",
      "text/plain": [
       "<Figure size 432x288 with 1 Axes>"
      ]
     },
     "metadata": {
      "needs_background": "light"
     },
     "output_type": "display_data"
    }
   ],
   "source": [
    "from mpl_toolkits import mplot3d\n",
    "fig = plt.figure()\n",
    "ax = plt.axes(projection='3d')\n",
    "axis=np.linspace(-1,1,100)\n",
    "zero=np.zeros_like(axis)\n",
    "ax.plot3D(axis,zero,zero,'black')\n",
    "ax.plot3D(zero,axis,zero,'black')\n",
    "ax.plot3D(zero,zero,axis,'black')\n",
    "#ax.scatter3D(xdata, ydata, zdata, c=zdata, cmap='Greens');\n",
    "ax.scatter3D(x[0], x[1], x[2], 'blue')\n",
    "ax.scatter3D(X[0], X[1], X[2], 'green')\n",
    "\n",
    "plt.show()\n"
   ]
  },
  {
   "cell_type": "code",
   "execution_count": 196,
   "metadata": {},
   "outputs": [
    {
     "data": {
      "text/plain": [
       "<matplotlib.collections.PathCollection at 0x1c554f5a588>"
      ]
     },
     "execution_count": 196,
     "metadata": {},
     "output_type": "execute_result"
    },
    {
     "data": {
      "image/png": "[encoded data removed]",
      "text/plain": [
       "<Figure size 432x288 with 1 Axes>"
      ]
     },
     "metadata": {
      "needs_background": "light"
     },
     "output_type": "display_data"
    }
   ],
   "source": [
    "plt.scatter([1],[1])\n",
    "plt.scatter([-0.25],[0.25])\n",
    "plt.scatter([0],[0])"
   ]
  },
  {
   "cell_type": "code",
   "execution_count": null,
   "metadata": {},
   "outputs": [],
   "source": []
  }
 ],
 "metadata": {
  "kernelspec": {
   "display_name": "Python 3",
   "language": "python",
   "name": "python3"
  },
  "language_info": {
   "codemirror_mode": {
    "name": "ipython",
    "version": 3
   },
   "file_extension": ".py",
   "mimetype": "text/x-python",
   "name": "python",
   "nbconvert_exporter": "python",
   "pygments_lexer": "ipython3",
   "version": "3.6.8"
  }
 },
 "nbformat": 4,
 "nbformat_minor": 2
}
