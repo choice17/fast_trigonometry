{
 "cells": [
  {
   "cell_type": "code",
   "execution_count": 1,
   "metadata": {},
   "outputs": [],
   "source": [
    "# fast trigonometry"
   ]
  },
  {
   "cell_type": "markdown",
   "metadata": {},
   "source": [
    "# 1. Arctan"
   ]
  },
  {
   "cell_type": "code",
   "execution_count": 5,
   "metadata": {},
   "outputs": [],
   "source": [
    "import numpy as np"
   ]
  },
  {
   "cell_type": "code",
   "execution_count": 267,
   "metadata": {},
   "outputs": [],
   "source": [
    "def quart(x):\n",
    "    m = x.shape[0]\n",
    "    X = np.empty((m, 4))\n",
    "    X[:,0] = x ; X[:,1] = x * x; X[:,2] = x * x * x ; X[:,3] = X[:,1] * X[:,1]\n",
    "    return X\n",
    "\n",
    "def cubic(x):\n",
    "    m = x.shape[0]\n",
    "    X = np.empty((m, 3))\n",
    "    X[:,0] = x ; X[:,1] = x * x; X[:,2] = x * x * x\n",
    "    return X\n",
    "\n",
    "def cubic2(x):\n",
    "    m = x.shape[0]\n",
    "    X = np.empty((m, 3))\n",
    "    x2 = x * x\n",
    "    X[:,0] = x ; X[:,1] = x2 ; X[:,2] = x2 * x2 * x2\n",
    "    return X\n",
    "\n",
    "def quad(x):\n",
    "    m = x.shape[0]\n",
    "    X = np.empty((m, 2))\n",
    "    X[:,0] = x ; X[:,1] = x * x;\n",
    "    return X\n",
    "\n",
    "def quad2(x):\n",
    "    m = x.shape[0]\n",
    "    X = np.empty((m, 2))\n",
    "    X[:,0] = x * x ; X[:,1] = x ** 4;\n",
    "    return X\n",
    "\n",
    "def sin2(x):\n",
    "    m = x.shape[0]\n",
    "    X = np.empty((m, 4))\n",
    "    X[:,0] = x\n",
    "    X[:,1] = x ** 3\n",
    "    X[:,2] = x ** 5\n",
    "    X[:,3] = x ** 7\n",
    "    return X\n",
    "    \n",
    "    \n",
    "def linear(x):\n",
    "    X = np.expand_dims(x,1)\n",
    "    return X"
   ]
  },
  {
   "cell_type": "code",
   "execution_count": 260,
   "metadata": {},
   "outputs": [
    {
     "data": {
      "text/plain": [
       "0.7853981633974483"
      ]
     },
     "execution_count": 260,
     "metadata": {},
     "output_type": "execute_result"
    }
   ],
   "source": [
    "np.pi/4"
   ]
  },
  {
   "cell_type": "code",
   "execution_count": 261,
   "metadata": {},
   "outputs": [
    {
     "name": "stdout",
     "output_type": "stream",
     "text": [
      "Range low:0.100003 high:1.570796\n"
     ]
    }
   ],
   "source": [
    "from sklearn.linear_model import LinearRegression\n",
    "# 1. a + bx + cx^2 + dx^3a\n",
    "met = cubic\n",
    "def genData(_size, low, high, tri_gt, rand=1):\n",
    "    #x = np.clip(np.abs(np.random.randn(_size)) * (1) + 0.5,0, 1).astype(np.float32)\n",
    "    if rand == 0:\n",
    "        x = np.linspace(low,high,_size)\n",
    "    else:\n",
    "        x = np.clip(np.abs(np.random.randn(_size)) * (high - low) + low, low, high)\n",
    "    #\n",
    "    gt = tri_gt(x)\n",
    "    print(\"Range low:%f high:%f\" % (np.min(x), np.max(x)))\n",
    "    return x, gt\n",
    "_size = 1000000\n",
    "low = 0.1\n",
    "high = np.pi/2\n",
    "x, gt = genData(_size, low, high, np.arctan)"
   ]
  },
  {
   "cell_type": "code",
   "execution_count": 262,
   "metadata": {
    "scrolled": true
   },
   "outputs": [
    {
     "name": "stdout",
     "output_type": "stream",
     "text": [
      "[ 1.14200195 -0.38964019  0.04817254]\n",
      "-0.01550844629429482\n"
     ]
    }
   ],
   "source": [
    "def fitModel(x, met, gt, v=0):\n",
    "    X = met(x)\n",
    "    model = LinearRegression()\n",
    "    model.fit(X, gt)\n",
    "    if v: print(model.coef_)\n",
    "    if v: print(model.intercept_)\n",
    "    return X, model\n",
    "X, model = fitModel(x, met, gt, v = 1)"
   ]
  },
  {
   "cell_type": "code",
   "execution_count": 263,
   "metadata": {},
   "outputs": [],
   "source": [
    "def calcCost(model, x, gt, met, v, i):\n",
    "    X = met(x)\n",
    "    pred = model.predict(X)\n",
    "    res = np.abs(pred - gt)\n",
    "    idx = np.argmax(res)\n",
    "    if v: print(i, \"MAX err\", \"idx\", idx, \"diff\", res[idx], \"rad\", x[idx], \"Mean\", np.mean(res))\n",
    "    return res[idx]"
   ]
  },
  {
   "cell_type": "code",
   "execution_count": 264,
   "metadata": {},
   "outputs": [],
   "source": [
    "def split(ranges, num):\n",
    "    list_ = [[0,ranges/num]]\n",
    "    for i in range(1,num):\n",
    "        list_.append([ranges/num*i,ranges/num*(i+1)])\n",
    "    return list_"
   ]
  },
  {
   "cell_type": "code",
   "execution_count": 265,
   "metadata": {},
   "outputs": [
    {
     "data": {
      "text/plain": [
       "[[0, 0.2617993877991494],\n",
       " [0.2617993877991494, 0.5235987755982988],\n",
       " [0.5235987755982988, 0.7853981633974483],\n",
       " [0.7853981633974483, 1.0471975511965976],\n",
       " [1.0471975511965976, 1.308996938995747],\n",
       " [1.308996938995747, 1.5707963267948966]]"
      ]
     },
     "execution_count": 265,
     "metadata": {},
     "output_type": "execute_result"
    }
   ],
   "source": [
    "split(np.pi/2, 6)"
   ]
  },
  {
   "cell_type": "code",
   "execution_count": 269,
   "metadata": {
    "scrolled": true
   },
   "outputs": [
    {
     "name": "stdout",
     "output_type": "stream",
     "text": [
      "Range low:0.000005 high:1.000000\n",
      "Range low:0.000000 high:0.900000\n",
      "0 MAX err idx 89763 diff 0.02079026109235438 rad 0.8078750787507876 Mean 0.008120296441058404\n",
      " >>>>  0 ERR 0.02079026109235438 0.013665535537601192 [ 0.84740719  1.36608235 -2.9305649   2.26928473]\n",
      "test:1.3758 predict:11.4661 gt:nan diff:nan\n"
     ]
    },
    {
     "name": "stderr",
     "output_type": "stream",
     "text": [
      "C:\\Users\\takchoi\\Anaconda3\\envs\\py36\\lib\\site-packages\\ipykernel_launcher.py:23: RuntimeWarning: invalid value encountered in arcsin\n"
     ]
    }
   ],
   "source": [
    "_size = 100000\n",
    "Verbose = 1\n",
    "_model = None\n",
    "_err = 9999\n",
    "# sets = [[0.1,np.pi/2],[np.pi/2,np.pi],[np.pi,5]]\n",
    "sets = split(1, 1)\n",
    "RR = len(sets)\n",
    "convert = sin2\n",
    "tri_gt = np.arcsin\n",
    "\n",
    "for i in range(RR):\n",
    "    x, gt = genData(_size, sets[i][0], sets[i][1], tri_gt)\n",
    "    X, model = fitModel(x, convert, gt)\n",
    "    x, gt = genData(_size, sets[i][0], 0.9, tri_gt, 0)\n",
    "    res = calcCost(model, x, gt, convert, Verbose, i)\n",
    "    # if res < _err:\n",
    "    _err = res\n",
    "    _model = model\n",
    "    print(\" >>>> \", i, \"ERR\",res, model.intercept_, model.coef_)\n",
    "\n",
    "tv = np.array([[1.3758271370212163]])\n",
    "res = _model.predict(convert(tv))\n",
    "res_gt = tri_gt(tv)\n",
    "diff = np.abs(res - res_gt)\n",
    "\n",
    "print(\"test:%.4f predict:%.4f gt:%.4f diff:%f\" % (\n",
    "     tv, res, res_gt, diff))"
   ]
  },
  {
   "cell_type": "code",
   "execution_count": 164,
   "metadata": {},
   "outputs": [
    {
     "data": {
      "text/plain": [
       "0.7853981633974483"
      ]
     },
     "execution_count": 164,
     "metadata": {},
     "output_type": "execute_result"
    }
   ],
   "source": [
    "np.pi/4"
   ]
  },
  {
   "cell_type": "code",
   "execution_count": 7,
   "metadata": {},
   "outputs": [],
   "source": [
    "lsize = 5000\n",
    "xl = np.linspace(5,500,lsize)\n",
    "gtxl = np.arctan(xl)"
   ]
  },
  {
   "cell_type": "code",
   "execution_count": 8,
   "metadata": {},
   "outputs": [
    {
     "name": "stdout",
     "output_type": "stream",
     "text": [
      "[ 7.65325825e-04 -2.76103373e-06  3.04822121e-09]\n",
      "1.50443794904616\n"
     ]
    }
   ],
   "source": [
    "Xl = cubic(xl) #quad(xl)\n",
    "modell = LinearRegression()\n",
    "modell.fit(Xl, gtxl)\n",
    "print(modell.coef_)\n",
    "print(modell.intercept_)"
   ]
  },
  {
   "cell_type": "code",
   "execution_count": 9,
   "metadata": {},
   "outputs": [
    {
     "name": "stdout",
     "output_type": "stream",
     "text": [
      "MAX err idx 0 value 0.13479516641067524 rad 5.0\n",
      "[1.50819593]  vs  [[1.37340077 1.53081764 1.5627965 ]]\n"
     ]
    }
   ],
   "source": [
    "pred = modell.predict(Xl)\n",
    "res = (pred - gtxl)\n",
    "idx = np.argmax(res)\n",
    "print(\"MAX err\", \"idx\", idx, \"value\", res[idx], \"rad\", Xl[idx,0])\n",
    "predict = cubic(np.array([[5]]))\n",
    "print(modell.predict(predict), \" vs \", np.arctan(predict))"
   ]
  },
  {
   "cell_type": "code",
   "execution_count": 10,
   "metadata": {},
   "outputs": [
    {
     "name": "stdout",
     "output_type": "stream",
     "text": [
      "1.4056476493802699\n",
      "1.4041296601282298\n"
     ]
    }
   ],
   "source": [
    "val = 6\n",
    "print(np.arctan(val))\n",
    "print(np.pi / 2 - 1 / val)"
   ]
  },
  {
   "cell_type": "code",
   "execution_count": 11,
   "metadata": {},
   "outputs": [],
   "source": [
    "def fast_arctan(x):\n",
    "    a0 = 1.10382257\n",
    "    a1 = -0.36105955\n",
    "    a2 = 0.04400221\n",
    "    b = -0.00492334997743038\n",
    "    sign = 1 if x >= 0 else -1\n",
    "    if (abs(x) > np.pi):\n",
    "        # https://math.stackexchange.com/questions/982838/asymptotic-approximation-of-the-arctangent/982859\n",
    "        return (sign*(np.pi / 2) - 1/x)\n",
    "    elif abs(x) < 5e-2:\n",
    "        # for small x\n",
    "        return x\n",
    "    else:\n",
    "        # by regression\n",
    "        ax = abs(x)\n",
    "        return sign * (b + ax * (a0 + ax * (a1 + a2 * ax)))\n",
    "        #x2 = ax * ax\n",
    "        #x3 = x2 * ax\n",
    "        #return sign * (b + a0 * ax + a1 * x2 + a2 * x3)"
   ]
  },
  {
   "cell_type": "code",
   "execution_count": 12,
   "metadata": {},
   "outputs": [
    {
     "name": "stdout",
     "output_type": "stream",
     "text": [
      "-0.04898039418715918 vs -0.049\n"
     ]
    }
   ],
   "source": [
    "val = -0.049\n",
    "print(np.sin(val), \"vs\", fast_arctan(val))"
   ]
  },
  {
   "cell_type": "code",
   "execution_count": 13,
   "metadata": {},
   "outputs": [
    {
     "data": {
      "text/plain": [
       "3.141592653589793"
      ]
     },
     "execution_count": 13,
     "metadata": {},
     "output_type": "execute_result"
    }
   ],
   "source": [
    "np.pi"
   ]
  },
  {
   "cell_type": "markdown",
   "metadata": {},
   "source": [
    "# 2. Sine"
   ]
  },
  {
   "cell_type": "code",
   "execution_count": 38,
   "metadata": {},
   "outputs": [
    {
     "name": "stdout",
     "output_type": "stream",
     "text": [
      "[-0.49639232  0.03720932]\n",
      "0.9995795145769749\n"
     ]
    }
   ],
   "source": [
    "from sklearn.linear_model import LinearRegression\n",
    "# 1. a + bx + cx^2 + dx^3\n",
    "_size = 1000000\n",
    "#x = np.clip(np.abs(np.random.randn(_size)) * np.pi/2, 0, np.pi/2)\n",
    "#x = np.linspace(0,np.pi/2,_size)\n",
    "gt = np.cos(x)\n",
    "X = quad2(x)\n",
    "model = LinearRegression()\n",
    "model.fit(X, gt)\n",
    "print(model.coef_)\n",
    "print(model.intercept_)"
   ]
  },
  {
   "cell_type": "code",
   "execution_count": 39,
   "metadata": {},
   "outputs": [
    {
     "name": "stdout",
     "output_type": "stream",
     "text": [
      "MAX err idx 999999 value 0.0013134464411175772 rad 1.5707963267948966\n",
      "[0.00131345]  vs  6.123233995736766e-17\n"
     ]
    }
   ],
   "source": [
    "pred = model.predict(X)\n",
    "res = np.abs(pred - gt)\n",
    "idx = np.argmax(res)\n",
    "print(\"MAX err\", \"idx\", idx, \"value\", res[idx], \"rad\", x[idx])\n",
    "test = np.pi/2\n",
    "predict = quad2(np.array([[test]]))\n",
    "print(model.predict(predict), \" vs \", np.cos(test))\n"
   ]
  },
  {
   "cell_type": "code",
   "execution_count": 55,
   "metadata": {},
   "outputs": [
    {
     "name": "stdout",
     "output_type": "stream",
     "text": [
      "MAX err idx 87587 value 0.0008997190733912586 rad 1.3758271370212163\n"
     ]
    }
   ],
   "source": [
    "tx = np.linspace(0,np.pi/2,100000)\n",
    "ttx = quad2(tx)\n",
    "pred = model.predict(ttx)\n",
    "gt_tx = np.cos(tx)\n",
    "err = np.abs(gt_tx - pred)\n",
    "idx = np.argmax(err)\n",
    "print(\"MAX err\", \"idx\", idx, \"value\", err[idx], \"rad\", tx[idx])"
   ]
  },
  {
   "cell_type": "code",
   "execution_count": 54,
   "metadata": {},
   "outputs": [
    {
     "data": {
      "text/plain": [
       "array([-0.49576368,  0.03677728])"
      ]
     },
     "execution_count": 54,
     "metadata": {},
     "output_type": "execute_result"
    }
   ],
   "source": [
    "model.coef_"
   ]
  },
  {
   "cell_type": "code",
   "execution_count": 53,
   "metadata": {},
   "outputs": [
    {
     "ename": "SyntaxError",
     "evalue": "invalid syntax (<ipython-input-53-8d27cf197b0b>, line 1)",
     "output_type": "error",
     "traceback": [
      "\u001b[1;36m  File \u001b[1;32m\"<ipython-input-53-8d27cf197b0b>\"\u001b[1;36m, line \u001b[1;32m1\u001b[0m\n\u001b[1;33m    0.9994922003943848 [-0.49576368  0.03677728]\u001b[0m\n\u001b[1;37m                                              ^\u001b[0m\n\u001b[1;31mSyntaxError\u001b[0m\u001b[1;31m:\u001b[0m invalid syntax\n"
     ]
    }
   ],
   "source": [
    " 0.9994922003943848 [-0.49576368  0.03677728]"
   ]
  },
  {
   "cell_type": "code",
   "execution_count": null,
   "metadata": {},
   "outputs": [],
   "source": []
  },
  {
   "cell_type": "code",
   "execution_count": 353,
   "metadata": {},
   "outputs": [],
   "source": [
    "def fmod(ax, m):\n",
    "    _x = ax / m\n",
    "    _ix = int(_x)\n",
    "    ax = (_x - _ix) * m\n",
    "    return ax\n",
    "\n",
    "def mapQuad(x, m, q):\n",
    "    _x = x / m\n",
    "    _ix = int(_x)\n",
    "    ax = (_x - _ix) * m\n",
    "    quad = _ix % q\n",
    "    return ax, quad\n",
    "\n",
    "def cos_quad2(x):\n",
    "    c0=0.9994925807697664\n",
    "    c1=-0.49576019\n",
    "    c2=0.03677586\n",
    "    x2 = x * x\n",
    "    return c0 + x2 * (c1 + x2 * c2)"
   ]
  },
  {
   "cell_type": "code",
   "execution_count": 354,
   "metadata": {},
   "outputs": [
    {
     "data": {
      "text/plain": [
       "6.283185307179586"
      ]
     },
     "execution_count": 354,
     "metadata": {},
     "output_type": "execute_result"
    }
   ],
   "source": [
    "2 * np.pi"
   ]
  },
  {
   "cell_type": "code",
   "execution_count": 356,
   "metadata": {},
   "outputs": [],
   "source": [
    "def fast_cos(x):\n",
    "    pi_2 = 1.5707963267948966\n",
    "    twopi = 6.283185307179586\n",
    "    ax = x\n",
    "    if x < 0: ax = -x\n",
    "    if ax < 0.05: return ax\n",
    "    ax, quad = mapQuad(x, pi_2, 4)\n",
    "    \n",
    "    if quad == 0: return cos_quad2(ax)\n",
    "    elif quad == 1: return -cos_quad2(pi_2 - ax)\n",
    "    elif quad == 2: return -cos_quad2(ax)\n",
    "    elif quad == 3: return cos_quad2(pi_2 - ax)"
   ]
  },
  {
   "cell_type": "code",
   "execution_count": 357,
   "metadata": {},
   "outputs": [],
   "source": [
    "def fast_sin(x):\n",
    "    return fast_cos(np.pi/2 - x)"
   ]
  },
  {
   "cell_type": "code",
   "execution_count": 18,
   "metadata": {},
   "outputs": [],
   "source": [
    "# https://en.wikipedia.org/wiki/Bhaskara_I%27s_sine_approximation_formula\n",
    "def fast_sine(x):\n",
    "    # version one\n",
    "    pi = 3.141592653589793\n",
    "    pi2 = pi * pi\n",
    "    ax = abs(x)\n",
    "    sign = 1 if x >= 0 else -1\n",
    "    if ax < 0.05:\n",
    "        return x\n",
    "    if ax > pi:\n",
    "        _x = ax / pi\n",
    "        _ix = int(_x)\n",
    "        _mx = _ix % 2\n",
    "        ax = (_x - _ix) * pi\n",
    "        sign = sign * (-1 if _mx == 1 else 1)\n",
    "    return sign * (16 * ax * (pi - ax)) / ( 5 * pi2 - 4 * ax * (pi - ax))\n"
   ]
  },
  {
   "cell_type": "code",
   "execution_count": 19,
   "metadata": {},
   "outputs": [
    {
     "name": "stdout",
     "output_type": "stream",
     "text": [
      "0.77655256622833 vs 0.7778960471964677\n"
     ]
    }
   ],
   "source": [
    "val = -2393923 + 0.23232\n",
    "print(fast_sine(val), \"vs\" , np.sin(val))"
   ]
  },
  {
   "cell_type": "code",
   "execution_count": 20,
   "metadata": {},
   "outputs": [],
   "source": [
    "def fast_sineDeg(x):\n",
    "    ax = abs(x)\n",
    "    sign = 1 if x >= 0 else -1\n",
    "    if ax < 2.86:\n",
    "        return x*3.14159265/180\n",
    "    elif ax > 180.:\n",
    "        _x = ax / 180\n",
    "        _ix = int(_x)\n",
    "        _mx = _ix % 2\n",
    "        ax = (_x - _ix) * 180\n",
    "        sign = sign * (-1 if _mx == 1 else 1)\n",
    "    return sign * (4 * ax) * (180 - ax) / (40500 - ax * (180 - ax))"
   ]
  },
  {
   "cell_type": "code",
   "execution_count": 21,
   "metadata": {},
   "outputs": [
    {
     "name": "stdout",
     "output_type": "stream",
     "text": [
      "-0.02888087235926067 vs -0.02840352588360379\n"
     ]
    }
   ],
   "source": [
    "val = 3.17\n",
    "print(fast_sine(val) ,\"vs\", np.sin(val))"
   ]
  },
  {
   "cell_type": "code",
   "execution_count": 22,
   "metadata": {},
   "outputs": [
    {
     "data": {
      "text/plain": [
       "0.017453292500000002"
      ]
     },
     "execution_count": 22,
     "metadata": {},
     "output_type": "execute_result"
    }
   ],
   "source": [
    "fast_sineDeg(1)"
   ]
  },
  {
   "cell_type": "markdown",
   "metadata": {},
   "source": [
    "# 3. Cosine"
   ]
  },
  {
   "cell_type": "code",
   "execution_count": 23,
   "metadata": {},
   "outputs": [],
   "source": [
    "def fast_cosine(x):\n",
    "    pi = 3.14159265\n",
    "    pi_2 = pi / 2\n",
    "    pi2 = pi*pi\n",
    "    ax = abs(x)\n",
    "    sign = 1 if x >= 0 else -1\n",
    "    if ax < 0.05:\n",
    "        return 1\n",
    "    elif ax > pi_2:\n",
    "        _x = ax / pi_2\n",
    "        _ix = int(_x)\n",
    "        _mx = _ix % 4\n",
    "        ax = (_x - _ix) * pi_2\n",
    "        sign = 1\n",
    "        if _mx == 1:\n",
    "            ax = pi_2 - ax\n",
    "            sign = -1\n",
    "        elif _mx == 2:\n",
    "            sign = -1\n",
    "        elif _mx == 3:\n",
    "            ax = pi_2 - ax\n",
    "        print(_x, _ix, _mx, ax, _x - _ix)\n",
    "    ax2 = ax * ax\n",
    "    return sign * (pi2 - 4 * ax2)/(pi2 + ax2)\n",
    "    "
   ]
  },
  {
   "cell_type": "code",
   "execution_count": 24,
   "metadata": {},
   "outputs": [
    {
     "name": "stdout",
     "output_type": "stream",
     "text": [
      "4.456338411665178 4 0 0.7168146999999989 0.4563384116651781\n",
      "0.7525752914431102 vs 0.7539022543433046 vs 0.7528670014882921 vs 0.7525752966917004\n"
     ]
    }
   ],
   "source": [
    "x = 7\n",
    "print(fast_cosine(x), \"vs\", np.cos(x), \"vs\", fast_cos(x), \"vs\", fast_sine(np.pi/2 - x))"
   ]
  },
  {
   "cell_type": "markdown",
   "metadata": {},
   "source": [
    "# 4. tangent"
   ]
  },
  {
   "cell_type": "code",
   "execution_count": 81,
   "metadata": {},
   "outputs": [
    {
     "data": {
      "text/plain": [
       "1.5707963267948966"
      ]
     },
     "execution_count": 81,
     "metadata": {},
     "output_type": "execute_result"
    }
   ],
   "source": [
    "np.pi/2 + np."
   ]
  },
  {
   "cell_type": "code",
   "execution_count": 344,
   "metadata": {},
   "outputs": [
    {
     "data": {
      "text/plain": [
       "0.017453292519943295"
      ]
     },
     "execution_count": 344,
     "metadata": {},
     "output_type": "execute_result"
    }
   ],
   "source": [
    "np.pi/180"
   ]
  },
  {
   "cell_type": "code",
   "execution_count": 343,
   "metadata": {},
   "outputs": [
    {
     "data": {
      "text/plain": [
       "1.633123935319537e+16"
      ]
     },
     "execution_count": 343,
     "metadata": {},
     "output_type": "execute_result"
    }
   ],
   "source": [
    "np.tan(np.pi/2)"
   ]
  },
  {
   "cell_type": "code",
   "execution_count": 342,
   "metadata": {
    "scrolled": true
   },
   "outputs": [
    {
     "name": "stdout",
     "output_type": "stream",
     "text": [
      "-683269140.7366476\n",
      "[ 1.31459622e+09 -8.43091199e+08  1.80234693e+08]\n",
      "MAX err idx 4162 value 0.003443512198984422 rad 1.562873274654931\n",
      "[-12357160.34550536]  vs  [[2.23449695]]\n"
     ]
    }
   ],
   "source": [
    "lsize = 5000 # 0.05 1.275 1.41 1.476, 1.5125 1.5325 1.54475 1.5525 1.5575 1.561 1.56325\n",
    "xl = np.linspace(1.56325,lsize) \n",
    "gtxl = np.tan(xl)\n",
    "Xl = cubic(xl)\n",
    "modell = LinearRegression()\n",
    "modell.fit(Xl, gtxl)\n",
    "print(modell.intercept_)\n",
    "print(modell.coef_)\n",
    "pred = modell.predict(Xl)\n",
    "res = (pred - gtxl)\n",
    "idx = np.argmax(res)\n",
    "print(\"MAX err\", \"idx\", idx, \"value\", res[idx], \"rad\", Xl[idx,0])\n",
    "val = np.array([[1.15]])\n",
    "predict = cubic(val)\n",
    "print(modell.predict(predict), \" vs \", np.tan(val))"
   ]
  },
  {
   "cell_type": "code",
   "execution_count": 312,
   "metadata": {},
   "outputs": [
    {
     "name": "stdout",
     "output_type": "stream",
     "text": [
      "MAX err idx 4190 value 0.00378806860090819 rad 1.464480896179236\n",
      "[-66.61758651]  vs  [[2.23449695]]\n"
     ]
    }
   ],
   "source": [
    "pred = modell.predict(Xl)\n",
    "res = (pred - gtxl)\n",
    "idx = np.argmax(res)\n",
    "print(\"MAX err\", \"idx\", idx, \"value\", res[idx], \"rad\", Xl[idx,0])\n",
    "val = np.array([[1.15]])\n",
    "predict = cubic(val)\n",
    "print(modell.predict(predict), \" vs \", np.tan(val))"
   ]
  },
  {
   "cell_type": "code",
   "execution_count": 170,
   "metadata": {},
   "outputs": [],
   "source": [
    "def _cubic(ax, b, a0, a1, a2):\n",
    "    return ((b) + (ax) * ((a0) + (ax) * ((a1) + (ax) * (a2)))) \n",
    "\n",
    "def __quad(ax, b, a0, a1):\n",
    "    return ((b) + (ax) * ((a0) + (ax) * (a1)))\n",
    "\n",
    "def lerp(a, b, x):\n",
    "    return a * x + b;   \n",
    "\n",
    "def fast_tan(x):\n",
    "    # /* https://mae.ufl.edu/~uhk/ACCURATE-TANGENT.pdf */\n",
    "    t0 = [# // 0.05 to 0.8\n",
    "        -0.005306908868911164,\n",
    "        1.07958615,\n",
    "        -0.31961611,\n",
    "        0.72791356\n",
    "    ]\n",
    "    t1 = [\n",
    "        -6.798523672037293,\n",
    "        24.20035856,\n",
    "        -26.75328616,\n",
    "        10.9062448\n",
    "    ]\n",
    "    t2 = [\n",
    "        -288.476741666932,\n",
    "        715.84338056,\n",
    "        -593.63206871,\n",
    "        166.00749918\n",
    "    ]\n",
    "    t3 = [\n",
    "        -4043.7026279735396,\n",
    "        8896.89927632,\n",
    "        -6536.19587117,\n",
    "        1605.2422637\n",
    "    ]\n",
    "    t4 = [\n",
    "        1513.2746348922383,\n",
    "        -2142.93149953,\n",
    "        762.05357123\n",
    "    ]\n",
    "    t5 = [\n",
    "       8.23809275e+00, 8.32297410e+00, 8.40959713e+00, 8.49801630e+00,\n",
    "       8.58828831e+00, 8.68047230e+00, 8.77462995e+00, 8.87082562e+00,\n",
    "       8.96912650e+00, 9.06960275e+00, 9.17232772e+00, 9.27737805e+00,\n",
    "       9.38483395e+00, 9.49477931e+00, 9.60730201e+00, 9.72249410e+00,\n",
    "       9.84045207e+00, 9.96127709e+00, 1.00850754e+01, 1.02119584e+01,\n",
    "       1.03420433e+01, 1.04754533e+01, 1.06123178e+01, 1.07527733e+01,\n",
    "       1.08969634e+01, 1.10450395e+01, 1.11971613e+01, 1.13534974e+01,\n",
    "       1.15142258e+01, 1.16795348e+01, 1.18496236e+01, 1.20247029e+01,\n",
    "       1.22049964e+01, 1.23907409e+01, 1.25821881e+01, 1.27796052e+01,\n",
    "       1.29832767e+01, 1.31935050e+01, 1.34106127e+01, 1.36349437e+01,\n",
    "       1.38668654e+01, 1.41067703e+01, 1.43550786e+01, 1.46122405e+01,\n",
    "       1.48787389e+01, 1.51550926e+01, 1.54418593e+01, 1.57396399e+01,\n",
    "       1.60490821e+01, 1.63708858e+01, 1.67058076e+01, 1.70546676e+01,\n",
    "       1.74183553e+01, 1.77978378e+01, 1.81941682e+01, 1.86084950e+01,\n",
    "       1.90420739e+01, 1.94962800e+01, 1.99726227e+01, 2.04727622e+01,\n",
    "       2.09985289e+01, 2.15519462e+01, 2.21352559e+01, 2.27509490e+01,\n",
    "       2.34018014e+01, 2.40909153e+01, 2.48217690e+01, 2.55982756e+01,\n",
    "       2.64248532e+01, 2.73065087e+01, 2.82489401e+01, 2.92586589e+01,\n",
    "       3.03431416e+01, 3.15110147e+01, 3.27722851e+01, 3.41386275e+01,\n",
    "       3.56237468e+01, 3.72438401e+01, 3.90181892e+01, 4.09699325e+01,\n",
    "       4.31270796e+01, 4.55238646e+01, 4.82025764e+01, 5.12160763e+01,\n",
    "       5.46313220e+01, 5.85344018e+01, 6.30378929e+01, 6.82918980e+01,\n",
    "       7.45011028e+01, 8.19520672e+01, 9.10587111e+01, 1.02441914e+02,\n",
    "       1.17077345e+02, 1.36591117e+02, 1.63910235e+02, 2.04888709e+02,\n",
    "       2.73185895e+02, 4.09779859e+02, 8.19560938e+02, 1.63312394e+16\n",
    "    ]\n",
    "    tan0_th = 0.8;\n",
    "    tan1_th = 1.2;\n",
    "    tan2_th = 1.37;\n",
    "    tan3_th = 1.45;\n",
    "    tan4_th = 1.472;\n",
    "\n",
    "    signX = -1 if x < 0 else 1;\n",
    "    ax = abs(x);\n",
    "\n",
    "    if (ax < 0.05):\n",
    "        return x;\n",
    "    if (ax > np.pi/2):\n",
    "        _x = ax / np.pi/2\n",
    "        _ix = int(_x);\n",
    "        _quad = _ix % 2;\n",
    "        if (_quad == 1):\n",
    "            ax = np.pi/2 - ax;\n",
    "            signX = -1;\n",
    "        else:\n",
    "            signX = 1;\n",
    "        ax = (_x - _ix) * np.pi/2;\n",
    "    if (ax < tan0_th):\n",
    "        return signX * _cubic(ax, t0[0], t0[1], t0[2], t0[3]);\n",
    "    elif (ax < tan1_th):\n",
    "        return signX * _cubic(ax, t1[0], t1[1], t1[2], t1[3]);\n",
    "    elif (ax < tan2_th):\n",
    "        return signX * _cubic(ax, t2[0], t2[1], t2[2], t2[3]);\n",
    "    elif (ax < tan3_th):\n",
    "        return signX * _cubic(ax, t3[0], t3[1], t3[2], t3[3]);\n",
    "    elif (ax < tan4_th):\n",
    "        return signX * __quad(ax, t4[0], t4[1], t4[2]);\n",
    "    else:\n",
    "        # 1.471 to 1.571\n",
    "        ax_up = ax * 1000;\n",
    "        iax_up = int(ax_up);\n",
    "        idx = iax_up - 1472;\n",
    "        r = ax_up - float(iax_up);\n",
    "        return signX * lerp(t5[idx], t5[idx+1], r);\n",
    "\n"
   ]
  },
  {
   "cell_type": "code",
   "execution_count": 172,
   "metadata": {},
   "outputs": [],
   "source": [
    "lsize = 200\n",
    "xl = np.linspace(-np.pi/2+0.06,np.pi/2-0.06,lsize)\n",
    "np.tan(xl)\n",
    "a = [fast_tan(i) for i in xl]"
   ]
  },
  {
   "cell_type": "code",
   "execution_count": 173,
   "metadata": {},
   "outputs": [
    {
     "data": {
      "image/png": "[encoded data removed]",
      "text/plain": [
       "<Figure size 432x288 with 1 Axes>"
      ]
     },
     "metadata": {
      "needs_background": "light"
     },
     "output_type": "display_data"
    }
   ],
   "source": [
    "import matplotlib.pyplot as plt\n",
    "plt.plot(xl,a)\n",
    "plt.show()"
   ]
  },
  {
   "cell_type": "code",
   "execution_count": 137,
   "metadata": {},
   "outputs": [
    {
     "data": {
      "text/plain": [
       "array([ 1.22464680e-16,  3.15842917e-02,  6.32316613e-02,  9.50056915e-02,\n",
       "        1.26970983e-01,  1.59193688e-01,  1.91742062e-01,  2.24687067e-01,\n",
       "        2.58103008e-01,  2.92068240e-01,  3.26665950e-01,  3.61985027e-01,\n",
       "        3.98121053e-01,  4.35177427e-01,  4.73266660e-01,  5.12511873e-01,\n",
       "        5.53048541e-01,  5.95026546e-01,  6.38612599e-01,  6.83993118e-01,\n",
       "        7.31377682e-01,  7.81003184e-01,  8.33138872e-01,  8.88092520e-01,\n",
       "        9.46218013e-01,  1.00792477e+00,  1.07368952e+00,  1.14407124e+00,\n",
       "        1.21973009e+00,  1.30145192e+00,  1.39018018e+00,  1.48705800e+00,\n",
       "        1.59348455e+00,  1.71119154e+00,  1.84234884e+00,  1.98971311e+00,\n",
       "        2.15684125e+00,  2.34840424e+00,  2.57066139e+00,  2.83219906e+00,\n",
       "        3.14512415e+00,  3.52707588e+00,  4.00479512e+00,  4.62086641e+00,\n",
       "        5.44749515e+00,  6.61768749e+00,  8.40631813e+00,  1.14880732e+01,\n",
       "        1.80797689e+01,  4.22212178e+01, -1.26684704e+02, -2.53243098e+01,\n",
       "       -1.40526822e+01, -9.71095061e+00, -7.40741283e+00, -5.97737460e+00,\n",
       "       -5.00154324e+00, -4.29195755e+00, -3.75178689e+00, -3.32607135e+00,\n",
       "       -2.98129701e+00, -2.69586433e+00, -2.45522507e+00, -2.24922143e+00,\n",
       "       -2.07054545e+00, -1.91380463e+00, -1.77493248e+00, -1.65080413e+00,\n",
       "       -1.53897831e+00, -1.43751972e+00, -1.34487406e+00, -1.25977830e+00,\n",
       "       -1.18119519e+00, -1.10826463e+00, -1.04026709e+00, -9.76595671e-01,\n",
       "       -9.16734624e-01, -8.60242515e-01, -8.06739003e-01, -7.55894312e-01,\n",
       "       -7.07420783e-01, -6.61066039e-01, -6.16607415e-01, -5.73847383e-01,\n",
       "       -5.32609772e-01, -4.92736614e-01, -4.54085509e-01, -4.16527394e-01,\n",
       "       -3.79944656e-01, -3.44229513e-01, -3.09282625e-01, -2.75011887e-01,\n",
       "       -2.41331377e-01, -2.08160428e-01, -1.75422802e-01, -1.43045949e-01,\n",
       "       -1.10960338e-01, -7.90988362e-02, -4.73961356e-02, -1.57882094e-02,\n",
       "        1.57882094e-02,  4.73961356e-02,  7.90988362e-02,  1.10960338e-01,\n",
       "        1.43045949e-01,  1.75422802e-01,  2.08160428e-01,  2.41331377e-01,\n",
       "        2.75011887e-01,  3.09282625e-01,  3.44229513e-01,  3.79944656e-01,\n",
       "        4.16527394e-01,  4.54085509e-01,  4.92736614e-01,  5.32609772e-01,\n",
       "        5.73847383e-01,  6.16607415e-01,  6.61066039e-01,  7.07420783e-01,\n",
       "        7.55894312e-01,  8.06739003e-01,  8.60242515e-01,  9.16734624e-01,\n",
       "        9.76595671e-01,  1.04026709e+00,  1.10826463e+00,  1.18119519e+00,\n",
       "        1.25977830e+00,  1.34487406e+00,  1.43751972e+00,  1.53897831e+00,\n",
       "        1.65080413e+00,  1.77493248e+00,  1.91380463e+00,  2.07054545e+00,\n",
       "        2.24922143e+00,  2.45522507e+00,  2.69586433e+00,  2.98129701e+00,\n",
       "        3.32607135e+00,  3.75178689e+00,  4.29195755e+00,  5.00154324e+00,\n",
       "        5.97737460e+00,  7.40741283e+00,  9.71095061e+00,  1.40526822e+01,\n",
       "        2.53243098e+01,  1.26684704e+02, -4.22212178e+01, -1.80797689e+01,\n",
       "       -1.14880732e+01, -8.40631813e+00, -6.61768749e+00, -5.44749515e+00,\n",
       "       -4.62086641e+00, -4.00479512e+00, -3.52707588e+00, -3.14512415e+00,\n",
       "       -2.83219906e+00, -2.57066139e+00, -2.34840424e+00, -2.15684125e+00,\n",
       "       -1.98971311e+00, -1.84234884e+00, -1.71119154e+00, -1.59348455e+00,\n",
       "       -1.48705800e+00, -1.39018018e+00, -1.30145192e+00, -1.21973009e+00,\n",
       "       -1.14407124e+00, -1.07368952e+00, -1.00792477e+00, -9.46218013e-01,\n",
       "       -8.88092520e-01, -8.33138872e-01, -7.81003184e-01, -7.31377682e-01,\n",
       "       -6.83993118e-01, -6.38612599e-01, -5.95026546e-01, -5.53048541e-01,\n",
       "       -5.12511873e-01, -4.73266660e-01, -4.35177427e-01, -3.98121053e-01,\n",
       "       -3.61985027e-01, -3.26665950e-01, -2.92068240e-01, -2.58103008e-01,\n",
       "       -2.24687067e-01, -1.91742062e-01, -1.59193688e-01, -1.26970983e-01,\n",
       "       -9.50056915e-02, -6.32316613e-02, -3.15842917e-02, -1.22464680e-16])"
      ]
     },
     "execution_count": 137,
     "metadata": {},
     "output_type": "execute_result"
    }
   ],
   "source": [
    "lsize = 200\n",
    "xl = np.linspace(-np.pi,np.pi,lsize)\n",
    "np.tan(xl)"
   ]
  },
  {
   "cell_type": "code",
   "execution_count": 28,
   "metadata": {},
   "outputs": [
    {
     "ename": "NameError",
     "evalue": "name 'pi_2' is not defined",
     "output_type": "error",
     "traceback": [
      "\u001b[1;31m---------------------------------------------------------------------------\u001b[0m",
      "\u001b[1;31mNameError\u001b[0m                                 Traceback (most recent call last)",
      "\u001b[1;32m<ipython-input-28-11398bba54e0>\u001b[0m in \u001b[0;36m<module>\u001b[1;34m\u001b[0m\n\u001b[0;32m      1\u001b[0m \u001b[0mx\u001b[0m \u001b[1;33m=\u001b[0m \u001b[1;36m45\u001b[0m\u001b[1;33m\u001b[0m\u001b[1;33m\u001b[0m\u001b[0m\n\u001b[1;32m----> 2\u001b[1;33m \u001b[0mprint\u001b[0m\u001b[1;33m(\u001b[0m\u001b[0mfast_tan\u001b[0m\u001b[1;33m(\u001b[0m\u001b[0mx\u001b[0m\u001b[1;33m)\u001b[0m\u001b[1;33m,\u001b[0m \u001b[1;34m\"vs\"\u001b[0m\u001b[1;33m,\u001b[0m \u001b[0mnp\u001b[0m\u001b[1;33m.\u001b[0m\u001b[0mtan\u001b[0m\u001b[1;33m(\u001b[0m\u001b[0mx\u001b[0m\u001b[1;33m)\u001b[0m\u001b[1;33m)\u001b[0m\u001b[1;33m\u001b[0m\u001b[1;33m\u001b[0m\u001b[0m\n\u001b[0m",
      "\u001b[1;32m<ipython-input-27-a3c0d9b776be>\u001b[0m in \u001b[0;36mfast_tan\u001b[1;34m(x)\u001b[0m\n\u001b[0;32m     10\u001b[0m         \u001b[1;32mreturn\u001b[0m \u001b[0mx\u001b[0m\u001b[1;33m\u001b[0m\u001b[1;33m\u001b[0m\u001b[0m\n\u001b[0;32m     11\u001b[0m     \u001b[1;32mif\u001b[0m \u001b[0max\u001b[0m \u001b[1;33m>\u001b[0m \u001b[1;36m1\u001b[0m\u001b[1;33m:\u001b[0m\u001b[1;33m\u001b[0m\u001b[1;33m\u001b[0m\u001b[0m\n\u001b[1;32m---> 12\u001b[1;33m         \u001b[0m_x\u001b[0m \u001b[1;33m=\u001b[0m \u001b[0max\u001b[0m \u001b[1;33m/\u001b[0m \u001b[0mpi_2\u001b[0m\u001b[1;33m\u001b[0m\u001b[1;33m\u001b[0m\u001b[0m\n\u001b[0m\u001b[0;32m     13\u001b[0m         \u001b[0m_ix\u001b[0m \u001b[1;33m=\u001b[0m \u001b[0mint\u001b[0m\u001b[1;33m(\u001b[0m\u001b[0m_x\u001b[0m\u001b[1;33m)\u001b[0m\u001b[1;33m\u001b[0m\u001b[1;33m\u001b[0m\u001b[0m\n\u001b[0;32m     14\u001b[0m         \u001b[0m_mx\u001b[0m \u001b[1;33m=\u001b[0m \u001b[0m_ix\u001b[0m \u001b[1;33m%\u001b[0m \u001b[1;36m2\u001b[0m\u001b[1;33m\u001b[0m\u001b[1;33m\u001b[0m\u001b[0m\n",
      "\u001b[1;31mNameError\u001b[0m: name 'pi_2' is not defined"
     ]
    }
   ],
   "source": [
    "x = 45\n",
    "print(fast_tan(x), \"vs\", np.tan(x))"
   ]
  },
  {
   "cell_type": "markdown",
   "metadata": {},
   "source": [
    "# 5. Arcsine"
   ]
  },
  {
   "cell_type": "code",
   "execution_count": null,
   "metadata": {},
   "outputs": [],
   "source": []
  },
  {
   "cell_type": "markdown",
   "metadata": {},
   "source": [
    "# 6. Arcosine\n"
   ]
  },
  {
   "cell_type": "code",
   "execution_count": 3,
   "metadata": {},
   "outputs": [],
   "source": [
    "import numpy as np\n",
    "import matplotlib.pylab as plt"
   ]
  },
  {
   "cell_type": "code",
   "execution_count": 13,
   "metadata": {},
   "outputs": [
    {
     "name": "stderr",
     "output_type": "stream",
     "text": [
      "C:\\Users\\takchoi\\Anaconda3\\envs\\py36\\lib\\site-packages\\ipykernel_launcher.py:2: DeprecationWarning: The binary mode of fromstring is deprecated, as it behaves surprisingly on unicode inputs. Use frombuffer instead\n",
      "  \n"
     ]
    }
   ],
   "source": [
    "dat  = open(\"diff.bin\", \"rb\").read()\n",
    "dat = np.fromstring(dat, np.float32)\n",
    "dat = dat.reshape(-1,4).T"
   ]
  },
  {
   "cell_type": "code",
   "execution_count": 14,
   "metadata": {},
   "outputs": [
    {
     "name": "stderr",
     "output_type": "stream",
     "text": [
      "C:\\Users\\takchoi\\Anaconda3\\envs\\py36\\lib\\site-packages\\ipykernel_launcher.py:1: RuntimeWarning: divide by zero encountered in log2\n",
      "  \"\"\"Entry point for launching an IPython kernel.\n"
     ]
    }
   ],
   "source": [
    "logdiff = np.log2(dat)"
   ]
  },
  {
   "cell_type": "code",
   "execution_count": 16,
   "metadata": {},
   "outputs": [],
   "source": [
    "xaxis = np.arange(4000) * 3.14 / 1000 - 3.14 * 2"
   ]
  },
  {
   "cell_type": "code",
   "execution_count": 80,
   "metadata": {},
   "outputs": [
    {
     "ename": "NameError",
     "evalue": "name 'plt' is not defined",
     "output_type": "error",
     "traceback": [
      "\u001b[1;31m---------------------------------------------------------------------------\u001b[0m",
      "\u001b[1;31mNameError\u001b[0m                                 Traceback (most recent call last)",
      "\u001b[1;32m<ipython-input-80-af346d5569f6>\u001b[0m in \u001b[0;36m<module>\u001b[1;34m\u001b[0m\n\u001b[1;32m----> 1\u001b[1;33m \u001b[0mfig\u001b[0m \u001b[1;33m=\u001b[0m \u001b[0mplt\u001b[0m\u001b[1;33m.\u001b[0m\u001b[0mfigure\u001b[0m\u001b[1;33m(\u001b[0m\u001b[1;33m)\u001b[0m\u001b[1;33m\u001b[0m\u001b[1;33m\u001b[0m\u001b[0m\n\u001b[0m\u001b[0;32m      2\u001b[0m \u001b[0max\u001b[0m \u001b[1;33m=\u001b[0m \u001b[1;33m[\u001b[0m\u001b[1;36m0\u001b[0m\u001b[1;33m,\u001b[0m\u001b[1;36m0\u001b[0m\u001b[1;33m,\u001b[0m\u001b[1;36m0\u001b[0m\u001b[1;33m,\u001b[0m\u001b[1;36m0\u001b[0m\u001b[1;33m]\u001b[0m\u001b[1;33m\u001b[0m\u001b[1;33m\u001b[0m\u001b[0m\n\u001b[0;32m      3\u001b[0m \u001b[0mname\u001b[0m \u001b[1;33m=\u001b[0m \u001b[1;33m[\u001b[0m\u001b[1;34m\"atan\"\u001b[0m\u001b[1;33m,\u001b[0m \u001b[1;34m\"sin\"\u001b[0m\u001b[1;33m,\u001b[0m \u001b[1;34m\"cos\"\u001b[0m\u001b[1;33m,\u001b[0m \u001b[1;34m\"tan\"\u001b[0m\u001b[1;33m]\u001b[0m\u001b[1;33m\u001b[0m\u001b[1;33m\u001b[0m\u001b[0m\n\u001b[0;32m      4\u001b[0m \u001b[1;32mfor\u001b[0m \u001b[0mi\u001b[0m \u001b[1;32min\u001b[0m \u001b[0mrange\u001b[0m\u001b[1;33m(\u001b[0m\u001b[1;36m4\u001b[0m\u001b[1;33m)\u001b[0m\u001b[1;33m:\u001b[0m\u001b[1;33m\u001b[0m\u001b[1;33m\u001b[0m\u001b[0m\n\u001b[0;32m      5\u001b[0m     \u001b[0max\u001b[0m\u001b[1;33m[\u001b[0m\u001b[0mi\u001b[0m\u001b[1;33m]\u001b[0m\u001b[1;33m=\u001b[0m \u001b[0mfig\u001b[0m\u001b[1;33m.\u001b[0m\u001b[0madd_subplot\u001b[0m\u001b[1;33m(\u001b[0m\u001b[1;36m4\u001b[0m\u001b[1;33m,\u001b[0m\u001b[1;36m1\u001b[0m\u001b[1;33m,\u001b[0m\u001b[0mi\u001b[0m\u001b[1;33m+\u001b[0m\u001b[1;36m1\u001b[0m\u001b[1;33m)\u001b[0m\u001b[1;33m\u001b[0m\u001b[1;33m\u001b[0m\u001b[0m\n",
      "\u001b[1;31mNameError\u001b[0m: name 'plt' is not defined"
     ]
    }
   ],
   "source": [
    "fig = plt.figure()\n",
    "ax = [0,0,0,0]\n",
    "name = [\"atan\", \"sin\", \"cos\", \"tan\"]\n",
    "for i in range(4):\n",
    "    ax[i]= fig.add_subplot(4,1,i+1)\n",
    "    ax[i].plot(xaxis, dat[i])\n",
    "    ax[i].set_ylabel(name[i])\n",
    "ax[3].set_xlabel('angle(radian)')"
   ]
  },
  {
   "cell_type": "code",
   "execution_count": 270,
   "metadata": {},
   "outputs": [
    {
     "name": "stdout",
     "output_type": "stream",
     "text": [
      "Range low:0.100004 high:1.570796\n"
     ]
    },
    {
     "ename": "ValueError",
     "evalue": "could not broadcast input array from shape (100000,3) into shape (100000)",
     "output_type": "error",
     "traceback": [
      "\u001b[1;31m---------------------------------------------------------------------------\u001b[0m",
      "\u001b[1;31mValueError\u001b[0m                                Traceback (most recent call last)",
      "\u001b[1;32m<ipython-input-270-4a36c8ba86f4>\u001b[0m in \u001b[0;36m<module>\u001b[1;34m\u001b[0m\n\u001b[0;32m      9\u001b[0m     \u001b[0mx\u001b[0m\u001b[1;33m,\u001b[0m \u001b[0mgt\u001b[0m \u001b[1;33m=\u001b[0m \u001b[0mgenData\u001b[0m\u001b[1;33m(\u001b[0m\u001b[0m_size\u001b[0m\u001b[1;33m,\u001b[0m \u001b[0msets\u001b[0m\u001b[1;33m[\u001b[0m\u001b[0mi\u001b[0m\u001b[1;33m]\u001b[0m\u001b[1;33m[\u001b[0m\u001b[1;36m0\u001b[0m\u001b[1;33m]\u001b[0m\u001b[1;33m,\u001b[0m \u001b[0msets\u001b[0m\u001b[1;33m[\u001b[0m\u001b[0mi\u001b[0m\u001b[1;33m]\u001b[0m\u001b[1;33m[\u001b[0m\u001b[1;36m1\u001b[0m\u001b[1;33m]\u001b[0m\u001b[1;33m,\u001b[0m \u001b[0mnp\u001b[0m\u001b[1;33m.\u001b[0m\u001b[0marctan\u001b[0m\u001b[1;33m)\u001b[0m\u001b[1;33m\u001b[0m\u001b[1;33m\u001b[0m\u001b[0m\n\u001b[0;32m     10\u001b[0m     \u001b[0mX\u001b[0m\u001b[1;33m,\u001b[0m \u001b[0mmodel\u001b[0m \u001b[1;33m=\u001b[0m \u001b[0mfitModel\u001b[0m\u001b[1;33m(\u001b[0m\u001b[0mx\u001b[0m\u001b[1;33m,\u001b[0m \u001b[0mcubic\u001b[0m\u001b[1;33m,\u001b[0m \u001b[0mgt\u001b[0m\u001b[1;33m)\u001b[0m\u001b[1;33m\u001b[0m\u001b[1;33m\u001b[0m\u001b[0m\n\u001b[1;32m---> 11\u001b[1;33m     \u001b[0mres\u001b[0m \u001b[1;33m=\u001b[0m \u001b[0mcalcCost\u001b[0m\u001b[1;33m(\u001b[0m\u001b[0mmodel\u001b[0m\u001b[1;33m,\u001b[0m \u001b[0mX\u001b[0m\u001b[1;33m,\u001b[0m \u001b[0mgt\u001b[0m\u001b[1;33m,\u001b[0m \u001b[0mcubic\u001b[0m\u001b[1;33m,\u001b[0m \u001b[0mVerbose\u001b[0m\u001b[1;33m,\u001b[0m \u001b[0mi\u001b[0m\u001b[1;33m)\u001b[0m\u001b[1;33m\u001b[0m\u001b[1;33m\u001b[0m\u001b[0m\n\u001b[0m\u001b[0;32m     12\u001b[0m     \u001b[1;32mif\u001b[0m \u001b[0mres\u001b[0m \u001b[1;33m<\u001b[0m \u001b[0m_err\u001b[0m\u001b[1;33m:\u001b[0m\u001b[1;33m\u001b[0m\u001b[1;33m\u001b[0m\u001b[0m\n\u001b[0;32m     13\u001b[0m         \u001b[0m_err\u001b[0m \u001b[1;33m=\u001b[0m \u001b[0mres\u001b[0m\u001b[1;33m\u001b[0m\u001b[1;33m\u001b[0m\u001b[0m\n",
      "\u001b[1;32m<ipython-input-263-f3c9c4e00b6c>\u001b[0m in \u001b[0;36mcalcCost\u001b[1;34m(model, x, gt, met, v, i)\u001b[0m\n\u001b[0;32m      1\u001b[0m \u001b[1;32mdef\u001b[0m \u001b[0mcalcCost\u001b[0m\u001b[1;33m(\u001b[0m\u001b[0mmodel\u001b[0m\u001b[1;33m,\u001b[0m \u001b[0mx\u001b[0m\u001b[1;33m,\u001b[0m \u001b[0mgt\u001b[0m\u001b[1;33m,\u001b[0m \u001b[0mmet\u001b[0m\u001b[1;33m,\u001b[0m \u001b[0mv\u001b[0m\u001b[1;33m,\u001b[0m \u001b[0mi\u001b[0m\u001b[1;33m)\u001b[0m\u001b[1;33m:\u001b[0m\u001b[1;33m\u001b[0m\u001b[1;33m\u001b[0m\u001b[0m\n\u001b[1;32m----> 2\u001b[1;33m     \u001b[0mX\u001b[0m \u001b[1;33m=\u001b[0m \u001b[0mmet\u001b[0m\u001b[1;33m(\u001b[0m\u001b[0mx\u001b[0m\u001b[1;33m)\u001b[0m\u001b[1;33m\u001b[0m\u001b[1;33m\u001b[0m\u001b[0m\n\u001b[0m\u001b[0;32m      3\u001b[0m     \u001b[0mpred\u001b[0m \u001b[1;33m=\u001b[0m \u001b[0mmodel\u001b[0m\u001b[1;33m.\u001b[0m\u001b[0mpredict\u001b[0m\u001b[1;33m(\u001b[0m\u001b[0mX\u001b[0m\u001b[1;33m)\u001b[0m\u001b[1;33m\u001b[0m\u001b[1;33m\u001b[0m\u001b[0m\n\u001b[0;32m      4\u001b[0m     \u001b[0mres\u001b[0m \u001b[1;33m=\u001b[0m \u001b[0mnp\u001b[0m\u001b[1;33m.\u001b[0m\u001b[0mabs\u001b[0m\u001b[1;33m(\u001b[0m\u001b[0mpred\u001b[0m \u001b[1;33m-\u001b[0m \u001b[0mgt\u001b[0m\u001b[1;33m)\u001b[0m\u001b[1;33m\u001b[0m\u001b[1;33m\u001b[0m\u001b[0m\n\u001b[0;32m      5\u001b[0m     \u001b[0midx\u001b[0m \u001b[1;33m=\u001b[0m \u001b[0mnp\u001b[0m\u001b[1;33m.\u001b[0m\u001b[0margmax\u001b[0m\u001b[1;33m(\u001b[0m\u001b[0mres\u001b[0m\u001b[1;33m)\u001b[0m\u001b[1;33m\u001b[0m\u001b[1;33m\u001b[0m\u001b[0m\n",
      "\u001b[1;32m<ipython-input-267-8bae00df519d>\u001b[0m in \u001b[0;36mcubic\u001b[1;34m(x)\u001b[0m\n\u001b[0;32m      8\u001b[0m     \u001b[0mm\u001b[0m \u001b[1;33m=\u001b[0m \u001b[0mx\u001b[0m\u001b[1;33m.\u001b[0m\u001b[0mshape\u001b[0m\u001b[1;33m[\u001b[0m\u001b[1;36m0\u001b[0m\u001b[1;33m]\u001b[0m\u001b[1;33m\u001b[0m\u001b[1;33m\u001b[0m\u001b[0m\n\u001b[0;32m      9\u001b[0m     \u001b[0mX\u001b[0m \u001b[1;33m=\u001b[0m \u001b[0mnp\u001b[0m\u001b[1;33m.\u001b[0m\u001b[0mempty\u001b[0m\u001b[1;33m(\u001b[0m\u001b[1;33m(\u001b[0m\u001b[0mm\u001b[0m\u001b[1;33m,\u001b[0m \u001b[1;36m3\u001b[0m\u001b[1;33m)\u001b[0m\u001b[1;33m)\u001b[0m\u001b[1;33m\u001b[0m\u001b[1;33m\u001b[0m\u001b[0m\n\u001b[1;32m---> 10\u001b[1;33m     \u001b[0mX\u001b[0m\u001b[1;33m[\u001b[0m\u001b[1;33m:\u001b[0m\u001b[1;33m,\u001b[0m\u001b[1;36m0\u001b[0m\u001b[1;33m]\u001b[0m \u001b[1;33m=\u001b[0m \u001b[0mx\u001b[0m \u001b[1;33m;\u001b[0m \u001b[0mX\u001b[0m\u001b[1;33m[\u001b[0m\u001b[1;33m:\u001b[0m\u001b[1;33m,\u001b[0m\u001b[1;36m1\u001b[0m\u001b[1;33m]\u001b[0m \u001b[1;33m=\u001b[0m \u001b[0mx\u001b[0m \u001b[1;33m*\u001b[0m \u001b[0mx\u001b[0m\u001b[1;33m;\u001b[0m \u001b[0mX\u001b[0m\u001b[1;33m[\u001b[0m\u001b[1;33m:\u001b[0m\u001b[1;33m,\u001b[0m\u001b[1;36m2\u001b[0m\u001b[1;33m]\u001b[0m \u001b[1;33m=\u001b[0m \u001b[0mx\u001b[0m \u001b[1;33m*\u001b[0m \u001b[0mx\u001b[0m \u001b[1;33m*\u001b[0m \u001b[0mx\u001b[0m\u001b[1;33m\u001b[0m\u001b[1;33m\u001b[0m\u001b[0m\n\u001b[0m\u001b[0;32m     11\u001b[0m     \u001b[1;32mreturn\u001b[0m \u001b[0mX\u001b[0m\u001b[1;33m\u001b[0m\u001b[1;33m\u001b[0m\u001b[0m\n\u001b[0;32m     12\u001b[0m \u001b[1;33m\u001b[0m\u001b[0m\n",
      "\u001b[1;31mValueError\u001b[0m: could not broadcast input array from shape (100000,3) into shape (100000)"
     ]
    }
   ],
   "source": [
    "RR = 3\n",
    "_size = 100000\n",
    "Verbose = 1\n",
    "_model = None\n",
    "_err = 9999\n",
    "sets = [[0.1,np.pi/2],[np.pi/2,np.pi],[np.pi,5]]\n",
    "\n",
    "for i in range(RR):\n",
    "    x, gt = genData(_size, sets[i][0], sets[i][1], np.arctan)\n",
    "    X, model = fitModel(x, cubic, gt)\n",
    "    res = calcCost(model, X, gt, cubic, Verbose, i)\n",
    "    if res < _err:\n",
    "        _err = res\n",
    "        _model = model\n",
    "        print(i, res, model.intercept_, model.coef_)\n"
   ]
  },
  {
   "cell_type": "code",
   "execution_count": null,
   "metadata": {},
   "outputs": [],
   "source": [
    "# atan\n",
    "# atan(x) = x(a0 + a1 * x**2) / (b0 + b1 * x**2)\n",
    "# => [x x^3 -y x^2 * y] [a0 a1 b0 b1] = 0\n"
   ]
  },
  {
   "cell_type": "code",
   "execution_count": 183,
   "metadata": {},
   "outputs": [],
   "source": [
    "def dlt_data(x, gt):\n",
    "    n = x.shape[0]\n",
    "    d = np.zeros((n, 4))\n",
    "    d[:,0] = x\n",
    "    d[:,1] = x ** 3\n",
    "    d[:,2] = -gt\n",
    "    d[:,3] = -x ** 2 * gt\n",
    "    return d"
   ]
  },
  {
   "cell_type": "code",
   "execution_count": 209,
   "metadata": {},
   "outputs": [],
   "source": [
    "def train_model(dlt_data,full_matrices=False):\n",
    "    _,_,v= np.linalg.svd(dlt_data,full_matrices=full_matrices)\n",
    "    return v.T[:,-1]"
   ]
  },
  {
   "cell_type": "code",
   "execution_count": 248,
   "metadata": {},
   "outputs": [],
   "source": [
    "class Model(object):\n",
    "    def __init__(self, v):\n",
    "        self.a0 = v[0]\n",
    "        self.a1 = v[1]\n",
    "        self.b0 = v[2]\n",
    "        self.b1 = v[3]\n",
    "    def predict(self, x):\n",
    "        x2 = x ** 2\n",
    "        y = x * (self.a0 + self.a1 * x2) /(self.b0 + self.b1 * x2)\n",
    "        return y\n",
    "    def acos(self, x):\n",
    "        negate = x < 0;\n",
    "        x = abs(x);\n",
    "        ret = -0.0187293;\n",
    "        ret = ret * x;\n",
    "        ret = ret + 0.0742610;\n",
    "        ret = ret * x;\n",
    "        ret = ret - 0.2121144;\n",
    "        ret = ret * x;\n",
    "        ret = ret + 1.5707288;\n",
    "        ret = ret * np.sqrt(1.0-x);\n",
    "        ret = ret - 2 * negate * ret;\n",
    "        return negate * 3.14159265358979 + ret;\n",
    "\n",
    "    def __str__(self):\n",
    "        return \"%.10f %.10f %.10f %.10f\" % (\n",
    "        self.a0, self.a1, self.b0, self.b1)"
   ]
  },
  {
   "cell_type": "code",
   "execution_count": 256,
   "metadata": {},
   "outputs": [
    {
     "data": {
      "text/plain": [
       "0.041666666666666664"
      ]
     },
     "execution_count": 256,
     "metadata": {},
     "output_type": "execute_result"
    }
   ],
   "source": [
    "1/(4*3*2)"
   ]
  },
  {
   "cell_type": "code",
   "execution_count": 255,
   "metadata": {},
   "outputs": [
    {
     "name": "stdout",
     "output_type": "stream",
     "text": [
      "Range low:-0.999986 high:1.000000\n",
      "Range low:-1.000000 high:1.000000\n",
      "MAX err idx 50000 value 6.750158424706498e-05 rad 1.0000100000961964e-05\n"
     ]
    }
   ],
   "source": [
    "RR = 3\n",
    "_size = 100000\n",
    "Verbose = 1\n",
    "_model = None\n",
    "_err = 9999\n",
    "sets = [[-1, 1]]\n",
    "i=0\n",
    "x, gt = genData(_size, sets[i][0], sets[i][1], np.arccos)\n",
    "X = dlt_data(x, gt)\n",
    "v = train_model(X)\n",
    "model = Model(v)\n",
    "x, gt = genData(_size, sets[i][0], sets[i][1], np.arccos, 0)\n",
    "Y = model.acos(x)\n",
    "err = np.abs(gt - Y)\n",
    "idx = np.argmax(err)\n",
    "print(\"MAX err\", \"idx\", idx, \"value\", err[idx], \"rad\", x[idx])"
   ]
  },
  {
   "cell_type": "code",
   "execution_count": 254,
   "metadata": {
    "scrolled": true
   },
   "outputs": [
    {
     "data": {
      "image/png": "[encoded data removed]",
      "text/plain": [
       "<Figure size 432x288 with 1 Axes>"
      ]
     },
     "metadata": {
      "needs_background": "light"
     },
     "output_type": "display_data"
    }
   ],
   "source": [
    "import matplotlib.pyplot as plt\n",
    "plt.plot(np.linspace(-1,1,_size), np.arccos(x))\n",
    "plt.show()"
   ]
  },
  {
   "cell_type": "code",
   "execution_count": 192,
   "metadata": {},
   "outputs": [
    {
     "data": {
      "text/plain": [
       "array([0.36902421, 0.70167109, 0.54490339, 0.27305515])"
      ]
     },
     "execution_count": 192,
     "metadata": {},
     "output_type": "execute_result"
    }
   ],
   "source": [
    "model"
   ]
  },
  {
   "cell_type": "code",
   "execution_count": 178,
   "metadata": {},
   "outputs": [
    {
     "data": {
      "text/plain": [
       "(100000,)"
      ]
     },
     "execution_count": 178,
     "metadata": {},
     "output_type": "execute_result"
    }
   ],
   "source": [
    "x.shape"
   ]
  },
  {
   "cell_type": "code",
   "execution_count": 271,
   "metadata": {},
   "outputs": [],
   "source": [
    "def quadInter(a0, a1, a2, f):\n",
    "    af0x = f - a0[0]\n",
    "    af1x = f - a1[0]\n",
    "    af2x = f - a2[0]\n",
    "    a01x = a0[0] - a1[0]\n",
    "    a02x = a0[0] - a2[0]\n",
    "    a12x = a1[0] - a2[0]\n",
    "    t0 = af1x / a02x\n",
    "    t1 = af2x / a01x\n",
    "    t2 = af0x / a12x\n",
    "    if 0:\n",
    "        y = a0[1] * t0 * t1 \n",
    "        y += a1[1] * t2 * -t1\n",
    "        y += a2[1] * t2 * t0\n",
    "    else:\n",
    "        y = t1 * (a0[1] * t0 - a1[1] * t2) + a2[1] * t2 * t0\n",
    "    return y\n"
   ]
  },
  {
   "cell_type": "code",
   "execution_count": 289,
   "metadata": {},
   "outputs": [
    {
     "data": {
      "text/plain": [
       "array([0.        , 0.001     , 0.002     , 0.003     , 0.00400001,\n",
       "       0.00500002, 0.00600004, 0.00700006, 0.00800009, 0.00900012,\n",
       "       0.01000017, 0.01100022, 0.01200029, 0.01300037, 0.01400046,\n",
       "       0.01500056, 0.01600068, 0.01700082, 0.01800097, 0.01900114,\n",
       "       0.02000133, 0.02100154, 0.02200178, 0.02300203, 0.0240023 ,\n",
       "       0.0250026 , 0.02600293, 0.02700328, 0.02800366, 0.02900407,\n",
       "       0.0300045 , 0.03100497, 0.03200546, 0.03300599, 0.03400655,\n",
       "       0.03500715, 0.03600778, 0.03700845, 0.03800915, 0.03900989,\n",
       "       0.04001067, 0.0410115 , 0.04201236, 0.04301326, 0.04401421,\n",
       "       0.0450152 , 0.04601624, 0.04701732, 0.04801845, 0.04901963,\n",
       "       0.05002086, 0.05102213, 0.05202346, 0.05302484, 0.05402628,\n",
       "       0.05502777, 0.05602931, 0.05703091, 0.05803257, 0.05903428,\n",
       "       0.06003606, 0.06103789, 0.06203979, 0.06304175, 0.06404377,\n",
       "       0.06504586, 0.06604801, 0.06705023, 0.06805251, 0.06905487,\n",
       "       0.07005729, 0.07105979, 0.07206235, 0.07306499, 0.0740677 ,\n",
       "       0.07507049, 0.07607335, 0.07707629, 0.07807931, 0.0790824 ,\n",
       "       0.08008558, 0.08108884, 0.08209217, 0.08309559, 0.0840991 ,\n",
       "       0.08510269, 0.08610636, 0.08711013, 0.08811398, 0.08911792,\n",
       "       0.09012195, 0.09112607, 0.09213028, 0.09313458, 0.09413898,\n",
       "       0.09514348, 0.09614807, 0.09715276, 0.09815755, 0.09916243,\n",
       "       0.10016742, 0.10117251, 0.1021777 , 0.103183  , 0.1041884 ,\n",
       "       0.1051939 , 0.10619951, 0.10720523, 0.10821106, 0.109217  ,\n",
       "       0.11022305, 0.11122921, 0.11223549, 0.11324188, 0.11424838,\n",
       "       0.115255  , 0.11626174, 0.11726859, 0.11827557, 0.11928266,\n",
       "       0.12028988, 0.12129722, 0.12230469, 0.12331228, 0.12431999,\n",
       "       0.12532783, 0.1263358 , 0.1273439 , 0.12835213, 0.12936049,\n",
       "       0.13036898, 0.13137761, 0.13238637, 0.13339526, 0.13440429,\n",
       "       0.13541346, 0.13642277, 0.13743222, 0.13844181, 0.13945154,\n",
       "       0.14046141, 0.14147143, 0.1424816 , 0.14349191, 0.14450237,\n",
       "       0.14551297, 0.14652373, 0.14753464, 0.14854569, 0.14955691,\n",
       "       0.15056827, 0.15157979, 0.15259147, 0.15360331, 0.1546153 ,\n",
       "       0.15562745, 0.15663977, 0.15765224, 0.15866488, 0.15967768,\n",
       "       0.16069065, 0.16170379, 0.16271709, 0.16373056, 0.1647442 ,\n",
       "       0.16575801, 0.16677199, 0.16778615, 0.16880048, 0.16981499,\n",
       "       0.17082967, 0.17184453, 0.17285957, 0.17387479, 0.17489019,\n",
       "       0.17590577, 0.17692153, 0.17793748, 0.17895362, 0.17996994,\n",
       "       0.18098645, 0.18200315, 0.18302004, 0.18403712, 0.18505439,\n",
       "       0.18607186, 0.18708952, 0.18810738, 0.18912544, 0.19014369,\n",
       "       0.19116215, 0.1921808 , 0.19319966, 0.19421872, 0.19523798,\n",
       "       0.19625745, 0.19727713, 0.19829701, 0.1993171 , 0.20033741,\n",
       "       0.20135792, 0.20237865, 0.20339959, 0.20442075, 0.20544212,\n",
       "       0.20646371, 0.20748552, 0.20850754, 0.20952979, 0.21055226,\n",
       "       0.21157496, 0.21259788, 0.21362103, 0.2146444 , 0.215668  ,\n",
       "       0.21669183, 0.21771589, 0.21874019, 0.21976471, 0.22078947,\n",
       "       0.22181447, 0.2228397 , 0.22386518, 0.22489089, 0.22591684,\n",
       "       0.22694304, 0.22796947, 0.22899616, 0.23002308, 0.23105026,\n",
       "       0.23207768, 0.23310536, 0.23413328, 0.23516146, 0.23618988,\n",
       "       0.23721857, 0.23824751, 0.2392767 , 0.24030616, 0.24133587,\n",
       "       0.24236585, 0.24339609, 0.24442659, 0.24545736, 0.24648839,\n",
       "       0.24751969, 0.24855126, 0.2495831 , 0.25061521, 0.2516476 ,\n",
       "       0.25268026, 0.25371319, 0.2547464 , 0.25577989, 0.25681365,\n",
       "       0.2578477 , 0.25888203, 0.25991665, 0.26095155, 0.26198673,\n",
       "       0.2630222 , 0.26405796, 0.26509401, 0.26613036, 0.26716699,\n",
       "       0.26820392, 0.26924115, 0.27027867, 0.27131649, 0.27235461,\n",
       "       0.27339303, 0.27443176, 0.27547078, 0.27651012, 0.27754975,\n",
       "       0.2785897 , 0.27962996, 0.28067053, 0.28171141, 0.2827526 ,\n",
       "       0.28379411, 0.28483593, 0.28587808, 0.28692054, 0.28796332,\n",
       "       0.28900643, 0.29004986, 0.29109361, 0.29213769, 0.2931821 ,\n",
       "       0.29422684, 0.29527191, 0.29631731, 0.29736304, 0.29840911,\n",
       "       0.29945552, 0.30050226, 0.30154935, 0.30259677, 0.30364454,\n",
       "       0.30469265, 0.30574111, 0.30678992, 0.30783907, 0.30888857,\n",
       "       0.30993843, 0.31098864, 0.3120392 , 0.31309012, 0.3141414 ,\n",
       "       0.31519303, 0.31624503, 0.31729739, 0.31835011, 0.3194032 ,\n",
       "       0.32045665, 0.32151048, 0.32256467, 0.32361924, 0.32467417,\n",
       "       0.32572949, 0.32678518, 0.32784124, 0.32889769, 0.32995452,\n",
       "       0.33101173, 0.33206932, 0.3331273 , 0.33418567, 0.33524443,\n",
       "       0.33630358, 0.33736312, 0.33842305, 0.33948338, 0.3405441 ,\n",
       "       0.34160523, 0.34266676, 0.34372868, 0.34479102, 0.34585375,\n",
       "       0.3469169 , 0.34798045, 0.34904441, 0.35010879, 0.35117358,\n",
       "       0.35223879, 0.35330441, 0.35437045, 0.35543691, 0.3565038 ,\n",
       "       0.3575711 , 0.35863884, 0.359707  , 0.36077559, 0.36184461,\n",
       "       0.36291407, 0.36398396, 0.36505428, 0.36612505, 0.36719625,\n",
       "       0.36826789, 0.36933998, 0.37041251, 0.37148549, 0.37255892,\n",
       "       0.3736328 , 0.37470713, 0.37578192, 0.37685716, 0.37793286,\n",
       "       0.37900902, 0.38008564, 0.38116272, 0.38224027, 0.38331829,\n",
       "       0.38439677, 0.38547573, 0.38655516, 0.38763506, 0.38871544,\n",
       "       0.3897963 , 0.39087763, 0.39195945, 0.39304176, 0.39412455,\n",
       "       0.39520782, 0.39629159, 0.39737585, 0.3984606 , 0.39954585,\n",
       "       0.40063159, 0.40171784, 0.40280458, 0.40389183, 0.40497959,\n",
       "       0.40606785, 0.40715662, 0.40824591, 0.4093357 , 0.41042602,\n",
       "       0.41151685, 0.4126082 , 0.41370007, 0.41479246, 0.41588538,\n",
       "       0.41697883, 0.41807281, 0.41916732, 0.42026236, 0.42135794,\n",
       "       0.42245406, 0.42355072, 0.42464792, 0.42574567, 0.42684396,\n",
       "       0.4279428 , 0.4290422 , 0.43014214, 0.43124264, 0.4323437 ,\n",
       "       0.43344532, 0.4345475 , 0.43565025, 0.43675356, 0.43785744,\n",
       "       0.43896189, 0.44006691, 0.44117251, 0.44227868, 0.44338544,\n",
       "       0.44449278, 0.4456007 , 0.44670921, 0.44781831, 0.44892799,\n",
       "       0.45003828, 0.45114916, 0.45226063, 0.45337271, 0.45448539,\n",
       "       0.45559867, 0.45671257, 0.45782707, 0.45894218, 0.46005791,\n",
       "       0.46117426, 0.46229123, 0.46340882, 0.46452703, 0.46564587,\n",
       "       0.46676534, 0.46788544, 0.46900618, 0.47012755, 0.47124956,\n",
       "       0.47237221, 0.47349551, 0.47461946, 0.47574405, 0.4768693 ,\n",
       "       0.4779952 , 0.47912176, 0.48024897, 0.48137685, 0.4825054 ,\n",
       "       0.48363461, 0.48476449, 0.48589505, 0.48702628, 0.48815819,\n",
       "       0.48929078, 0.49042405, 0.49155801, 0.49269266, 0.493828  ,\n",
       "       0.49496403, 0.49610076, 0.49723819, 0.49837633, 0.49951517,\n",
       "       0.50065471, 0.50179497, 0.50293594, 0.50407763, 0.50522004,\n",
       "       0.50636317, 0.50750702, 0.50865161, 0.50979692, 0.51094297,\n",
       "       0.51208975, 0.51323728, 0.51438554, 0.51553456, 0.51668432,\n",
       "       0.51783483, 0.5189861 , 0.52013812, 0.52129091, 0.52244446])"
      ]
     },
     "execution_count": 289,
     "metadata": {},
     "output_type": "execute_result"
    }
   ],
   "source": [
    "a = np.linspace(0,1,1001)\n",
    "np.arcsin(a[:500])\n"
   ]
  },
  {
   "cell_type": "code",
   "execution_count": 290,
   "metadata": {},
   "outputs": [
    {
     "data": {
      "text/plain": [
       "array([0.52359878, 0.52475386, 0.52590972, 0.52706636, 0.52822377,\n",
       "       0.52938197, 0.53054095, 0.53170072, 0.53286128, 0.53402264,\n",
       "       0.53518479, 0.53634775, 0.53751151, 0.53867608, 0.53984146,\n",
       "       0.54100765, 0.54217466, 0.54334249, 0.54451115, 0.54568064,\n",
       "       0.54685095, 0.5480221 , 0.54919409, 0.55036692, 0.55154059,\n",
       "       0.55271511, 0.55389049, 0.55506671, 0.5562438 , 0.55742175,\n",
       "       0.55860057, 0.55978025, 0.56096081, 0.56214224, 0.56332455,\n",
       "       0.56450775, 0.56569183, 0.5668768 , 0.56806267, 0.56924944,\n",
       "       0.57043711, 0.57162568, 0.57281517, 0.57400557, 0.57519688,\n",
       "       0.57638911, 0.57758227, 0.57877636, 0.57997138, 0.58116734,\n",
       "       0.58236424, 0.58356208, 0.58476087, 0.58596061, 0.58716131,\n",
       "       0.58836297, 0.58956559, 0.59076918, 0.59197374, 0.59317928,\n",
       "       0.5943858 , 0.5955933 , 0.5968018 , 0.59801128, 0.59922177,\n",
       "       0.60043325, 0.60164574, 0.60285925, 0.60407376, 0.6052893 ,\n",
       "       0.60650586, 0.60772344, 0.60894206, 0.61016171, 0.61138241,\n",
       "       0.61260415, 0.61382694, 0.61505078, 0.61627569, 0.61750165,\n",
       "       0.61872869, 0.6199568 , 0.62118599, 0.62241625, 0.62364761,\n",
       "       0.62488006, 0.6261136 , 0.62734825, 0.628584  , 0.62982086,\n",
       "       0.63105884, 0.63229794, 0.63353817, 0.63477952, 0.63602202,\n",
       "       0.63726565, 0.63851043, 0.63975636, 0.64100345, 0.64225169,\n",
       "       0.64350111, 0.6447517 , 0.64600346, 0.64725641, 0.64851054,\n",
       "       0.64976587, 0.65102239, 0.65228012, 0.65353906, 0.65479922,\n",
       "       0.65606059, 0.65732319, 0.65858702, 0.65985209, 0.66111841,\n",
       "       0.66238597, 0.66365478, 0.66492486, 0.6661962 , 0.66746881,\n",
       "       0.6687427 , 0.67001788, 0.67129434, 0.6725721 , 0.67385116,\n",
       "       0.67513153, 0.67641322, 0.67769622, 0.67898055, 0.68026621,\n",
       "       0.68155321, 0.68284156, 0.68413125, 0.68542231, 0.68671473,\n",
       "       0.68800852, 0.68930369, 0.69060024, 0.69189818, 0.69319752,\n",
       "       0.69449827, 0.69580042, 0.69710399, 0.69840899, 0.69971542,\n",
       "       0.70102328, 0.70233259, 0.70364336, 0.70495558, 0.70626927,\n",
       "       0.70758444, 0.70890108, 0.71021922, 0.71153884, 0.71285998,\n",
       "       0.71418262, 0.71550678, 0.71683247, 0.71815969, 0.71948845,\n",
       "       0.72081876, 0.72215063, 0.72348406, 0.72481906, 0.72615565,\n",
       "       0.72749382, 0.72883359, 0.73017496, 0.73151794, 0.73286255,\n",
       "       0.73420879, 0.73555666, 0.73690618, 0.73825736, 0.73961019,\n",
       "       0.7409647 , 0.74232089, 0.74367877, 0.74503835, 0.74639963,\n",
       "       0.74776263, 0.74912736, 0.75049382, 0.75186202, 0.75323198,\n",
       "       0.7546037 , 0.75597719, 0.75735246, 0.75872952, 0.76010838,\n",
       "       0.76148905, 0.76287154, 0.76425586, 0.76564202, 0.76703003,\n",
       "       0.7684199 , 0.76981164, 0.77120526, 0.77260077, 0.77399818,\n",
       "       0.7753975 , 0.77679874, 0.77820191, 0.77960703, 0.78101411,\n",
       "       0.78242315, 0.78383416, 0.78524716, 0.78666216, 0.78807918,\n",
       "       0.78949821, 0.79091928, 0.79234239, 0.79376755, 0.79519479,\n",
       "       0.79662411, 0.79805552, 0.79948903, 0.80092466, 0.80236242,\n",
       "       0.80380232, 0.80524437, 0.8066886 , 0.808135  , 0.80958359,\n",
       "       0.81103439, 0.81248741, 0.81394267, 0.81540016, 0.81685992,\n",
       "       0.81832195, 0.81978627, 0.82125288, 0.82272182, 0.82419308,\n",
       "       0.82566668, 0.82714264, 0.82862098, 0.8301017 , 0.83158482,\n",
       "       0.83307036, 0.83455833, 0.83604875, 0.83754163, 0.83903699,\n",
       "       0.84053484, 0.8420352 , 0.84353809, 0.84504352, 0.84655151,\n",
       "       0.84806208, 0.84957524, 0.851091  , 0.85260939, 0.85413043,\n",
       "       0.85565412, 0.85718049, 0.85870956, 0.86024134, 0.86177585,\n",
       "       0.86331312, 0.86485315, 0.86639596, 0.86794159, 0.86949004,\n",
       "       0.87104133, 0.87259549, 0.87415253, 0.87571247, 0.87727534,\n",
       "       0.87884115, 0.88040993, 0.88198169, 0.88355646, 0.88513425,\n",
       "       0.88671509, 0.88829901, 0.88988602, 0.89147614, 0.8930694 ,\n",
       "       0.89466582, 0.89626542, 0.89786823, 0.89947427, 0.90108356,\n",
       "       0.90269613, 0.904312  , 0.9059312 , 0.90755374, 0.90917967,\n",
       "       0.910809  , 0.91244175, 0.91407796, 0.91571765, 0.91736085,\n",
       "       0.91900758, 0.92065787, 0.92231175, 0.92396925, 0.9256304 ,\n",
       "       0.92729522, 0.92896374, 0.930636  , 0.93231202, 0.93399183,\n",
       "       0.93567547, 0.93736296, 0.93905434, 0.94074964, 0.94244888,\n",
       "       0.94415212, 0.94585936, 0.94757066, 0.94928604, 0.95100554,\n",
       "       0.95272919, 0.95445704, 0.9561891 , 0.95792543, 0.95966606,\n",
       "       0.96141102, 0.96316035, 0.9649141 , 0.9666723 , 0.96843498,\n",
       "       0.9702022 , 0.97197399, 0.97375039, 0.97553144, 0.97731719,\n",
       "       0.97910768, 0.98090296, 0.98270306, 0.98450803, 0.98631793,\n",
       "       0.98813279, 0.98995266, 0.99177758, 0.99360762, 0.99544282,\n",
       "       0.99728322, 0.99912888, 1.00097986, 1.00283619, 1.00469794,\n",
       "       1.00656517, 1.00843791, 1.01031624, 1.01220021, 1.01408988,\n",
       "       1.01598529, 1.01788653, 1.01979364, 1.02170668, 1.02362573,\n",
       "       1.02555084, 1.02748208, 1.02941951, 1.03136321, 1.03331324,\n",
       "       1.03526967, 1.03723257, 1.03920202, 1.04117809, 1.04316084,\n",
       "       1.04515037, 1.04714675, 1.04915005, 1.05116035, 1.05317775,\n",
       "       1.05520232, 1.05723415, 1.05927332, 1.06131993, 1.06337407,\n",
       "       1.06543582, 1.06750528, 1.06958255, 1.07166773, 1.07376091,\n",
       "       1.0758622 , 1.0779717 , 1.08008953, 1.08221578, 1.08435057,\n",
       "       1.08649401, 1.08864622, 1.09080732, 1.09297743, 1.09515667,\n",
       "       1.09734517, 1.09954306, 1.10175047, 1.10396754, 1.1061944 ,\n",
       "       1.1084312 , 1.11067809, 1.11293521, 1.11520272, 1.11748076,\n",
       "       1.11976951, 1.12206913, 1.12437979, 1.12670165, 1.1290349 ,\n",
       "       1.13137972, 1.1337363 , 1.13610482, 1.13848548, 1.14087849,\n",
       "       1.14328406, 1.1457024 , 1.14813372, 1.15057826, 1.15303625,\n",
       "       1.15550792, 1.15799353, 1.16049332, 1.16300756, 1.16553653,\n",
       "       1.16808049, 1.17063973, 1.17321455, 1.17580526, 1.17841216,\n",
       "       1.18103559, 1.18367589, 1.1863334 , 1.18900847, 1.19170149,\n",
       "       1.19441284, 1.19714292, 1.19989215, 1.20266095, 1.20544976,\n",
       "       1.20825906, 1.21108933, 1.21394105, 1.21681476, 1.21971099,\n",
       "       1.22263031, 1.22557329, 1.22854056, 1.23153276, 1.23455054,\n",
       "       1.2375946 , 1.24066568, 1.24376453, 1.24689195, 1.25004878,\n",
       "       1.2532359 , 1.25645422, 1.25970473, 1.26298843, 1.2663064 ,\n",
       "       1.26965978, 1.27304977, 1.27647762, 1.27994469, 1.28345238,\n",
       "       1.28700222, 1.29059579, 1.29423481, 1.2979211 , 1.30165659,\n",
       "       1.30544338, 1.30928368, 1.31317989, 1.31713459, 1.32115056,\n",
       "       1.32523081, 1.32937859, 1.33359746, 1.33789127, 1.34226425,\n",
       "       1.34672104, 1.35126674, 1.355907  , 1.36064808, 1.36549696,\n",
       "       1.37046148, 1.37555046, 1.3807739 , 1.38614321, 1.39167151,\n",
       "       1.39737401, 1.40326848, 1.40937598, 1.41572165, 1.42233606,\n",
       "       1.42925685, 1.43653142, 1.44422074, 1.4524056 , 1.46119697,\n",
       "       1.47075461, 1.48132377, 1.49331728, 1.50754023, 1.52607124,\n",
       "       1.57079633])"
      ]
     },
     "execution_count": 290,
     "metadata": {},
     "output_type": "execute_result"
    }
   ],
   "source": [
    "np.arcsin(a[500:])"
   ]
  },
  {
   "cell_type": "code",
   "execution_count": 292,
   "metadata": {},
   "outputs": [
    {
     "data": {
      "text/plain": [
       "0.008726646259971648"
      ]
     },
     "execution_count": 292,
     "metadata": {},
     "output_type": "execute_result"
    }
   ],
   "source": [
    "np.pi/360"
   ]
  }
 ],
 "metadata": {
  "kernelspec": {
   "display_name": "Python 3",
   "language": "python",
   "name": "python3"
  },
  "language_info": {
   "codemirror_mode": {
    "name": "ipython",
    "version": 3
   },
   "file_extension": ".py",
   "mimetype": "text/x-python",
   "name": "python",
   "nbconvert_exporter": "python",
   "pygments_lexer": "ipython3",
   "version": "3.6.8"
  }
 },
 "nbformat": 4,
 "nbformat_minor": 2
}
