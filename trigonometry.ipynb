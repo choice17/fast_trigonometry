{
 "cells": [
  {
   "cell_type": "code",
   "execution_count": 1,
   "metadata": {},
   "outputs": [],
   "source": [
    "# fast trigonometry"
   ]
  },
  {
   "cell_type": "markdown",
   "metadata": {},
   "source": [
    "# 1. Arctan"
   ]
  },
  {
   "cell_type": "code",
   "execution_count": 5,
   "metadata": {},
   "outputs": [],
   "source": [
    "import numpy as np"
   ]
  },
  {
   "cell_type": "code",
   "execution_count": 146,
   "metadata": {},
   "outputs": [],
   "source": [
    "def quart(x):\n",
    "    m = x.shape[0]\n",
    "    X = np.empty((m, 4))\n",
    "    X[:,0] = x ; X[:,1] = x * x; X[:,2] = x * x * x ; X[:,3] = X[:,1] * X[:,1]\n",
    "    return X\n",
    "\n",
    "def cubic(x):\n",
    "    m = x.shape[0]\n",
    "    X = np.empty((m, 3))\n",
    "    X[:,0] = x ; X[:,1] = x * x; X[:,2] = x * x * x\n",
    "    return X\n",
    "\n",
    "def cubic2(x):\n",
    "    m = x.shape[0]\n",
    "    X = np.empty((m, 3))\n",
    "    x2 = x * x\n",
    "    X[:,0] = x ; X[:,1] = x2 ; X[:,2] = x2 * x2 * x2\n",
    "    return X\n",
    "\n",
    "def quad(x):\n",
    "    m = x.shape[0]\n",
    "    X = np.empty((m, 2))\n",
    "    X[:,0] = x ; X[:,1] = x * x;\n",
    "    return X\n",
    "\n",
    "def quad2(x):\n",
    "    m = x.shape[0]\n",
    "    X = np.empty((m, 2))\n",
    "    X[:,0] = x * x ; X[:,1] = x ** 4;\n",
    "    return X\n",
    "    \n",
    "def linear(x):\n",
    "    X = np.expand_dims(x,1)\n",
    "    return X"
   ]
  },
  {
   "cell_type": "code",
   "execution_count": 161,
   "metadata": {},
   "outputs": [
    {
     "data": {
      "text/plain": [
       "0.7853981633974483"
      ]
     },
     "execution_count": 161,
     "metadata": {},
     "output_type": "execute_result"
    }
   ],
   "source": [
    "np.pi/4"
   ]
  },
  {
   "cell_type": "code",
   "execution_count": 142,
   "metadata": {},
   "outputs": [
    {
     "name": "stdout",
     "output_type": "stream",
     "text": [
      "Range low:0.100000 high:1.570796\n"
     ]
    }
   ],
   "source": [
    "from sklearn.linear_model import LinearRegression\n",
    "# 1. a + bx + cx^2 + dx^3a\n",
    "met = cubic\n",
    "def genData(_size, low, high, tri_gt, rand=1):\n",
    "    #x = np.clip(np.abs(np.random.randn(_size)) * (1) + 0.5,0, 1).astype(np.float32)\n",
    "    if rand == 0:\n",
    "        x = np.linspace(low,high,_size)\n",
    "    else:\n",
    "        x = np.clip(np.abs(np.random.randn(_size)) * (high - low) + low, low, high)\n",
    "    #\n",
    "    gt = tri_gt(x)\n",
    "    print(\"Range low:%f high:%f\" % (np.min(x), np.max(x)))\n",
    "    return x, gt\n",
    "_size = 1000000\n",
    "low = 0.1\n",
    "high = np.pi/2\n",
    "x, gt = genData(_size, low, high, np.arctan)"
   ]
  },
  {
   "cell_type": "code",
   "execution_count": 143,
   "metadata": {
    "scrolled": true
   },
   "outputs": [
    {
     "name": "stdout",
     "output_type": "stream",
     "text": [
      "[ 1.14201429 -0.38966826  0.04818526]\n",
      "-0.015508326980677056\n"
     ]
    }
   ],
   "source": [
    "def fitModel(x, met, gt, v=0):\n",
    "    X = met(x)\n",
    "    model = LinearRegression()\n",
    "    model.fit(X, gt)\n",
    "    if v: print(model.coef_)\n",
    "    if v: print(model.intercept_)\n",
    "    return X, model\n",
    "X, model = fitModel(x, met, gt, v = 1)"
   ]
  },
  {
   "cell_type": "code",
   "execution_count": 144,
   "metadata": {},
   "outputs": [],
   "source": [
    "def calcCost(model, x, gt, met, v, i):\n",
    "    X = met(x)\n",
    "    pred = model.predict(X)\n",
    "    res = np.abs(pred - gt)\n",
    "    idx = np.argmax(res)\n",
    "    if v: print(i, \"MAX err\", \"idx\", idx, \"diff\", res[idx], \"rad\", x[idx], \"Mean\", np.mean(res))\n",
    "    return res[idx]"
   ]
  },
  {
   "cell_type": "code",
   "execution_count": 174,
   "metadata": {
    "scrolled": true
   },
   "outputs": [
    {
     "name": "stdout",
     "output_type": "stream",
     "text": [
      "Range low:0.050002 high:0.800000\n",
      "Range low:0.050000 high:0.800000\n",
      "0 MAX err idx 0 diff 0.07014745796693603 rad 0.05 Mean 0.019795060172601724\n",
      " >>>>  0 ERR 0.07014745796693603 0.11540699416273514 [ 1.9147994  -0.77221237]\n",
      "Range low:0.800001 high:1.300000\n",
      "Range low:0.800000 high:1.300000\n",
      "1 MAX err idx 0 diff 0.07541018278951372 rad 0.8 Mean 0.036019347933690306\n",
      " >>>>  1 ERR 0.07541018278951372 1.5038953648378492 [-1.7536856   1.76638711]\n",
      "Range low:1.300002 high:1.500000\n",
      "Range low:1.300000 high:1.500000\n",
      "2 MAX err idx 84835 diff 0.7137875201426738 rad 1.4696716967169672 Mean 0.33784934175122916\n",
      " >>>>  2 ERR 0.7137875201426738 137.05612747587116 [-150.50368223   42.56748192]\n",
      "Range low:0.050014 high:1.500000\n",
      "Range low:0.050000 high:1.500000\n",
      "3 MAX err idx 93616 diff 3.537045480985869 rad 1.4074455744557446 Mean 1.0496443602713654\n",
      " >>>>  3 ERR 3.537045480985869 1.1188355145833064 [-4.86586885  4.6188532 ]\n",
      "test:1.3758 predict:8.4579 gt:5.0639 diff:3.394052\n"
     ]
    }
   ],
   "source": [
    "\n",
    "_size = 100000\n",
    "Verbose = 1\n",
    "_model = None\n",
    "_err = 9999\n",
    "# sets = [[0.1,np.pi/2],[np.pi/2,np.pi],[np.pi,5]]\n",
    "sets = [[0.05, 0.8], [0.8,1.3],[1.3,1.5],[0.05,1.5]]\n",
    "RR = len(sets)\n",
    "convert = quad2\n",
    "tri_gt = np.tan\n",
    "\n",
    "for i in range(RR):\n",
    "    x, gt = genData(_size, sets[i][0], sets[i][1], tri_gt)\n",
    "    X, model = fitModel(x, convert, gt)\n",
    "    x, gt = genData(_size, sets[i][0], sets[i][1], tri_gt, 0)\n",
    "    res = calcCost(model, x, gt, convert, Verbose, i)\n",
    "    # if res < _err:\n",
    "    _err = res\n",
    "    _model = model\n",
    "    print(\" >>>> \", i, \"ERR\",res, model.intercept_, model.coef_)\n",
    "\n",
    "tv = np.array([[1.3758271370212163]])\n",
    "res = _model.predict(convert(tv))\n",
    "res_gt = tri_gt(tv)\n",
    "diff = np.abs(res - res_gt)\n",
    "\n",
    "print(\"test:%.4f predict:%.4f gt:%.4f diff:%f\" % (\n",
    "     tv, res, res_gt, diff))"
   ]
  },
  {
   "cell_type": "code",
   "execution_count": 164,
   "metadata": {},
   "outputs": [
    {
     "data": {
      "text/plain": [
       "0.7853981633974483"
      ]
     },
     "execution_count": 164,
     "metadata": {},
     "output_type": "execute_result"
    }
   ],
   "source": [
    "np.pi/4"
   ]
  },
  {
   "cell_type": "code",
   "execution_count": 7,
   "metadata": {},
   "outputs": [],
   "source": [
    "lsize = 5000\n",
    "xl = np.linspace(5,500,lsize)\n",
    "gtxl = np.arctan(xl)"
   ]
  },
  {
   "cell_type": "code",
   "execution_count": 8,
   "metadata": {},
   "outputs": [
    {
     "name": "stdout",
     "output_type": "stream",
     "text": [
      "[ 7.65325825e-04 -2.76103373e-06  3.04822121e-09]\n",
      "1.50443794904616\n"
     ]
    }
   ],
   "source": [
    "Xl = cubic(xl) #quad(xl)\n",
    "modell = LinearRegression()\n",
    "modell.fit(Xl, gtxl)\n",
    "print(modell.coef_)\n",
    "print(modell.intercept_)"
   ]
  },
  {
   "cell_type": "code",
   "execution_count": 9,
   "metadata": {},
   "outputs": [
    {
     "name": "stdout",
     "output_type": "stream",
     "text": [
      "MAX err idx 0 value 0.13479516641067524 rad 5.0\n",
      "[1.50819593]  vs  [[1.37340077 1.53081764 1.5627965 ]]\n"
     ]
    }
   ],
   "source": [
    "pred = modell.predict(Xl)\n",
    "res = (pred - gtxl)\n",
    "idx = np.argmax(res)\n",
    "print(\"MAX err\", \"idx\", idx, \"value\", res[idx], \"rad\", Xl[idx,0])\n",
    "predict = cubic(np.array([[5]]))\n",
    "print(modell.predict(predict), \" vs \", np.arctan(predict))"
   ]
  },
  {
   "cell_type": "code",
   "execution_count": 10,
   "metadata": {},
   "outputs": [
    {
     "name": "stdout",
     "output_type": "stream",
     "text": [
      "1.4056476493802699\n",
      "1.4041296601282298\n"
     ]
    }
   ],
   "source": [
    "val = 6\n",
    "print(np.arctan(val))\n",
    "print(np.pi / 2 - 1 / val)"
   ]
  },
  {
   "cell_type": "code",
   "execution_count": 11,
   "metadata": {},
   "outputs": [],
   "source": [
    "def fast_arctan(x):\n",
    "    a0 = 1.10382257\n",
    "    a1 = -0.36105955\n",
    "    a2 = 0.04400221\n",
    "    b = -0.00492334997743038\n",
    "    sign = 1 if x >= 0 else -1\n",
    "    if (abs(x) > np.pi):\n",
    "        # https://math.stackexchange.com/questions/982838/asymptotic-approximation-of-the-arctangent/982859\n",
    "        return (sign*(np.pi / 2) - 1/x)\n",
    "    elif abs(x) < 5e-2:\n",
    "        # for small x\n",
    "        return x\n",
    "    else:\n",
    "        # by regression\n",
    "        ax = abs(x)\n",
    "        return sign * (b + ax * (a0 + ax * (a1 + a2 * ax)))\n",
    "        #x2 = ax * ax\n",
    "        #x3 = x2 * ax\n",
    "        #return sign * (b + a0 * ax + a1 * x2 + a2 * x3)"
   ]
  },
  {
   "cell_type": "code",
   "execution_count": 12,
   "metadata": {},
   "outputs": [
    {
     "name": "stdout",
     "output_type": "stream",
     "text": [
      "-0.04898039418715918 vs -0.049\n"
     ]
    }
   ],
   "source": [
    "val = -0.049\n",
    "print(np.sin(val), \"vs\", fast_arctan(val))"
   ]
  },
  {
   "cell_type": "code",
   "execution_count": 13,
   "metadata": {},
   "outputs": [
    {
     "data": {
      "text/plain": [
       "3.141592653589793"
      ]
     },
     "execution_count": 13,
     "metadata": {},
     "output_type": "execute_result"
    }
   ],
   "source": [
    "np.pi"
   ]
  },
  {
   "cell_type": "markdown",
   "metadata": {},
   "source": [
    "# 2. Sine"
   ]
  },
  {
   "cell_type": "code",
   "execution_count": 38,
   "metadata": {},
   "outputs": [
    {
     "name": "stdout",
     "output_type": "stream",
     "text": [
      "[-0.49639232  0.03720932]\n",
      "0.9995795145769749\n"
     ]
    }
   ],
   "source": [
    "from sklearn.linear_model import LinearRegression\n",
    "# 1. a + bx + cx^2 + dx^3\n",
    "_size = 1000000\n",
    "#x = np.clip(np.abs(np.random.randn(_size)) * np.pi/2, 0, np.pi/2)\n",
    "#x = np.linspace(0,np.pi/2,_size)\n",
    "gt = np.cos(x)\n",
    "X = quad2(x)\n",
    "model = LinearRegression()\n",
    "model.fit(X, gt)\n",
    "print(model.coef_)\n",
    "print(model.intercept_)"
   ]
  },
  {
   "cell_type": "code",
   "execution_count": 39,
   "metadata": {},
   "outputs": [
    {
     "name": "stdout",
     "output_type": "stream",
     "text": [
      "MAX err idx 999999 value 0.0013134464411175772 rad 1.5707963267948966\n",
      "[0.00131345]  vs  6.123233995736766e-17\n"
     ]
    }
   ],
   "source": [
    "pred = model.predict(X)\n",
    "res = np.abs(pred - gt)\n",
    "idx = np.argmax(res)\n",
    "print(\"MAX err\", \"idx\", idx, \"value\", res[idx], \"rad\", x[idx])\n",
    "test = np.pi/2\n",
    "predict = quad2(np.array([[test]]))\n",
    "print(model.predict(predict), \" vs \", np.cos(test))\n"
   ]
  },
  {
   "cell_type": "code",
   "execution_count": 55,
   "metadata": {},
   "outputs": [
    {
     "name": "stdout",
     "output_type": "stream",
     "text": [
      "MAX err idx 87587 value 0.0008997190733912586 rad 1.3758271370212163\n"
     ]
    }
   ],
   "source": [
    "tx = np.linspace(0,np.pi/2,100000)\n",
    "ttx = quad2(tx)\n",
    "pred = model.predict(ttx)\n",
    "gt_tx = np.cos(tx)\n",
    "err = np.abs(gt_tx - pred)\n",
    "idx = np.argmax(err)\n",
    "print(\"MAX err\", \"idx\", idx, \"value\", err[idx], \"rad\", tx[idx])"
   ]
  },
  {
   "cell_type": "code",
   "execution_count": 54,
   "metadata": {},
   "outputs": [
    {
     "data": {
      "text/plain": [
       "array([-0.49576368,  0.03677728])"
      ]
     },
     "execution_count": 54,
     "metadata": {},
     "output_type": "execute_result"
    }
   ],
   "source": [
    "model.coef_"
   ]
  },
  {
   "cell_type": "code",
   "execution_count": 53,
   "metadata": {},
   "outputs": [
    {
     "ename": "SyntaxError",
     "evalue": "invalid syntax (<ipython-input-53-8d27cf197b0b>, line 1)",
     "output_type": "error",
     "traceback": [
      "\u001b[1;36m  File \u001b[1;32m\"<ipython-input-53-8d27cf197b0b>\"\u001b[1;36m, line \u001b[1;32m1\u001b[0m\n\u001b[1;33m    0.9994922003943848 [-0.49576368  0.03677728]\u001b[0m\n\u001b[1;37m                                              ^\u001b[0m\n\u001b[1;31mSyntaxError\u001b[0m\u001b[1;31m:\u001b[0m invalid syntax\n"
     ]
    }
   ],
   "source": [
    " 0.9994922003943848 [-0.49576368  0.03677728]"
   ]
  },
  {
   "cell_type": "code",
   "execution_count": null,
   "metadata": {},
   "outputs": [],
   "source": []
  },
  {
   "cell_type": "code",
   "execution_count": 353,
   "metadata": {},
   "outputs": [],
   "source": [
    "def fmod(ax, m):\n",
    "    _x = ax / m\n",
    "    _ix = int(_x)\n",
    "    ax = (_x - _ix) * m\n",
    "    return ax\n",
    "\n",
    "def mapQuad(x, m, q):\n",
    "    _x = x / m\n",
    "    _ix = int(_x)\n",
    "    ax = (_x - _ix) * m\n",
    "    quad = _ix % q\n",
    "    return ax, quad\n",
    "\n",
    "def cos_quad2(x):\n",
    "    c0=0.9994925807697664\n",
    "    c1=-0.49576019\n",
    "    c2=0.03677586\n",
    "    x2 = x * x\n",
    "    return c0 + x2 * (c1 + x2 * c2)"
   ]
  },
  {
   "cell_type": "code",
   "execution_count": 354,
   "metadata": {},
   "outputs": [
    {
     "data": {
      "text/plain": [
       "6.283185307179586"
      ]
     },
     "execution_count": 354,
     "metadata": {},
     "output_type": "execute_result"
    }
   ],
   "source": [
    "2 * np.pi"
   ]
  },
  {
   "cell_type": "code",
   "execution_count": 356,
   "metadata": {},
   "outputs": [],
   "source": [
    "def fast_cos(x):\n",
    "    pi_2 = 1.5707963267948966\n",
    "    twopi = 6.283185307179586\n",
    "    ax = x\n",
    "    if x < 0: ax = -x\n",
    "    if ax < 0.05: return ax\n",
    "    ax, quad = mapQuad(x, pi_2, 4)\n",
    "    \n",
    "    if quad == 0: return cos_quad2(ax)\n",
    "    elif quad == 1: return -cos_quad2(pi_2 - ax)\n",
    "    elif quad == 2: return -cos_quad2(ax)\n",
    "    elif quad == 3: return cos_quad2(pi_2 - ax)"
   ]
  },
  {
   "cell_type": "code",
   "execution_count": 357,
   "metadata": {},
   "outputs": [],
   "source": [
    "def fast_sin(x):\n",
    "    return fast_cos(np.pi/2 - x)"
   ]
  },
  {
   "cell_type": "code",
   "execution_count": 18,
   "metadata": {},
   "outputs": [],
   "source": [
    "# https://en.wikipedia.org/wiki/Bhaskara_I%27s_sine_approximation_formula\n",
    "def fast_sine(x):\n",
    "    # version one\n",
    "    pi = 3.141592653589793\n",
    "    pi2 = pi * pi\n",
    "    ax = abs(x)\n",
    "    sign = 1 if x >= 0 else -1\n",
    "    if ax < 0.05:\n",
    "        return x\n",
    "    if ax > pi:\n",
    "        _x = ax / pi\n",
    "        _ix = int(_x)\n",
    "        _mx = _ix % 2\n",
    "        ax = (_x - _ix) * pi\n",
    "        sign = sign * (-1 if _mx == 1 else 1)\n",
    "    return sign * (16 * ax * (pi - ax)) / ( 5 * pi2 - 4 * ax * (pi - ax))\n"
   ]
  },
  {
   "cell_type": "code",
   "execution_count": 19,
   "metadata": {},
   "outputs": [
    {
     "name": "stdout",
     "output_type": "stream",
     "text": [
      "0.77655256622833 vs 0.7778960471964677\n"
     ]
    }
   ],
   "source": [
    "val = -2393923 + 0.23232\n",
    "print(fast_sine(val), \"vs\" , np.sin(val))"
   ]
  },
  {
   "cell_type": "code",
   "execution_count": 20,
   "metadata": {},
   "outputs": [],
   "source": [
    "def fast_sineDeg(x):\n",
    "    ax = abs(x)\n",
    "    sign = 1 if x >= 0 else -1\n",
    "    if ax < 2.86:\n",
    "        return x*3.14159265/180\n",
    "    elif ax > 180.:\n",
    "        _x = ax / 180\n",
    "        _ix = int(_x)\n",
    "        _mx = _ix % 2\n",
    "        ax = (_x - _ix) * 180\n",
    "        sign = sign * (-1 if _mx == 1 else 1)\n",
    "    return sign * (4 * ax) * (180 - ax) / (40500 - ax * (180 - ax))"
   ]
  },
  {
   "cell_type": "code",
   "execution_count": 21,
   "metadata": {},
   "outputs": [
    {
     "name": "stdout",
     "output_type": "stream",
     "text": [
      "-0.02888087235926067 vs -0.02840352588360379\n"
     ]
    }
   ],
   "source": [
    "val = 3.17\n",
    "print(fast_sine(val) ,\"vs\", np.sin(val))"
   ]
  },
  {
   "cell_type": "code",
   "execution_count": 22,
   "metadata": {},
   "outputs": [
    {
     "data": {
      "text/plain": [
       "0.017453292500000002"
      ]
     },
     "execution_count": 22,
     "metadata": {},
     "output_type": "execute_result"
    }
   ],
   "source": [
    "fast_sineDeg(1)"
   ]
  },
  {
   "cell_type": "markdown",
   "metadata": {},
   "source": [
    "# 3. Cosine"
   ]
  },
  {
   "cell_type": "code",
   "execution_count": 23,
   "metadata": {},
   "outputs": [],
   "source": [
    "def fast_cosine(x):\n",
    "    pi = 3.14159265\n",
    "    pi_2 = pi / 2\n",
    "    pi2 = pi*pi\n",
    "    ax = abs(x)\n",
    "    sign = 1 if x >= 0 else -1\n",
    "    if ax < 0.05:\n",
    "        return 1\n",
    "    elif ax > pi_2:\n",
    "        _x = ax / pi_2\n",
    "        _ix = int(_x)\n",
    "        _mx = _ix % 4\n",
    "        ax = (_x - _ix) * pi_2\n",
    "        sign = 1\n",
    "        if _mx == 1:\n",
    "            ax = pi_2 - ax\n",
    "            sign = -1\n",
    "        elif _mx == 2:\n",
    "            sign = -1\n",
    "        elif _mx == 3:\n",
    "            ax = pi_2 - ax\n",
    "        print(_x, _ix, _mx, ax, _x - _ix)\n",
    "    ax2 = ax * ax\n",
    "    return sign * (pi2 - 4 * ax2)/(pi2 + ax2)\n",
    "    "
   ]
  },
  {
   "cell_type": "code",
   "execution_count": 24,
   "metadata": {},
   "outputs": [
    {
     "name": "stdout",
     "output_type": "stream",
     "text": [
      "4.456338411665178 4 0 0.7168146999999989 0.4563384116651781\n",
      "0.7525752914431102 vs 0.7539022543433046 vs 0.7528670014882921 vs 0.7525752966917004\n"
     ]
    }
   ],
   "source": [
    "x = 7\n",
    "print(fast_cosine(x), \"vs\", np.cos(x), \"vs\", fast_cos(x), \"vs\", fast_sine(np.pi/2 - x))"
   ]
  },
  {
   "cell_type": "markdown",
   "metadata": {},
   "source": [
    "# 4. tangent"
   ]
  },
  {
   "cell_type": "code",
   "execution_count": 81,
   "metadata": {},
   "outputs": [
    {
     "data": {
      "text/plain": [
       "1.5707963267948966"
      ]
     },
     "execution_count": 81,
     "metadata": {},
     "output_type": "execute_result"
    }
   ],
   "source": [
    "np.pi/2 + np."
   ]
  },
  {
   "cell_type": "code",
   "execution_count": 344,
   "metadata": {},
   "outputs": [
    {
     "data": {
      "text/plain": [
       "0.017453292519943295"
      ]
     },
     "execution_count": 344,
     "metadata": {},
     "output_type": "execute_result"
    }
   ],
   "source": [
    "np.pi/180"
   ]
  },
  {
   "cell_type": "code",
   "execution_count": 343,
   "metadata": {},
   "outputs": [
    {
     "data": {
      "text/plain": [
       "1.633123935319537e+16"
      ]
     },
     "execution_count": 343,
     "metadata": {},
     "output_type": "execute_result"
    }
   ],
   "source": [
    "np.tan(np.pi/2)"
   ]
  },
  {
   "cell_type": "code",
   "execution_count": 342,
   "metadata": {
    "scrolled": true
   },
   "outputs": [
    {
     "name": "stdout",
     "output_type": "stream",
     "text": [
      "-683269140.7366476\n",
      "[ 1.31459622e+09 -8.43091199e+08  1.80234693e+08]\n",
      "MAX err idx 4162 value 0.003443512198984422 rad 1.562873274654931\n",
      "[-12357160.34550536]  vs  [[2.23449695]]\n"
     ]
    }
   ],
   "source": [
    "lsize = 5000 # 0.05 1.275 1.41 1.476, 1.5125 1.5325 1.54475 1.5525 1.5575 1.561 1.56325\n",
    "xl = np.linspace(1.56325,lsize) \n",
    "gtxl = np.tan(xl)\n",
    "Xl = cubic(xl)\n",
    "modell = LinearRegression()\n",
    "modell.fit(Xl, gtxl)\n",
    "print(modell.intercept_)\n",
    "print(modell.coef_)\n",
    "pred = modell.predict(Xl)\n",
    "res = (pred - gtxl)\n",
    "idx = np.argmax(res)\n",
    "print(\"MAX err\", \"idx\", idx, \"value\", res[idx], \"rad\", Xl[idx,0])\n",
    "val = np.array([[1.15]])\n",
    "predict = cubic(val)\n",
    "print(modell.predict(predict), \" vs \", np.tan(val))"
   ]
  },
  {
   "cell_type": "code",
   "execution_count": 312,
   "metadata": {},
   "outputs": [
    {
     "name": "stdout",
     "output_type": "stream",
     "text": [
      "MAX err idx 4190 value 0.00378806860090819 rad 1.464480896179236\n",
      "[-66.61758651]  vs  [[2.23449695]]\n"
     ]
    }
   ],
   "source": [
    "pred = modell.predict(Xl)\n",
    "res = (pred - gtxl)\n",
    "idx = np.argmax(res)\n",
    "print(\"MAX err\", \"idx\", idx, \"value\", res[idx], \"rad\", Xl[idx,0])\n",
    "val = np.array([[1.15]])\n",
    "predict = cubic(val)\n",
    "print(modell.predict(predict), \" vs \", np.tan(val))"
   ]
  },
  {
   "cell_type": "code",
   "execution_count": 170,
   "metadata": {},
   "outputs": [],
   "source": [
    "def _cubic(ax, b, a0, a1, a2):\n",
    "    return ((b) + (ax) * ((a0) + (ax) * ((a1) + (ax) * (a2)))) \n",
    "\n",
    "def __quad(ax, b, a0, a1):\n",
    "    return ((b) + (ax) * ((a0) + (ax) * (a1)))\n",
    "\n",
    "def lerp(a, b, x):\n",
    "    return a * x + b;   \n",
    "\n",
    "def fast_tan(x):\n",
    "    # /* https://mae.ufl.edu/~uhk/ACCURATE-TANGENT.pdf */\n",
    "    t0 = [# // 0.05 to 0.8\n",
    "        -0.005306908868911164,\n",
    "        1.07958615,\n",
    "        -0.31961611,\n",
    "        0.72791356\n",
    "    ]\n",
    "    t1 = [\n",
    "        -6.798523672037293,\n",
    "        24.20035856,\n",
    "        -26.75328616,\n",
    "        10.9062448\n",
    "    ]\n",
    "    t2 = [\n",
    "        -288.476741666932,\n",
    "        715.84338056,\n",
    "        -593.63206871,\n",
    "        166.00749918\n",
    "    ]\n",
    "    t3 = [\n",
    "        -4043.7026279735396,\n",
    "        8896.89927632,\n",
    "        -6536.19587117,\n",
    "        1605.2422637\n",
    "    ]\n",
    "    t4 = [\n",
    "        1513.2746348922383,\n",
    "        -2142.93149953,\n",
    "        762.05357123\n",
    "    ]\n",
    "    t5 = [\n",
    "       8.23809275e+00, 8.32297410e+00, 8.40959713e+00, 8.49801630e+00,\n",
    "       8.58828831e+00, 8.68047230e+00, 8.77462995e+00, 8.87082562e+00,\n",
    "       8.96912650e+00, 9.06960275e+00, 9.17232772e+00, 9.27737805e+00,\n",
    "       9.38483395e+00, 9.49477931e+00, 9.60730201e+00, 9.72249410e+00,\n",
    "       9.84045207e+00, 9.96127709e+00, 1.00850754e+01, 1.02119584e+01,\n",
    "       1.03420433e+01, 1.04754533e+01, 1.06123178e+01, 1.07527733e+01,\n",
    "       1.08969634e+01, 1.10450395e+01, 1.11971613e+01, 1.13534974e+01,\n",
    "       1.15142258e+01, 1.16795348e+01, 1.18496236e+01, 1.20247029e+01,\n",
    "       1.22049964e+01, 1.23907409e+01, 1.25821881e+01, 1.27796052e+01,\n",
    "       1.29832767e+01, 1.31935050e+01, 1.34106127e+01, 1.36349437e+01,\n",
    "       1.38668654e+01, 1.41067703e+01, 1.43550786e+01, 1.46122405e+01,\n",
    "       1.48787389e+01, 1.51550926e+01, 1.54418593e+01, 1.57396399e+01,\n",
    "       1.60490821e+01, 1.63708858e+01, 1.67058076e+01, 1.70546676e+01,\n",
    "       1.74183553e+01, 1.77978378e+01, 1.81941682e+01, 1.86084950e+01,\n",
    "       1.90420739e+01, 1.94962800e+01, 1.99726227e+01, 2.04727622e+01,\n",
    "       2.09985289e+01, 2.15519462e+01, 2.21352559e+01, 2.27509490e+01,\n",
    "       2.34018014e+01, 2.40909153e+01, 2.48217690e+01, 2.55982756e+01,\n",
    "       2.64248532e+01, 2.73065087e+01, 2.82489401e+01, 2.92586589e+01,\n",
    "       3.03431416e+01, 3.15110147e+01, 3.27722851e+01, 3.41386275e+01,\n",
    "       3.56237468e+01, 3.72438401e+01, 3.90181892e+01, 4.09699325e+01,\n",
    "       4.31270796e+01, 4.55238646e+01, 4.82025764e+01, 5.12160763e+01,\n",
    "       5.46313220e+01, 5.85344018e+01, 6.30378929e+01, 6.82918980e+01,\n",
    "       7.45011028e+01, 8.19520672e+01, 9.10587111e+01, 1.02441914e+02,\n",
    "       1.17077345e+02, 1.36591117e+02, 1.63910235e+02, 2.04888709e+02,\n",
    "       2.73185895e+02, 4.09779859e+02, 8.19560938e+02, 1.63312394e+16\n",
    "    ]\n",
    "    tan0_th = 0.8;\n",
    "    tan1_th = 1.2;\n",
    "    tan2_th = 1.37;\n",
    "    tan3_th = 1.45;\n",
    "    tan4_th = 1.472;\n",
    "\n",
    "    signX = -1 if x < 0 else 1;\n",
    "    ax = abs(x);\n",
    "\n",
    "    if (ax < 0.05):\n",
    "        return x;\n",
    "    if (ax > np.pi/2):\n",
    "        _x = ax / np.pi/2\n",
    "        _ix = int(_x);\n",
    "        _quad = _ix % 2;\n",
    "        if (_quad == 1):\n",
    "            ax = np.pi/2 - ax;\n",
    "            signX = -1;\n",
    "        else:\n",
    "            signX = 1;\n",
    "        ax = (_x - _ix) * np.pi/2;\n",
    "    if (ax < tan0_th):\n",
    "        return signX * _cubic(ax, t0[0], t0[1], t0[2], t0[3]);\n",
    "    elif (ax < tan1_th):\n",
    "        return signX * _cubic(ax, t1[0], t1[1], t1[2], t1[3]);\n",
    "    elif (ax < tan2_th):\n",
    "        return signX * _cubic(ax, t2[0], t2[1], t2[2], t2[3]);\n",
    "    elif (ax < tan3_th):\n",
    "        return signX * _cubic(ax, t3[0], t3[1], t3[2], t3[3]);\n",
    "    elif (ax < tan4_th):\n",
    "        return signX * __quad(ax, t4[0], t4[1], t4[2]);\n",
    "    else:\n",
    "        # 1.471 to 1.571\n",
    "        ax_up = ax * 1000;\n",
    "        iax_up = int(ax_up);\n",
    "        idx = iax_up - 1472;\n",
    "        r = ax_up - float(iax_up);\n",
    "        return signX * lerp(t5[idx], t5[idx+1], r);\n",
    "\n"
   ]
  },
  {
   "cell_type": "code",
   "execution_count": 172,
   "metadata": {},
   "outputs": [],
   "source": [
    "lsize = 200\n",
    "xl = np.linspace(-np.pi/2+0.06,np.pi/2-0.06,lsize)\n",
    "np.tan(xl)\n",
    "a = [fast_tan(i) for i in xl]"
   ]
  },
  {
   "cell_type": "code",
   "execution_count": 173,
   "metadata": {},
   "outputs": [
    {
     "data": {
      "image/png": "[encoded data removed]",
      "text/plain": [
       "<Figure size 432x288 with 1 Axes>"
      ]
     },
     "metadata": {
      "needs_background": "light"
     },
     "output_type": "display_data"
    }
   ],
   "source": [
    "import matplotlib.pyplot as plt\n",
    "plt.plot(xl,a)\n",
    "plt.show()"
   ]
  },
  {
   "cell_type": "code",
   "execution_count": 137,
   "metadata": {},
   "outputs": [
    {
     "data": {
      "text/plain": [
       "array([ 1.22464680e-16,  3.15842917e-02,  6.32316613e-02,  9.50056915e-02,\n",
       "        1.26970983e-01,  1.59193688e-01,  1.91742062e-01,  2.24687067e-01,\n",
       "        2.58103008e-01,  2.92068240e-01,  3.26665950e-01,  3.61985027e-01,\n",
       "        3.98121053e-01,  4.35177427e-01,  4.73266660e-01,  5.12511873e-01,\n",
       "        5.53048541e-01,  5.95026546e-01,  6.38612599e-01,  6.83993118e-01,\n",
       "        7.31377682e-01,  7.81003184e-01,  8.33138872e-01,  8.88092520e-01,\n",
       "        9.46218013e-01,  1.00792477e+00,  1.07368952e+00,  1.14407124e+00,\n",
       "        1.21973009e+00,  1.30145192e+00,  1.39018018e+00,  1.48705800e+00,\n",
       "        1.59348455e+00,  1.71119154e+00,  1.84234884e+00,  1.98971311e+00,\n",
       "        2.15684125e+00,  2.34840424e+00,  2.57066139e+00,  2.83219906e+00,\n",
       "        3.14512415e+00,  3.52707588e+00,  4.00479512e+00,  4.62086641e+00,\n",
       "        5.44749515e+00,  6.61768749e+00,  8.40631813e+00,  1.14880732e+01,\n",
       "        1.80797689e+01,  4.22212178e+01, -1.26684704e+02, -2.53243098e+01,\n",
       "       -1.40526822e+01, -9.71095061e+00, -7.40741283e+00, -5.97737460e+00,\n",
       "       -5.00154324e+00, -4.29195755e+00, -3.75178689e+00, -3.32607135e+00,\n",
       "       -2.98129701e+00, -2.69586433e+00, -2.45522507e+00, -2.24922143e+00,\n",
       "       -2.07054545e+00, -1.91380463e+00, -1.77493248e+00, -1.65080413e+00,\n",
       "       -1.53897831e+00, -1.43751972e+00, -1.34487406e+00, -1.25977830e+00,\n",
       "       -1.18119519e+00, -1.10826463e+00, -1.04026709e+00, -9.76595671e-01,\n",
       "       -9.16734624e-01, -8.60242515e-01, -8.06739003e-01, -7.55894312e-01,\n",
       "       -7.07420783e-01, -6.61066039e-01, -6.16607415e-01, -5.73847383e-01,\n",
       "       -5.32609772e-01, -4.92736614e-01, -4.54085509e-01, -4.16527394e-01,\n",
       "       -3.79944656e-01, -3.44229513e-01, -3.09282625e-01, -2.75011887e-01,\n",
       "       -2.41331377e-01, -2.08160428e-01, -1.75422802e-01, -1.43045949e-01,\n",
       "       -1.10960338e-01, -7.90988362e-02, -4.73961356e-02, -1.57882094e-02,\n",
       "        1.57882094e-02,  4.73961356e-02,  7.90988362e-02,  1.10960338e-01,\n",
       "        1.43045949e-01,  1.75422802e-01,  2.08160428e-01,  2.41331377e-01,\n",
       "        2.75011887e-01,  3.09282625e-01,  3.44229513e-01,  3.79944656e-01,\n",
       "        4.16527394e-01,  4.54085509e-01,  4.92736614e-01,  5.32609772e-01,\n",
       "        5.73847383e-01,  6.16607415e-01,  6.61066039e-01,  7.07420783e-01,\n",
       "        7.55894312e-01,  8.06739003e-01,  8.60242515e-01,  9.16734624e-01,\n",
       "        9.76595671e-01,  1.04026709e+00,  1.10826463e+00,  1.18119519e+00,\n",
       "        1.25977830e+00,  1.34487406e+00,  1.43751972e+00,  1.53897831e+00,\n",
       "        1.65080413e+00,  1.77493248e+00,  1.91380463e+00,  2.07054545e+00,\n",
       "        2.24922143e+00,  2.45522507e+00,  2.69586433e+00,  2.98129701e+00,\n",
       "        3.32607135e+00,  3.75178689e+00,  4.29195755e+00,  5.00154324e+00,\n",
       "        5.97737460e+00,  7.40741283e+00,  9.71095061e+00,  1.40526822e+01,\n",
       "        2.53243098e+01,  1.26684704e+02, -4.22212178e+01, -1.80797689e+01,\n",
       "       -1.14880732e+01, -8.40631813e+00, -6.61768749e+00, -5.44749515e+00,\n",
       "       -4.62086641e+00, -4.00479512e+00, -3.52707588e+00, -3.14512415e+00,\n",
       "       -2.83219906e+00, -2.57066139e+00, -2.34840424e+00, -2.15684125e+00,\n",
       "       -1.98971311e+00, -1.84234884e+00, -1.71119154e+00, -1.59348455e+00,\n",
       "       -1.48705800e+00, -1.39018018e+00, -1.30145192e+00, -1.21973009e+00,\n",
       "       -1.14407124e+00, -1.07368952e+00, -1.00792477e+00, -9.46218013e-01,\n",
       "       -8.88092520e-01, -8.33138872e-01, -7.81003184e-01, -7.31377682e-01,\n",
       "       -6.83993118e-01, -6.38612599e-01, -5.95026546e-01, -5.53048541e-01,\n",
       "       -5.12511873e-01, -4.73266660e-01, -4.35177427e-01, -3.98121053e-01,\n",
       "       -3.61985027e-01, -3.26665950e-01, -2.92068240e-01, -2.58103008e-01,\n",
       "       -2.24687067e-01, -1.91742062e-01, -1.59193688e-01, -1.26970983e-01,\n",
       "       -9.50056915e-02, -6.32316613e-02, -3.15842917e-02, -1.22464680e-16])"
      ]
     },
     "execution_count": 137,
     "metadata": {},
     "output_type": "execute_result"
    }
   ],
   "source": [
    "lsize = 200\n",
    "xl = np.linspace(-np.pi,np.pi,lsize)\n",
    "np.tan(xl)"
   ]
  },
  {
   "cell_type": "code",
   "execution_count": 28,
   "metadata": {},
   "outputs": [
    {
     "ename": "NameError",
     "evalue": "name 'pi_2' is not defined",
     "output_type": "error",
     "traceback": [
      "\u001b[1;31m---------------------------------------------------------------------------\u001b[0m",
      "\u001b[1;31mNameError\u001b[0m                                 Traceback (most recent call last)",
      "\u001b[1;32m<ipython-input-28-11398bba54e0>\u001b[0m in \u001b[0;36m<module>\u001b[1;34m\u001b[0m\n\u001b[0;32m      1\u001b[0m \u001b[0mx\u001b[0m \u001b[1;33m=\u001b[0m \u001b[1;36m45\u001b[0m\u001b[1;33m\u001b[0m\u001b[1;33m\u001b[0m\u001b[0m\n\u001b[1;32m----> 2\u001b[1;33m \u001b[0mprint\u001b[0m\u001b[1;33m(\u001b[0m\u001b[0mfast_tan\u001b[0m\u001b[1;33m(\u001b[0m\u001b[0mx\u001b[0m\u001b[1;33m)\u001b[0m\u001b[1;33m,\u001b[0m \u001b[1;34m\"vs\"\u001b[0m\u001b[1;33m,\u001b[0m \u001b[0mnp\u001b[0m\u001b[1;33m.\u001b[0m\u001b[0mtan\u001b[0m\u001b[1;33m(\u001b[0m\u001b[0mx\u001b[0m\u001b[1;33m)\u001b[0m\u001b[1;33m)\u001b[0m\u001b[1;33m\u001b[0m\u001b[1;33m\u001b[0m\u001b[0m\n\u001b[0m",
      "\u001b[1;32m<ipython-input-27-a3c0d9b776be>\u001b[0m in \u001b[0;36mfast_tan\u001b[1;34m(x)\u001b[0m\n\u001b[0;32m     10\u001b[0m         \u001b[1;32mreturn\u001b[0m \u001b[0mx\u001b[0m\u001b[1;33m\u001b[0m\u001b[1;33m\u001b[0m\u001b[0m\n\u001b[0;32m     11\u001b[0m     \u001b[1;32mif\u001b[0m \u001b[0max\u001b[0m \u001b[1;33m>\u001b[0m \u001b[1;36m1\u001b[0m\u001b[1;33m:\u001b[0m\u001b[1;33m\u001b[0m\u001b[1;33m\u001b[0m\u001b[0m\n\u001b[1;32m---> 12\u001b[1;33m         \u001b[0m_x\u001b[0m \u001b[1;33m=\u001b[0m \u001b[0max\u001b[0m \u001b[1;33m/\u001b[0m \u001b[0mpi_2\u001b[0m\u001b[1;33m\u001b[0m\u001b[1;33m\u001b[0m\u001b[0m\n\u001b[0m\u001b[0;32m     13\u001b[0m         \u001b[0m_ix\u001b[0m \u001b[1;33m=\u001b[0m \u001b[0mint\u001b[0m\u001b[1;33m(\u001b[0m\u001b[0m_x\u001b[0m\u001b[1;33m)\u001b[0m\u001b[1;33m\u001b[0m\u001b[1;33m\u001b[0m\u001b[0m\n\u001b[0;32m     14\u001b[0m         \u001b[0m_mx\u001b[0m \u001b[1;33m=\u001b[0m \u001b[0m_ix\u001b[0m \u001b[1;33m%\u001b[0m \u001b[1;36m2\u001b[0m\u001b[1;33m\u001b[0m\u001b[1;33m\u001b[0m\u001b[0m\n",
      "\u001b[1;31mNameError\u001b[0m: name 'pi_2' is not defined"
     ]
    }
   ],
   "source": [
    "x = 45\n",
    "print(fast_tan(x), \"vs\", np.tan(x))"
   ]
  },
  {
   "cell_type": "markdown",
   "metadata": {},
   "source": [
    "# 5. Arcsine"
   ]
  },
  {
   "cell_type": "code",
   "execution_count": null,
   "metadata": {},
   "outputs": [],
   "source": []
  },
  {
   "cell_type": "markdown",
   "metadata": {},
   "source": [
    "# 6. Arcosine\n"
   ]
  },
  {
   "cell_type": "code",
   "execution_count": 3,
   "metadata": {},
   "outputs": [],
   "source": [
    "import numpy as np\n",
    "import matplotlib.pylab as plt"
   ]
  },
  {
   "cell_type": "code",
   "execution_count": 13,
   "metadata": {},
   "outputs": [
    {
     "name": "stderr",
     "output_type": "stream",
     "text": [
      "C:\\Users\\takchoi\\Anaconda3\\envs\\py36\\lib\\site-packages\\ipykernel_launcher.py:2: DeprecationWarning: The binary mode of fromstring is deprecated, as it behaves surprisingly on unicode inputs. Use frombuffer instead\n",
      "  \n"
     ]
    }
   ],
   "source": [
    "dat  = open(\"diff.bin\", \"rb\").read()\n",
    "dat = np.fromstring(dat, np.float32)\n",
    "dat = dat.reshape(-1,4).T"
   ]
  },
  {
   "cell_type": "code",
   "execution_count": 14,
   "metadata": {},
   "outputs": [
    {
     "name": "stderr",
     "output_type": "stream",
     "text": [
      "C:\\Users\\takchoi\\Anaconda3\\envs\\py36\\lib\\site-packages\\ipykernel_launcher.py:1: RuntimeWarning: divide by zero encountered in log2\n",
      "  \"\"\"Entry point for launching an IPython kernel.\n"
     ]
    }
   ],
   "source": [
    "logdiff = np.log2(dat)"
   ]
  },
  {
   "cell_type": "code",
   "execution_count": 16,
   "metadata": {},
   "outputs": [],
   "source": [
    "xaxis = np.arange(4000) * 3.14 / 1000 - 3.14 * 2"
   ]
  },
  {
   "cell_type": "code",
   "execution_count": 80,
   "metadata": {},
   "outputs": [
    {
     "ename": "NameError",
     "evalue": "name 'plt' is not defined",
     "output_type": "error",
     "traceback": [
      "\u001b[1;31m---------------------------------------------------------------------------\u001b[0m",
      "\u001b[1;31mNameError\u001b[0m                                 Traceback (most recent call last)",
      "\u001b[1;32m<ipython-input-80-af346d5569f6>\u001b[0m in \u001b[0;36m<module>\u001b[1;34m\u001b[0m\n\u001b[1;32m----> 1\u001b[1;33m \u001b[0mfig\u001b[0m \u001b[1;33m=\u001b[0m \u001b[0mplt\u001b[0m\u001b[1;33m.\u001b[0m\u001b[0mfigure\u001b[0m\u001b[1;33m(\u001b[0m\u001b[1;33m)\u001b[0m\u001b[1;33m\u001b[0m\u001b[1;33m\u001b[0m\u001b[0m\n\u001b[0m\u001b[0;32m      2\u001b[0m \u001b[0max\u001b[0m \u001b[1;33m=\u001b[0m \u001b[1;33m[\u001b[0m\u001b[1;36m0\u001b[0m\u001b[1;33m,\u001b[0m\u001b[1;36m0\u001b[0m\u001b[1;33m,\u001b[0m\u001b[1;36m0\u001b[0m\u001b[1;33m,\u001b[0m\u001b[1;36m0\u001b[0m\u001b[1;33m]\u001b[0m\u001b[1;33m\u001b[0m\u001b[1;33m\u001b[0m\u001b[0m\n\u001b[0;32m      3\u001b[0m \u001b[0mname\u001b[0m \u001b[1;33m=\u001b[0m \u001b[1;33m[\u001b[0m\u001b[1;34m\"atan\"\u001b[0m\u001b[1;33m,\u001b[0m \u001b[1;34m\"sin\"\u001b[0m\u001b[1;33m,\u001b[0m \u001b[1;34m\"cos\"\u001b[0m\u001b[1;33m,\u001b[0m \u001b[1;34m\"tan\"\u001b[0m\u001b[1;33m]\u001b[0m\u001b[1;33m\u001b[0m\u001b[1;33m\u001b[0m\u001b[0m\n\u001b[0;32m      4\u001b[0m \u001b[1;32mfor\u001b[0m \u001b[0mi\u001b[0m \u001b[1;32min\u001b[0m \u001b[0mrange\u001b[0m\u001b[1;33m(\u001b[0m\u001b[1;36m4\u001b[0m\u001b[1;33m)\u001b[0m\u001b[1;33m:\u001b[0m\u001b[1;33m\u001b[0m\u001b[1;33m\u001b[0m\u001b[0m\n\u001b[0;32m      5\u001b[0m     \u001b[0max\u001b[0m\u001b[1;33m[\u001b[0m\u001b[0mi\u001b[0m\u001b[1;33m]\u001b[0m\u001b[1;33m=\u001b[0m \u001b[0mfig\u001b[0m\u001b[1;33m.\u001b[0m\u001b[0madd_subplot\u001b[0m\u001b[1;33m(\u001b[0m\u001b[1;36m4\u001b[0m\u001b[1;33m,\u001b[0m\u001b[1;36m1\u001b[0m\u001b[1;33m,\u001b[0m\u001b[0mi\u001b[0m\u001b[1;33m+\u001b[0m\u001b[1;36m1\u001b[0m\u001b[1;33m)\u001b[0m\u001b[1;33m\u001b[0m\u001b[1;33m\u001b[0m\u001b[0m\n",
      "\u001b[1;31mNameError\u001b[0m: name 'plt' is not defined"
     ]
    }
   ],
   "source": [
    "fig = plt.figure()\n",
    "ax = [0,0,0,0]\n",
    "name = [\"atan\", \"sin\", \"cos\", \"tan\"]\n",
    "for i in range(4):\n",
    "    ax[i]= fig.add_subplot(4,1,i+1)\n",
    "    ax[i].plot(xaxis, dat[i])\n",
    "    ax[i].set_ylabel(name[i])\n",
    "ax[3].set_xlabel('angle(radian)')"
   ]
  },
  {
   "cell_type": "code",
   "execution_count": null,
   "metadata": {},
   "outputs": [],
   "source": [
    "RR = 3\n",
    "_size = 100000\n",
    "Verbose = 1\n",
    "_model = None\n",
    "_err = 9999\n",
    "sets = [[0.1,np.pi/2],[np.pi/2,np.pi],[np.pi,5]]\n",
    "\n",
    "for i in range(RR):\n",
    "    x, gt = genData(_size, sets[i][0], sets[i][1], np.arctan)\n",
    "    X, model = fitModel(x, cubic, gt)\n",
    "    res = calcCost(model, X, gt, cubic, Verbose, i)\n",
    "    if res < _err:\n",
    "        _err = res\n",
    "        _model = model\n",
    "        print(i, res, model.intercept_, model.coef_)\n"
   ]
  }
 ],
 "metadata": {
  "kernelspec": {
   "display_name": "Python 3",
   "language": "python",
   "name": "python3"
  },
  "language_info": {
   "codemirror_mode": {
    "name": "ipython",
    "version": 3
   },
   "file_extension": ".py",
   "mimetype": "text/x-python",
   "name": "python",
   "nbconvert_exporter": "python",
   "pygments_lexer": "ipython3",
   "version": "3.6.8"
  }
 },
 "nbformat": 4,
 "nbformat_minor": 2
}
