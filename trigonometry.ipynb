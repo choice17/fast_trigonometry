{
 "cells": [
  {
   "cell_type": "code",
   "execution_count": 1,
   "metadata": {},
   "outputs": [],
   "source": [
    "# fast trigonometry"
   ]
  },
  {
   "cell_type": "markdown",
   "metadata": {},
   "source": [
    "# 1. Arctan"
   ]
  },
  {
   "cell_type": "code",
   "execution_count": 1,
   "metadata": {},
   "outputs": [],
   "source": [
    "import numpy as np"
   ]
  },
  {
   "cell_type": "code",
   "execution_count": 2,
   "metadata": {},
   "outputs": [],
   "source": [
    "def quart(x):\n",
    "    m = x.shape[0]\n",
    "    X = np.empty((m, 4))\n",
    "    X[:,0] = x ; X[:,1] = x * x; X[:,2] = x * x * x ; X[:,3] = X[:,1] * X[:,1]\n",
    "    return X\n",
    "\n",
    "def cubic(x):\n",
    "    m = x.shape[0]\n",
    "    X = np.empty((m, 3))\n",
    "    X[:,0] = x ; X[:,1] = x * x; X[:,2] = x * x * x\n",
    "    return X\n",
    "\n",
    "def quad(x):\n",
    "    m = x.shape[0]\n",
    "    X = np.empty((m, 2))\n",
    "    X[:,0] = x ; X[:,1] = x * x;\n",
    "    return X\n",
    "\n",
    "def linear(x):\n",
    "    X = np.expand_dims(x,1)\n",
    "    return X"
   ]
  },
  {
   "cell_type": "code",
   "execution_count": null,
   "metadata": {},
   "outputs": [],
   "source": []
  },
  {
   "cell_type": "code",
   "execution_count": 74,
   "metadata": {},
   "outputs": [],
   "source": [
    "from sklearn.linear_model import LinearRegression\n",
    "# 1. a + bx + cx^2 + dx^3a\n",
    "met = cubic\n",
    "def genDataAtan(_size, low, high):\n",
    "    #x = np.clip(np.abs(np.random.randn(_size)) * (1) + 0.5,0, 1).astype(np.float32)\n",
    "    x = np.linspace(low,high,_size)\n",
    "    gt = np.arctan(x)\n",
    "    return x, gt\n",
    "_size = 1000000\n",
    "low = 0.1\n",
    "high = np.pi/2\n",
    "x, gt = genDataAtan(_size, low, high)"
   ]
  },
  {
   "cell_type": "code",
   "execution_count": 75,
   "metadata": {
    "scrolled": true
   },
   "outputs": [
    {
     "name": "stdout",
     "output_type": "stream",
     "text": [
      "[ 1.13808047 -0.38254388  0.0446384 ]\n",
      "-0.014960234466837141\n"
     ]
    }
   ],
   "source": [
    "def fitModel(x, met, gt, v=0):\n",
    "    X = met(x)\n",
    "    model = LinearRegression()\n",
    "    model.fit(X, gt)\n",
    "    if v: print(model.coef_)\n",
    "    if v: print(model.intercept_)\n",
    "    return X, model\n",
    "X, model = fitModel(x, met, gt, v = 1)"
   ]
  },
  {
   "cell_type": "code",
   "execution_count": 76,
   "metadata": {},
   "outputs": [
    {
     "name": "stdout",
     "output_type": "stream",
     "text": [
      "0 MAX err idx 148929 diff 0.0018128578175696797 rad 0.3190444451976824 Mean 5.538324021614471e-15\n"
     ]
    }
   ],
   "source": [
    "def calcCost(model, X, gt, met, v, i):\n",
    "    pred = model.predict(X)\n",
    "    res = (pred - gt)\n",
    "    idx = np.argmax(res)\n",
    "    if v: print(i, \"MAX err\", \"idx\", idx, \"diff\", res[idx], \"rad\", X[idx,0], \"Mean\", np.mean(res))\n",
    "    predict = cubic(np.array([[2]]))\n",
    "    #if v: print(model.predict(predict), \" vs \", np.arctan(predict))\n",
    "    return res[idx]\n",
    "res = calcCost(model, X, gt, met, 1, 0)"
   ]
  },
  {
   "cell_type": "code",
   "execution_count": 79,
   "metadata": {},
   "outputs": [
    {
     "name": "stdout",
     "output_type": "stream",
     "text": [
      "0 0.0018129325726796708 -0.014959792240434089 [ 1.13807883 -0.38254219  0.04463789]\n",
      "1 0.0006059992927240909 0.23010930099207316 [ 0.75442543 -0.19739737  0.0197099 ]\n",
      "2 0.0001347486387843766 0.6598880057410685 [ 0.32430175 -0.05199834  0.00313656]\n"
     ]
    }
   ],
   "source": [
    "RR = 3\n",
    "_size = 100000\n",
    "Verbose = 0\n",
    "_model = None\n",
    "_err = 9999\n",
    "sets = [[0.1,np.pi/2],[np.pi/2,np.pi],[np.pi,5]]\n",
    "for i in range(RR):\n",
    "    x, gt = genDataAtan(_size, sets[i][0], sets[i][1])\n",
    "    X, model = fitModel(x, cubic, gt)\n",
    "    res = calcCost(model, X, gt, cubic, Verbose, i)\n",
    "    if res < _err:\n",
    "        _err = res\n",
    "        _model = model\n",
    "        print(i, res, model.intercept_, model.coef_)\n"
   ]
  },
  {
   "cell_type": "code",
   "execution_count": 29,
   "metadata": {},
   "outputs": [],
   "source": [
    "lsize = 5000\n",
    "xl = np.linspace(5,500,lsize)\n",
    "gtxl = np.arctan(xl)"
   ]
  },
  {
   "cell_type": "code",
   "execution_count": 30,
   "metadata": {},
   "outputs": [
    {
     "name": "stdout",
     "output_type": "stream",
     "text": [
      "[ 7.65325825e-04 -2.76103373e-06  3.04822121e-09]\n",
      "1.50443794904616\n"
     ]
    }
   ],
   "source": [
    "Xl = cubic(xl) #quad(xl)\n",
    "modell = LinearRegression()\n",
    "modell.fit(Xl, gtxl)\n",
    "print(modell.coef_)\n",
    "print(modell.intercept_)"
   ]
  },
  {
   "cell_type": "code",
   "execution_count": 23,
   "metadata": {},
   "outputs": [
    {
     "name": "stdout",
     "output_type": "stream",
     "text": [
      "MAX err idx 0 value 0.13479516641067524 rad 5.0\n",
      "[1.50819593]  vs  [[1.37340077 1.53081764 1.5627965 ]]\n"
     ]
    }
   ],
   "source": [
    "pred = modell.predict(Xl)\n",
    "res = (pred - gtxl)\n",
    "idx = np.argmax(res)\n",
    "print(\"MAX err\", \"idx\", idx, \"value\", res[idx], \"rad\", Xl[idx,0])\n",
    "predict = cubic(np.array([[5]]))\n",
    "print(modell.predict(predict), \" vs \", np.arctan(predict))"
   ]
  },
  {
   "cell_type": "code",
   "execution_count": 44,
   "metadata": {},
   "outputs": [
    {
     "name": "stdout",
     "output_type": "stream",
     "text": [
      "1.4056476493802699\n",
      "1.4041296601282298\n"
     ]
    }
   ],
   "source": [
    "val = 6\n",
    "print(np.arctan(val))\n",
    "print(np.pi / 2 - 1 / val)"
   ]
  },
  {
   "cell_type": "code",
   "execution_count": 85,
   "metadata": {},
   "outputs": [],
   "source": [
    "def fast_arctan(x):\n",
    "    a0 = 1.10382257\n",
    "    a1 = -0.36105955\n",
    "    a2 = 0.04400221\n",
    "    b = -0.00492334997743038\n",
    "    sign = 1 if x >= 0 else -1\n",
    "    if (abs(x) > np.pi):\n",
    "        # https://math.stackexchange.com/questions/982838/asymptotic-approximation-of-the-arctangent/982859\n",
    "        return (sign*(np.pi / 2) - 1/x)\n",
    "    elif abs(x) < 5e-2:\n",
    "        # for small x\n",
    "        return x\n",
    "    else:\n",
    "        # by regression\n",
    "        ax = abs(x)\n",
    "        return sign * (b + ax * (a0 + ax * (a1 + a2 * ax)))\n",
    "        #x2 = ax * ax\n",
    "        #x3 = x2 * ax\n",
    "        #return sign * (b + a0 * ax + a1 * x2 + a2 * x3)"
   ]
  },
  {
   "cell_type": "code",
   "execution_count": 85,
   "metadata": {},
   "outputs": [
    {
     "name": "stdout",
     "output_type": "stream",
     "text": [
      "-0.04898039418715918 vs -0.049\n"
     ]
    }
   ],
   "source": [
    "val = -0.049\n",
    "print(np.sin(val), \"vs\", fast_arctan(val))"
   ]
  },
  {
   "cell_type": "code",
   "execution_count": 86,
   "metadata": {},
   "outputs": [
    {
     "data": {
      "text/plain": [
       "3.141592653589793"
      ]
     },
     "execution_count": 86,
     "metadata": {},
     "output_type": "execute_result"
    }
   ],
   "source": [
    "np.pi"
   ]
  },
  {
   "cell_type": "markdown",
   "metadata": {},
   "source": [
    "# 2. Sine"
   ]
  },
  {
   "cell_type": "code",
   "execution_count": 184,
   "metadata": {},
   "outputs": [
    {
     "name": "stdout",
     "output_type": "stream",
     "text": [
      "[ 0.0385896  -0.61311836  0.11737913]\n",
      "0.9970072879558844\n"
     ]
    }
   ],
   "source": [
    "from sklearn.linear_model import LinearRegression\n",
    "# 1. a + bx + cx^2 + dx^3\n",
    "_size = 1000000\n",
    "x = np.clip(np.abs(np.random.randn(_size)) * np.pi/2, 0, np.pi/2)\n",
    "gt = np.cos(x)\n",
    "X = cubic(x)\n",
    "model = LinearRegression()\n",
    "model.fit(X, gt)\n",
    "print(model.coef_)\n",
    "print(model.intercept_)"
   ]
  },
  {
   "cell_type": "code",
   "execution_count": 212,
   "metadata": {},
   "outputs": [
    {
     "name": "stdout",
     "output_type": "stream",
     "text": [
      "MAX err idx 366895 value 0.0029926210732348357 rad 2.3574102242678533e-06\n",
      "[-0.00840623]  vs  [[-0.00800359 -0.79669873 -0.7011843 ]]\n"
     ]
    }
   ],
   "source": [
    "pred = model.predict(X)\n",
    "res = np.abs(pred - gt)\n",
    "idx = np.argmax(res)\n",
    "print(\"MAX err\", \"idx\", idx, \"value\", res[idx], \"rad\", X[idx,0])\n",
    "predict = cubic(np.array([[1.5788]]))\n",
    "print(model.predict(predict), \" vs \", np.cos(predict))\n"
   ]
  },
  {
   "cell_type": "code",
   "execution_count": 186,
   "metadata": {},
   "outputs": [
    {
     "data": {
      "text/plain": [
       "1.5707963267948966"
      ]
     },
     "execution_count": 186,
     "metadata": {},
     "output_type": "execute_result"
    }
   ],
   "source": [
    "np.pi/2"
   ]
  },
  {
   "cell_type": "code",
   "execution_count": 189,
   "metadata": {},
   "outputs": [],
   "source": [
    "def fast_cos(x):\n",
    "    c0 = 0.9970072879558844\n",
    "    c1 = 0.0385896\n",
    "    c2 = -0.61311836\n",
    "    c3 = 0.11737913\n",
    "    pi_2 = 1.5707963267948966\n",
    "    ax = abs(x)\n",
    "    if ax < 0.05:\n",
    "        return 1\n",
    "    if ax > pi_2:\n",
    "        _x = ax / pi_2\n",
    "        _ix = int(_x)\n",
    "        _mx = _ix % 4\n",
    "        ax = (_x - _ix) * pi_2\n",
    "        sign = 1\n",
    "        if _mx == 1:\n",
    "            ax = pi_2 - ax\n",
    "            sign = -1\n",
    "        elif _mx == 2:\n",
    "            sign = -1\n",
    "        elif _mx == 3:\n",
    "            ax = pi_2 - ax\n",
    "    return sign * (c0 + ax * (c1 + ax * (c2 + ax * c3 )))"
   ]
  },
  {
   "cell_type": "code",
   "execution_count": 208,
   "metadata": {},
   "outputs": [],
   "source": [
    "# https://en.wikipedia.org/wiki/Bhaskara_I%27s_sine_approximation_formula\n",
    "def fast_sine(x):\n",
    "    # version one\n",
    "    pi = 3.141592653589793\n",
    "    pi2 = pi * pi\n",
    "    ax = abs(x)\n",
    "    sign = 1 if x >= 0 else -1\n",
    "    if ax < 0.05:\n",
    "        return x\n",
    "    if ax > pi:\n",
    "        _x = ax / pi\n",
    "        _ix = int(_x)\n",
    "        _mx = _ix % 2\n",
    "        ax = (_x - _ix) * pi\n",
    "        sign = sign * (-1 if _mx == 1 else 1)\n",
    "    return sign * (16 * ax * (pi - ax)) / ( 5 * pi2 - 4 * ax * (pi - ax))\n"
   ]
  },
  {
   "cell_type": "code",
   "execution_count": 209,
   "metadata": {},
   "outputs": [
    {
     "name": "stdout",
     "output_type": "stream",
     "text": [
      "0.77655256622833 vs 0.7778960471964677\n"
     ]
    }
   ],
   "source": [
    "val = -2393923 + 0.23232\n",
    "print(fast_sine(val), \"vs\" , np.sin(val))"
   ]
  },
  {
   "cell_type": "code",
   "execution_count": 210,
   "metadata": {},
   "outputs": [],
   "source": [
    "def fast_sineDeg(x):\n",
    "    ax = abs(x)\n",
    "    sign = 1 if x >= 0 else -1\n",
    "    if ax < 2.86:\n",
    "        return x*3.14159265/180\n",
    "    elif ax > 180.:\n",
    "        _x = ax / 180\n",
    "        _ix = int(_x)\n",
    "        _mx = _ix % 2\n",
    "        ax = (_x - _ix) * 180\n",
    "        sign = sign * (-1 if _mx == 1 else 1)\n",
    "    return sign * (4 * ax) * (180 - ax) / (40500 - ax * (180 - ax))"
   ]
  },
  {
   "cell_type": "code",
   "execution_count": 177,
   "metadata": {},
   "outputs": [
    {
     "name": "stdout",
     "output_type": "stream",
     "text": [
      "-0.02888087235926067 vs -0.02840352588360379\n"
     ]
    }
   ],
   "source": [
    "val = 3.17\n",
    "print(fast_sine(val) ,\"vs\", np.sin(val))"
   ]
  },
  {
   "cell_type": "code",
   "execution_count": 115,
   "metadata": {},
   "outputs": [
    {
     "data": {
      "text/plain": [
       "0.017453292500000002"
      ]
     },
     "execution_count": 115,
     "metadata": {},
     "output_type": "execute_result"
    }
   ],
   "source": [
    "fast_sineDeg(1)"
   ]
  },
  {
   "cell_type": "markdown",
   "metadata": {},
   "source": [
    "# 3. Cosine"
   ]
  },
  {
   "cell_type": "code",
   "execution_count": 163,
   "metadata": {},
   "outputs": [],
   "source": [
    "def fast_cosine(x):\n",
    "    pi = 3.14159265\n",
    "    pi_2 = pi / 2\n",
    "    pi2 = pi*pi\n",
    "    ax = abs(x)\n",
    "    sign = 1 if x >= 0 else -1\n",
    "    if ax < 0.05:\n",
    "        return 1\n",
    "    elif ax > pi_2:\n",
    "        _x = ax / pi_2\n",
    "        _ix = int(_x)\n",
    "        _mx = _ix % 4\n",
    "        ax = (_x - _ix) * pi_2\n",
    "        sign = 1\n",
    "        if _mx == 1:\n",
    "            ax = pi_2 - ax\n",
    "            sign = -1\n",
    "        elif _mx == 2:\n",
    "            sign = -1\n",
    "        elif _mx == 3:\n",
    "            ax = pi_2 - ax\n",
    "        print(_x, _ix, _mx, ax, _x - _ix)\n",
    "    ax2 = ax * ax\n",
    "    return sign * (pi2 - 4 * ax2)/(pi2 + ax2)\n",
    "    "
   ]
  },
  {
   "cell_type": "code",
   "execution_count": 213,
   "metadata": {},
   "outputs": [
    {
     "name": "stdout",
     "output_type": "stream",
     "text": [
      "4.456338411665178 4 0 0.7168146999999989 0.4563384116651781\n",
      "0.7525752914431102 vs 0.7539022543433046 vs 0.7528670014882921 vs 0.7525752966917004\n"
     ]
    }
   ],
   "source": [
    "x = 7\n",
    "print(fast_cosine(x), \"vs\", np.cos(x), \"vs\", fast_cos(x), \"vs\", fast_sine(np.pi/2 - x))"
   ]
  },
  {
   "cell_type": "markdown",
   "metadata": {},
   "source": [
    "# 4. tangent"
   ]
  },
  {
   "cell_type": "code",
   "execution_count": 261,
   "metadata": {},
   "outputs": [
    {
     "name": "stdout",
     "output_type": "stream",
     "text": [
      "[-28167.94088605  34818.42234702 -19036.39933319   3885.68957825]\n",
      "8503.98611444484\n"
     ]
    }
   ],
   "source": [
    "lsize = 5000\n",
    "xl = np.linspace(1,1.55,lsize)\n",
    "gtxl = np.tan(xl)\n",
    "Xl = quart(xl) #quad(xl)\n",
    "modell = LinearRegression()\n",
    "modell.fit(Xl, gtxl)\n",
    "print(modell.coef_)\n",
    "print(modell.intercept_)"
   ]
  },
  {
   "cell_type": "code",
   "execution_count": 262,
   "metadata": {},
   "outputs": [
    {
     "name": "stdout",
     "output_type": "stream",
     "text": [
      "MAX err idx 4653 value 3.2133702601222573 rad 1.5119323864772956\n",
      "[3.45309259]  vs  [[ 2.57215162  7.60182606 -6.30868676 -1.81835207]]\n"
     ]
    }
   ],
   "source": [
    "pred = modell.predict(Xl)\n",
    "res = (pred - gtxl)\n",
    "idx = np.argmax(res)\n",
    "print(\"MAX err\", \"idx\", idx, \"value\", res[idx], \"rad\", Xl[idx,0])\n",
    "predict = quart(np.array([[1.2]]))\n",
    "print(modell.predict(predict), \" vs \", np.tan(predict))"
   ]
  },
  {
   "cell_type": "code",
   "execution_count": 263,
   "metadata": {},
   "outputs": [],
   "source": [
    "def fast_tan(x):\n",
    "    t0 = 0.0031084695854767252\n",
    "    t1 = 0.9140496\n",
    "    t2 = 0.53540681\n",
    "    t3 = -0.85751509\n",
    "    t4 = 0.9570163\n",
    "    signX = 1 if x >= 0 else -1\n",
    "    ax = abs(x)\n",
    "    if ax < 0.05:\n",
    "        return x\n",
    "    if ax > 1:\n",
    "        _x = ax / pi_2\n",
    "        _ix = int(_x)\n",
    "        _mx = _ix % 2\n",
    "        ax = (_x - _ix) * pi_2\n",
    "        if _mx == 1:\n",
    "            ax = pi_2 - ax\n",
    "            sign = -1\n",
    "        else:\n",
    "            sign = 1\n",
    "        if ax < 0.05:\n",
    "            return x\n",
    "        if ax > 1:\n",
    "            x2 = ax * ax\n",
    "            return signX * (ax * (945 - x2 * (105 - x2))) / (945 - x2 * (420 - 15 * x2))\n",
    "    return signX * (t0 + ax * (t1 + ax * (t2 + ax * t3 + ax * t4)))\n",
    "    "
   ]
  },
  {
   "cell_type": "code",
   "execution_count": 267,
   "metadata": {},
   "outputs": [
    {
     "name": "stdout",
     "output_type": "stream",
     "text": [
      "2.8849825963875264 vs 1.6197751905438615\n"
     ]
    }
   ],
   "source": [
    "x = 45\n",
    "print(fast_tan(x), \"vs\", np.tan(x))"
   ]
  },
  {
   "cell_type": "markdown",
   "metadata": {},
   "source": [
    "# 5. Arcsine"
   ]
  },
  {
   "cell_type": "code",
   "execution_count": null,
   "metadata": {},
   "outputs": [],
   "source": []
  },
  {
   "cell_type": "markdown",
   "metadata": {},
   "source": [
    "# 6. Arcosine\n"
   ]
  },
  {
   "cell_type": "code",
   "execution_count": 3,
   "metadata": {},
   "outputs": [],
   "source": [
    "import numpy as np\n",
    "import matplotlib.pylab as plt"
   ]
  },
  {
   "cell_type": "code",
   "execution_count": 13,
   "metadata": {},
   "outputs": [
    {
     "name": "stderr",
     "output_type": "stream",
     "text": [
      "C:\\Users\\takchoi\\Anaconda3\\envs\\py36\\lib\\site-packages\\ipykernel_launcher.py:2: DeprecationWarning: The binary mode of fromstring is deprecated, as it behaves surprisingly on unicode inputs. Use frombuffer instead\n",
      "  \n"
     ]
    }
   ],
   "source": [
    "dat  = open(\"diff.bin\", \"rb\").read()\n",
    "dat = np.fromstring(dat, np.float32)\n",
    "dat = dat.reshape(-1,4).T"
   ]
  },
  {
   "cell_type": "code",
   "execution_count": 14,
   "metadata": {},
   "outputs": [
    {
     "name": "stderr",
     "output_type": "stream",
     "text": [
      "C:\\Users\\takchoi\\Anaconda3\\envs\\py36\\lib\\site-packages\\ipykernel_launcher.py:1: RuntimeWarning: divide by zero encountered in log2\n",
      "  \"\"\"Entry point for launching an IPython kernel.\n"
     ]
    }
   ],
   "source": [
    "logdiff = np.log2(dat)"
   ]
  },
  {
   "cell_type": "code",
   "execution_count": 16,
   "metadata": {},
   "outputs": [],
   "source": [
    "xaxis = np.arange(4000) * 3.14 / 1000 - 3.14 * 2"
   ]
  },
  {
   "cell_type": "code",
   "execution_count": 23,
   "metadata": {},
   "outputs": [
    {
     "data": {
      "text/plain": [
       "Text(0.5, 0, 'angle(radian)')"
      ]
     },
     "execution_count": 23,
     "metadata": {},
     "output_type": "execute_result"
    },
    {
     "data": {
      "image/png": "[encoded data removed]",
      "text/plain": [
       "<Figure size 432x288 with 4 Axes>"
      ]
     },
     "metadata": {
      "needs_background": "light"
     },
     "output_type": "display_data"
    }
   ],
   "source": [
    "fig = plt.figure()\n",
    "ax = [0,0,0,0]\n",
    "name = [\"atan\", \"sin\", \"cos\", \"tan\"]\n",
    "for i in range(4):\n",
    "    ax[i]= fig.add_subplot(4,1,i+1)\n",
    "    ax[i].plot(xaxis, dat[i])\n",
    "    ax[i].set_ylabel(name[i])\n",
    "ax[3].set_xlabel('angle(radian)')"
   ]
  },
  {
   "cell_type": "code",
   "execution_count": null,
   "metadata": {},
   "outputs": [],
   "source": []
  }
 ],
 "metadata": {
  "kernelspec": {
   "display_name": "Python 3",
   "language": "python",
   "name": "python3"
  },
  "language_info": {
   "codemirror_mode": {
    "name": "ipython",
    "version": 3
   },
   "file_extension": ".py",
   "mimetype": "text/x-python",
   "name": "python",
   "nbconvert_exporter": "python",
   "pygments_lexer": "ipython3",
   "version": "3.6.8"
  }
 },
 "nbformat": 4,
 "nbformat_minor": 2
}
