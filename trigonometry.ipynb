{
 "cells": [
  {
   "cell_type": "code",
   "execution_count": 1,
   "metadata": {},
   "outputs": [],
   "source": [
    "# fast trigonometry"
   ]
  },
  {
   "cell_type": "markdown",
   "metadata": {},
   "source": [
    "# 1. Arctan"
   ]
  },
  {
   "cell_type": "code",
   "execution_count": 2,
   "metadata": {},
   "outputs": [],
   "source": [
    "import numpy as np"
   ]
  },
  {
   "cell_type": "code",
   "execution_count": 29,
   "metadata": {},
   "outputs": [],
   "source": [
    " \n",
    "def cubic(x):\n",
    "    m = x.shape[0]\n",
    "    X = np.empty((m, 3))\n",
    "    X[:,0] = x ; X[:,1] = x * x; X[:,2] = x * x * x\n",
    "    return X\n",
    "\n",
    "def quad(x):\n",
    "    m = x.shape[0]\n",
    "    X = np.empty((m, 2))\n",
    "    X[:,0] = x ; X[:,1] = x * x;\n",
    "    return X\n",
    "\n",
    "def linear(x):\n",
    "    X = np.expand_dims(x,1)\n",
    "    return X"
   ]
  },
  {
   "cell_type": "code",
   "execution_count": null,
   "metadata": {},
   "outputs": [],
   "source": []
  },
  {
   "cell_type": "code",
   "execution_count": null,
   "metadata": {},
   "outputs": [],
   "source": [
    "from sklearn.linear_model import LinearRegression\n",
    "# 1. a + bx + cx^2 + dx^3\n",
    "_size = 1000000\n",
    "x = np.clip(np.abs(np.random.randn(_size)) * np.pi, 0, np.pi)\n",
    "gt = np.arctan(x)"
   ]
  },
  {
   "cell_type": "code",
   "execution_count": 32,
   "metadata": {},
   "outputs": [
    {
     "name": "stdout",
     "output_type": "stream",
     "text": [
      "[ 1.10382257 -0.36105955  0.04400221]\n",
      "-0.00492334997743038\n"
     ]
    }
   ],
   "source": [
    "X = cubic(x)\n",
    "model = LinearRegression()\n",
    "model.fit(X, gt)\n",
    "print(model.coef_)\n",
    "print(model.intercept_)"
   ]
  },
  {
   "cell_type": "code",
   "execution_count": 41,
   "metadata": {},
   "outputs": [
    {
     "name": "stdout",
     "output_type": "stream",
     "text": [
      "MAX err idx 141589 value 0.005227865735183412 rad 1.7133812981746157\n",
      "[1.11050127]  vs  [[1.10714872 1.32581766 1.44644133]]\n"
     ]
    }
   ],
   "source": [
    "pred = model.predict(X)\n",
    "res = (pred - gt)\n",
    "idx = np.argmax(res)\n",
    "print(\"MAX err\", \"idx\", idx, \"value\", res[idx], \"rad\", X[idx,0])\n",
    "predict = cubic(np.array([[2]]))\n",
    "print(model.predict(predict), \" vs \", np.arctan(predict))\n"
   ]
  },
  {
   "cell_type": "code",
   "execution_count": 34,
   "metadata": {},
   "outputs": [],
   "source": [
    "lsize = 5000\n",
    "xl = np.linspace(5,500,lsize)\n",
    "gtxl = np.arctan(xl)"
   ]
  },
  {
   "cell_type": "code",
   "execution_count": 35,
   "metadata": {},
   "outputs": [
    {
     "name": "stdout",
     "output_type": "stream",
     "text": [
      "[ 7.65325825e-04 -2.76103373e-06  3.04822121e-09]\n",
      "1.50443794904616\n"
     ]
    }
   ],
   "source": [
    "Xl = cubic(xl) #quad(xl)\n",
    "modell = LinearRegression()\n",
    "modell.fit(Xl, gtxl)\n",
    "print(modell.coef_)\n",
    "print(modell.intercept_)"
   ]
  },
  {
   "cell_type": "code",
   "execution_count": 36,
   "metadata": {},
   "outputs": [
    {
     "name": "stdout",
     "output_type": "stream",
     "text": [
      "MAX err idx 0 value 0.13479516641067524 rad 5.0\n",
      "[1.50819593]  vs  [[1.37340077 1.53081764 1.5627965 ]]\n"
     ]
    }
   ],
   "source": [
    "pred = modell.predict(Xl)\n",
    "res = (pred - gtxl)\n",
    "idx = np.argmax(res)\n",
    "print(\"MAX err\", \"idx\", idx, \"value\", res[idx], \"rad\", Xl[idx,0])\n",
    "predict = cubic(np.array([[5]]))\n",
    "print(modell.predict(predict), \" vs \", np.arctan(predict))"
   ]
  },
  {
   "cell_type": "code",
   "execution_count": 44,
   "metadata": {},
   "outputs": [
    {
     "name": "stdout",
     "output_type": "stream",
     "text": [
      "1.4056476493802699\n",
      "1.4041296601282298\n"
     ]
    }
   ],
   "source": [
    "val = 6\n",
    "print(np.arctan(val))\n",
    "print(np.pi / 2 - 1 / val)"
   ]
  },
  {
   "cell_type": "code",
   "execution_count": 78,
   "metadata": {},
   "outputs": [],
   "source": [
    "def fast_arctan(x):\n",
    "    a0 = 1.10382257\n",
    "    a1 = -0.36105955\n",
    "    a2 = 0.04400221\n",
    "    b = -0.00492334997743038\n",
    "    sign = 1 if x >= 0 else -1\n",
    "    if (abs(x) > np.pi):\n",
    "        # https://math.stackexchange.com/questions/982838/asymptotic-approximation-of-the-arctangent/982859\n",
    "        return (sign*(np.pi / 2) - 1/x)\n",
    "    elif abs(x) < 5e-2:\n",
    "        # for small x\n",
    "        return x\n",
    "    else:\n",
    "        # by regression\n",
    "        ax = abs(x)\n",
    "        x2 = ax * ax\n",
    "        x3 = x2 * ax\n",
    "        return sign * (b + a0 * ax + a1 * x2 + a2 * x3)"
   ]
  },
  {
   "cell_type": "code",
   "execution_count": 85,
   "metadata": {},
   "outputs": [
    {
     "name": "stdout",
     "output_type": "stream",
     "text": [
      "-0.04898039418715918 vs -0.049\n"
     ]
    }
   ],
   "source": [
    "val = -0.049\n",
    "print(np.sin(val), \"vs\", fast_arctan(val))"
   ]
  },
  {
   "cell_type": "code",
   "execution_count": 86,
   "metadata": {},
   "outputs": [
    {
     "data": {
      "text/plain": [
       "3.141592653589793"
      ]
     },
     "execution_count": 86,
     "metadata": {},
     "output_type": "execute_result"
    }
   ],
   "source": [
    "np.pi"
   ]
  }
 ],
 "metadata": {
  "kernelspec": {
   "display_name": "Python 3",
   "language": "python",
   "name": "python3"
  },
  "language_info": {
   "codemirror_mode": {
    "name": "ipython",
    "version": 3
   },
   "file_extension": ".py",
   "mimetype": "text/x-python",
   "name": "python",
   "nbconvert_exporter": "python",
   "pygments_lexer": "ipython3",
   "version": "3.6.8"
  }
 },
 "nbformat": 4,
 "nbformat_minor": 2
}
